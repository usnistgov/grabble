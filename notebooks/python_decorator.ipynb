{
 "cells": [
  {
   "attachments": {},
   "cell_type": "markdown",
   "metadata": {},
   "source": [
    "# Pandas dataframe accessor: Levi graph\n",
    "## COO &rarr; matrix"
   ]
  },
  {
   "attachments": {},
   "cell_type": "markdown",
   "metadata": {},
   "source": [
    "**Keeping track:**\n",
    "- Create Levi graph (hyper graph version) with Incidence structure\n",
    "  - Incidence matrix, simple graph, edges sum to 2 --> this is always **sparse**\n",
    "- ~~Bipartite structure: matrix with entity on one index and connections on another index~~\n",
    "- Tidy graph: edgelist and edge metadata graph\n",
    "- Make sure pandas categorical works with ints\n",
    "  - in nb, ss example has index as ints, not categoricals\n",
    "  - pandas_categoricals\n",
    "- Levi pandas accessor:\n",
    "  - accessor to series, checks for multiindex categorical (this is the input)\n",
    "  - instead of pandas.sparse\n",
    "  - can control results to work with networkx etc\n",
    "- Grabble object: built out of data classes "
   ]
  },
  {
   "cell_type": "code",
   "execution_count": 1,
   "metadata": {},
   "outputs": [],
   "source": [
    "import numpy as np\n",
    "import pandas as pd\n",
    "from scipy import sparse\n",
    "import networkx as nx\n",
    "import matplotlib.pyplot as plt\n",
    "import beartype as bt"
   ]
  },
  {
   "attachments": {},
   "cell_type": "markdown",
   "metadata": {},
   "source": [
    "### Create data to use in development:\n",
    "- Token Co-occurrence matrix\n",
    "- Document-term matrix (this is an example of a bipartite structure/incidence matrix)\n",
    "- COO (format: multi-index pandas Series)\n"
   ]
  },
  {
   "cell_type": "code",
   "execution_count": 2,
   "metadata": {},
   "outputs": [],
   "source": [
    "# Create sample dataset\n",
    "\n",
    "doc_ids = [str(x) for x in range(5)]\n",
    "texts = [\n",
    "    \"the quick brown fox jumped\",\n",
    "    \"the fox jumped\",\n",
    "    \"the dog jumped\",\n",
    "    \"one brown fox\",\n",
    "    \"ten brown dogs\",\n",
    "   ]\n",
    "\n",
    "df = pd.DataFrame({'doc_id': doc_ids,\n",
    "                    'text':texts,\n",
    "                    })"
   ]
  },
  {
   "cell_type": "code",
   "execution_count": 3,
   "metadata": {},
   "outputs": [
    {
     "ename": "ModuleNotFoundError",
     "evalue": "No module named 'sklearn'",
     "output_type": "error",
     "traceback": [
      "\u001b[0;31m---------------------------------------------------------------------------\u001b[0m",
      "\u001b[0;31mModuleNotFoundError\u001b[0m                       Traceback (most recent call last)",
      "Cell \u001b[0;32mIn[3], line 1\u001b[0m\n\u001b[0;32m----> 1\u001b[0m \u001b[39mfrom\u001b[39;00m \u001b[39msklearn\u001b[39;00m\u001b[39m.\u001b[39;00m\u001b[39mfeature_extraction\u001b[39;00m\u001b[39m.\u001b[39;00m\u001b[39mtext\u001b[39;00m \u001b[39mimport\u001b[39;00m CountVectorizer\n\u001b[1;32m      3\u001b[0m cv \u001b[39m=\u001b[39m CountVectorizer(stop_words\u001b[39m=\u001b[39m[\u001b[39m'\u001b[39m\u001b[39mthe\u001b[39m\u001b[39m'\u001b[39m])\n\u001b[1;32m      4\u001b[0m cv\u001b[39m.\u001b[39mfit(df[\u001b[39m'\u001b[39m\u001b[39mtext\u001b[39m\u001b[39m'\u001b[39m])\n",
      "\u001b[0;31mModuleNotFoundError\u001b[0m: No module named 'sklearn'"
     ]
    }
   ],
   "source": [
    "from sklearn.feature_extraction.text import CountVectorizer\n",
    "\n",
    "cv = CountVectorizer(stop_words=['the'])\n",
    "cv.fit(df['text'])\n",
    "tokens = cv.get_feature_names_out()  #alphabetical"
   ]
  },
  {
   "cell_type": "code",
   "execution_count": null,
   "metadata": {},
   "outputs": [
    {
     "data": {
      "text/html": [
       "<div>\n",
       "<style scoped>\n",
       "    .dataframe tbody tr th:only-of-type {\n",
       "        vertical-align: middle;\n",
       "    }\n",
       "\n",
       "    .dataframe tbody tr th {\n",
       "        vertical-align: top;\n",
       "    }\n",
       "\n",
       "    .dataframe thead th {\n",
       "        text-align: right;\n",
       "    }\n",
       "</style>\n",
       "<table border=\"1\" class=\"dataframe\">\n",
       "  <thead>\n",
       "    <tr style=\"text-align: right;\">\n",
       "      <th></th>\n",
       "      <th>brown</th>\n",
       "      <th>dog</th>\n",
       "      <th>dogs</th>\n",
       "      <th>fox</th>\n",
       "      <th>jumped</th>\n",
       "      <th>one</th>\n",
       "      <th>quick</th>\n",
       "      <th>ten</th>\n",
       "    </tr>\n",
       "  </thead>\n",
       "  <tbody>\n",
       "    <tr>\n",
       "      <th>brown</th>\n",
       "      <td>0</td>\n",
       "      <td>0</td>\n",
       "      <td>1</td>\n",
       "      <td>2</td>\n",
       "      <td>1</td>\n",
       "      <td>1</td>\n",
       "      <td>1</td>\n",
       "      <td>1</td>\n",
       "    </tr>\n",
       "    <tr>\n",
       "      <th>dog</th>\n",
       "      <td>0</td>\n",
       "      <td>0</td>\n",
       "      <td>0</td>\n",
       "      <td>0</td>\n",
       "      <td>1</td>\n",
       "      <td>0</td>\n",
       "      <td>0</td>\n",
       "      <td>0</td>\n",
       "    </tr>\n",
       "    <tr>\n",
       "      <th>dogs</th>\n",
       "      <td>1</td>\n",
       "      <td>0</td>\n",
       "      <td>0</td>\n",
       "      <td>0</td>\n",
       "      <td>0</td>\n",
       "      <td>0</td>\n",
       "      <td>0</td>\n",
       "      <td>1</td>\n",
       "    </tr>\n",
       "    <tr>\n",
       "      <th>fox</th>\n",
       "      <td>2</td>\n",
       "      <td>0</td>\n",
       "      <td>0</td>\n",
       "      <td>0</td>\n",
       "      <td>2</td>\n",
       "      <td>1</td>\n",
       "      <td>1</td>\n",
       "      <td>0</td>\n",
       "    </tr>\n",
       "    <tr>\n",
       "      <th>jumped</th>\n",
       "      <td>1</td>\n",
       "      <td>1</td>\n",
       "      <td>0</td>\n",
       "      <td>2</td>\n",
       "      <td>0</td>\n",
       "      <td>0</td>\n",
       "      <td>1</td>\n",
       "      <td>0</td>\n",
       "    </tr>\n",
       "    <tr>\n",
       "      <th>one</th>\n",
       "      <td>1</td>\n",
       "      <td>0</td>\n",
       "      <td>0</td>\n",
       "      <td>1</td>\n",
       "      <td>0</td>\n",
       "      <td>0</td>\n",
       "      <td>0</td>\n",
       "      <td>0</td>\n",
       "    </tr>\n",
       "    <tr>\n",
       "      <th>quick</th>\n",
       "      <td>1</td>\n",
       "      <td>0</td>\n",
       "      <td>0</td>\n",
       "      <td>1</td>\n",
       "      <td>1</td>\n",
       "      <td>0</td>\n",
       "      <td>0</td>\n",
       "      <td>0</td>\n",
       "    </tr>\n",
       "    <tr>\n",
       "      <th>ten</th>\n",
       "      <td>1</td>\n",
       "      <td>0</td>\n",
       "      <td>1</td>\n",
       "      <td>0</td>\n",
       "      <td>0</td>\n",
       "      <td>0</td>\n",
       "      <td>0</td>\n",
       "      <td>0</td>\n",
       "    </tr>\n",
       "  </tbody>\n",
       "</table>\n",
       "</div>"
      ],
      "text/plain": [
       "        brown  dog  dogs  fox  jumped  one  quick  ten\n",
       "brown       0    0     1    2       1    1      1    1\n",
       "dog         0    0     0    0       1    0      0    0\n",
       "dogs        1    0     0    0       0    0      0    1\n",
       "fox         2    0     0    0       2    1      1    0\n",
       "jumped      1    1     0    2       0    0      1    0\n",
       "one         1    0     0    1       0    0      0    0\n",
       "quick       1    0     0    1       1    0      0    0\n",
       "ten         1    0     1    0       0    0      0    0"
      ]
     },
     "execution_count": 4,
     "metadata": {},
     "output_type": "execute_result"
    }
   ],
   "source": [
    "# Create cooccurence matrix\n",
    "\n",
    "results = cv.transform(df['text'])\n",
    "coocc = results.T.dot(results)\n",
    "# np.fill_diagonal(coocc.values, 0)\n",
    "coocc = pd.DataFrame(results.T.dot(results).toarray(), index=tokens, columns=tokens)\n",
    "np.fill_diagonal(coocc.values, 0)\n",
    "coocc"
   ]
  },
  {
   "cell_type": "code",
   "execution_count": null,
   "metadata": {},
   "outputs": [
    {
     "data": {
      "text/html": [
       "<div>\n",
       "<style scoped>\n",
       "    .dataframe tbody tr th:only-of-type {\n",
       "        vertical-align: middle;\n",
       "    }\n",
       "\n",
       "    .dataframe tbody tr th {\n",
       "        vertical-align: top;\n",
       "    }\n",
       "\n",
       "    .dataframe thead th {\n",
       "        text-align: right;\n",
       "    }\n",
       "</style>\n",
       "<table border=\"1\" class=\"dataframe\">\n",
       "  <thead>\n",
       "    <tr style=\"text-align: right;\">\n",
       "      <th></th>\n",
       "      <th>brown</th>\n",
       "      <th>dog</th>\n",
       "      <th>dogs</th>\n",
       "      <th>fox</th>\n",
       "      <th>jumped</th>\n",
       "      <th>one</th>\n",
       "      <th>quick</th>\n",
       "      <th>ten</th>\n",
       "      <th>cat</th>\n",
       "      <th>bear</th>\n",
       "      <th>tree</th>\n",
       "    </tr>\n",
       "  </thead>\n",
       "  <tbody>\n",
       "    <tr>\n",
       "      <th>0</th>\n",
       "      <td>1</td>\n",
       "      <td>0</td>\n",
       "      <td>0</td>\n",
       "      <td>1</td>\n",
       "      <td>1</td>\n",
       "      <td>0</td>\n",
       "      <td>1</td>\n",
       "      <td>0</td>\n",
       "      <td>0</td>\n",
       "      <td>0</td>\n",
       "      <td>0</td>\n",
       "    </tr>\n",
       "    <tr>\n",
       "      <th>1</th>\n",
       "      <td>0</td>\n",
       "      <td>0</td>\n",
       "      <td>0</td>\n",
       "      <td>1</td>\n",
       "      <td>1</td>\n",
       "      <td>0</td>\n",
       "      <td>0</td>\n",
       "      <td>0</td>\n",
       "      <td>0</td>\n",
       "      <td>0</td>\n",
       "      <td>0</td>\n",
       "    </tr>\n",
       "    <tr>\n",
       "      <th>2</th>\n",
       "      <td>0</td>\n",
       "      <td>1</td>\n",
       "      <td>0</td>\n",
       "      <td>0</td>\n",
       "      <td>1</td>\n",
       "      <td>0</td>\n",
       "      <td>0</td>\n",
       "      <td>0</td>\n",
       "      <td>0</td>\n",
       "      <td>0</td>\n",
       "      <td>0</td>\n",
       "    </tr>\n",
       "    <tr>\n",
       "      <th>3</th>\n",
       "      <td>1</td>\n",
       "      <td>0</td>\n",
       "      <td>0</td>\n",
       "      <td>1</td>\n",
       "      <td>0</td>\n",
       "      <td>1</td>\n",
       "      <td>0</td>\n",
       "      <td>0</td>\n",
       "      <td>0</td>\n",
       "      <td>0</td>\n",
       "      <td>0</td>\n",
       "    </tr>\n",
       "    <tr>\n",
       "      <th>4</th>\n",
       "      <td>1</td>\n",
       "      <td>0</td>\n",
       "      <td>1</td>\n",
       "      <td>0</td>\n",
       "      <td>0</td>\n",
       "      <td>0</td>\n",
       "      <td>0</td>\n",
       "      <td>1</td>\n",
       "      <td>0</td>\n",
       "      <td>0</td>\n",
       "      <td>0</td>\n",
       "    </tr>\n",
       "  </tbody>\n",
       "</table>\n",
       "</div>"
      ],
      "text/plain": [
       "   brown  dog  dogs  fox  jumped  one  quick  ten  cat  bear  tree\n",
       "0      1    0     0    1       1    0      1    0    0     0     0\n",
       "1      0    0     0    1       1    0      0    0    0     0     0\n",
       "2      0    1     0    0       1    0      0    0    0     0     0\n",
       "3      1    0     0    1       0    1      0    0    0     0     0\n",
       "4      1    0     1    0       0    0      0    1    0     0     0"
      ]
     },
     "execution_count": 5,
     "metadata": {},
     "output_type": "execute_result"
    }
   ],
   "source": [
    "# Create document term matrix (BIPARTITE STRUCTURE)\n",
    "\n",
    "results = cv.transform(df['text'])\n",
    "features = cv.get_feature_names_out()\n",
    "doc_term = pd.DataFrame(results.toarray(), columns=features)\n",
    "doc_term = doc_term.reindex(columns=doc_term.columns.tolist()+['cat', 'bear', 'tree'], fill_value=0)\n",
    "doc_term"
   ]
  },
  {
   "cell_type": "code",
   "execution_count": null,
   "metadata": {},
   "outputs": [
    {
     "data": {
      "text/plain": [
       "{0: 'brown',\n",
       " 1: 'dog',\n",
       " 2: 'dogs',\n",
       " 3: 'fox',\n",
       " 4: 'jumped',\n",
       " 5: 'one',\n",
       " 6: 'quick',\n",
       " 7: 'ten',\n",
       " 8: 'cat',\n",
       " 9: 'bear',\n",
       " 10: 'tree'}"
      ]
     },
     "execution_count": 6,
     "metadata": {},
     "output_type": "execute_result"
    }
   ],
   "source": [
    "# Create COO Series\n",
    "# using scipy sparse module here, but we want to avoid it in production\n",
    "coo_matrix = sparse.coo_matrix(doc_term.values)\n",
    "coo_rows = coo_matrix.row\n",
    "coo_cols = coo_matrix.col\n",
    "coo_vals = coo_matrix.data\n",
    "\n",
    "term_dict = dict(zip(range(0,11), doc_term.columns))\n",
    "term_dict"
   ]
  },
  {
   "cell_type": "code",
   "execution_count": null,
   "metadata": {},
   "outputs": [],
   "source": [
    "coo_cols = coo_cols.tolist()\n",
    "coo_col_names = [term_dict[key] for key in coo_cols]"
   ]
  },
  {
   "cell_type": "code",
   "execution_count": null,
   "metadata": {},
   "outputs": [
    {
     "data": {
      "text/html": [
       "<div>\n",
       "<style scoped>\n",
       "    .dataframe tbody tr th:only-of-type {\n",
       "        vertical-align: middle;\n",
       "    }\n",
       "\n",
       "    .dataframe tbody tr th {\n",
       "        vertical-align: top;\n",
       "    }\n",
       "\n",
       "    .dataframe thead th {\n",
       "        text-align: right;\n",
       "    }\n",
       "</style>\n",
       "<table border=\"1\" class=\"dataframe\">\n",
       "  <thead>\n",
       "    <tr style=\"text-align: right;\">\n",
       "      <th></th>\n",
       "      <th></th>\n",
       "      <th>flag</th>\n",
       "    </tr>\n",
       "  </thead>\n",
       "  <tbody>\n",
       "    <tr>\n",
       "      <th rowspan=\"4\" valign=\"top\">0</th>\n",
       "      <th>brown</th>\n",
       "      <td>1</td>\n",
       "    </tr>\n",
       "    <tr>\n",
       "      <th>fox</th>\n",
       "      <td>1</td>\n",
       "    </tr>\n",
       "    <tr>\n",
       "      <th>jumped</th>\n",
       "      <td>1</td>\n",
       "    </tr>\n",
       "    <tr>\n",
       "      <th>quick</th>\n",
       "      <td>1</td>\n",
       "    </tr>\n",
       "    <tr>\n",
       "      <th rowspan=\"2\" valign=\"top\">1</th>\n",
       "      <th>fox</th>\n",
       "      <td>1</td>\n",
       "    </tr>\n",
       "    <tr>\n",
       "      <th>jumped</th>\n",
       "      <td>1</td>\n",
       "    </tr>\n",
       "    <tr>\n",
       "      <th rowspan=\"2\" valign=\"top\">2</th>\n",
       "      <th>dog</th>\n",
       "      <td>1</td>\n",
       "    </tr>\n",
       "    <tr>\n",
       "      <th>jumped</th>\n",
       "      <td>1</td>\n",
       "    </tr>\n",
       "    <tr>\n",
       "      <th rowspan=\"3\" valign=\"top\">3</th>\n",
       "      <th>brown</th>\n",
       "      <td>1</td>\n",
       "    </tr>\n",
       "    <tr>\n",
       "      <th>fox</th>\n",
       "      <td>1</td>\n",
       "    </tr>\n",
       "    <tr>\n",
       "      <th>one</th>\n",
       "      <td>1</td>\n",
       "    </tr>\n",
       "    <tr>\n",
       "      <th rowspan=\"3\" valign=\"top\">4</th>\n",
       "      <th>brown</th>\n",
       "      <td>1</td>\n",
       "    </tr>\n",
       "    <tr>\n",
       "      <th>dogs</th>\n",
       "      <td>1</td>\n",
       "    </tr>\n",
       "    <tr>\n",
       "      <th>ten</th>\n",
       "      <td>1</td>\n",
       "    </tr>\n",
       "  </tbody>\n",
       "</table>\n",
       "</div>"
      ],
      "text/plain": [
       "          flag\n",
       "0 brown      1\n",
       "  fox        1\n",
       "  jumped     1\n",
       "  quick      1\n",
       "1 fox        1\n",
       "  jumped     1\n",
       "2 dog        1\n",
       "  jumped     1\n",
       "3 brown      1\n",
       "  fox        1\n",
       "  one        1\n",
       "4 brown      1\n",
       "  dogs       1\n",
       "  ten        1"
      ]
     },
     "execution_count": 8,
     "metadata": {},
     "output_type": "execute_result"
    }
   ],
   "source": [
    "idx=pd.MultiIndex.from_arrays([coo_matrix.row, coo_col_names])\n",
    "coo = pd.DataFrame(coo_matrix.data, index=idx, columns=[\"flag\"])\n",
    "coo"
   ]
  },
  {
   "cell_type": "code",
   "execution_count": null,
   "metadata": {},
   "outputs": [
    {
     "name": "stdout",
     "output_type": "stream",
     "text": [
      "  (0, 0)\t1\n",
      "  (0, 3)\t1\n",
      "  (0, 4)\t1\n",
      "  (0, 6)\t1\n",
      "  (1, 3)\t1\n",
      "  (1, 4)\t1\n",
      "  (2, 1)\t1\n",
      "  (2, 4)\t1\n",
      "  (3, 0)\t1\n",
      "  (3, 3)\t1\n",
      "  (3, 5)\t1\n",
      "  (4, 0)\t1\n",
      "  (4, 2)\t1\n",
      "  (4, 7)\t1\n"
     ]
    }
   ],
   "source": [
    "print(coo_matrix)"
   ]
  },
  {
   "cell_type": "code",
   "execution_count": null,
   "metadata": {},
   "outputs": [
    {
     "data": {
      "image/png": "[encoded data removed]",
      "text/plain": [
       "<Figure size 640x480 with 1 Axes>"
      ]
     },
     "metadata": {},
     "output_type": "display_data"
    }
   ],
   "source": [
    "graph = nx.algorithms.bipartite.from_biadjacency_matrix(coo_matrix)\n",
    "sets = nx.get_node_attributes(graph, name=\"bipartite\")\n",
    "colors = {0: 'gold', 1: 'lightskyblue'}\n",
    "\n",
    "nx.draw(graph, with_labels=True, node_color=[colors[node[1]['bipartite']] \n",
    "                    for node in graph.nodes(data=True)])\n"
   ]
  },
  {
   "cell_type": "code",
   "execution_count": null,
   "metadata": {},
   "outputs": [
    {
     "data": {
      "text/plain": [
       "EdgeView([(0, 5), (0, 8), (0, 9), (0, 11), (1, 8), (1, 9), (2, 6), (2, 9), (3, 5), (3, 8), (3, 10), (4, 5), (4, 7), (4, 12)])"
      ]
     },
     "execution_count": 11,
     "metadata": {},
     "output_type": "execute_result"
    }
   ],
   "source": [
    "graph.edges()"
   ]
  },
  {
   "cell_type": "code",
   "execution_count": null,
   "metadata": {},
   "outputs": [],
   "source": [
    "# tuple_list = list(zip(coo_rows, coo_col_names, coo_matrix.data))\n",
    "tuple_list = list(zip(coo_rows, coo_col_names, ))"
   ]
  },
  {
   "cell_type": "code",
   "execution_count": null,
   "metadata": {},
   "outputs": [
    {
     "data": {
      "text/plain": [
       "[(0, 'brown'),\n",
       " (0, 'fox'),\n",
       " (0, 'jumped'),\n",
       " (0, 'quick'),\n",
       " (1, 'fox'),\n",
       " (1, 'jumped'),\n",
       " (2, 'dog'),\n",
       " (2, 'jumped'),\n",
       " (3, 'brown'),\n",
       " (3, 'fox'),\n",
       " (3, 'one'),\n",
       " (4, 'brown'),\n",
       " (4, 'dogs'),\n",
       " (4, 'ten')]"
      ]
     },
     "execution_count": 13,
     "metadata": {},
     "output_type": "execute_result"
    }
   ],
   "source": [
    "tuple_list"
   ]
  },
  {
   "cell_type": "code",
   "execution_count": null,
   "metadata": {},
   "outputs": [
    {
     "ename": "NameError",
     "evalue": "name 'nx' is not defined",
     "output_type": "error",
     "traceback": [
      "\u001b[0;31m---------------------------------------------------------------------------\u001b[0m",
      "\u001b[0;31mNameError\u001b[0m                                 Traceback (most recent call last)",
      "Cell \u001b[0;32mIn[2], line 1\u001b[0m\n\u001b[0;32m----> 1\u001b[0m array_x \u001b[39m=\u001b[39m nx\u001b[39m.\u001b[39malgorithms\u001b[39m.\u001b[39mbipartite\u001b[39m.\u001b[39mbiadjacency_matrix(graph, row_order\u001b[39m=\u001b[39mtuple_list)\n\u001b[1;32m      2\u001b[0m array_x\n",
      "\u001b[0;31mNameError\u001b[0m: name 'nx' is not defined"
     ]
    }
   ],
   "source": [
    "array_x = nx.algorithms.bipartite.biadjacency_matrix(graph, row_order=tuple_list)\n",
    "array_x"
   ]
  },
  {
   "cell_type": "code",
   "execution_count": null,
   "metadata": {},
   "outputs": [],
   "source": [
    "print(graph)"
   ]
  },
  {
   "cell_type": "code",
   "execution_count": null,
   "metadata": {},
   "outputs": [],
   "source": [
    "# Make sure pandas categorical works with ints\n",
    "#   - in nb, ss example has index as ints, not categoricals\n",
    "#   - pandas_categoricals"
   ]
  },
  {
   "cell_type": "code",
   "execution_count": null,
   "metadata": {},
   "outputs": [],
   "source": [
    "from phantom import Phantom\n",
    "from phantom.predicates import Predicate\n",
    "import beartype.typing as bt\n",
    "from beartype.door import is_bearable\n"
   ]
  },
  {
   "cell_type": "code",
   "execution_count": null,
   "metadata": {},
   "outputs": [],
   "source": [
    "def of_beartype(t: bt.Union[type, bt.Tuple[type, ...]]) -> Predicate[object]:\n",
    "    \"\"\" From `phantom.predicates.generic.of_type`\n",
    "\n",
    "    Create a new predicate that succeeds when its argument is bearable on ``t``.\n",
    "    \"\"\"\n",
    "\n",
    "    def check(a: object) -> bool:\n",
    "        return is_bearable(a, t)\n",
    "\n",
    "    return check"
   ]
  },
  {
   "cell_type": "code",
   "execution_count": null,
   "metadata": {},
   "outputs": [],
   "source": [
    "# chck = of_beartype(coo)\n",
    "# chck(coo)"
   ]
  },
  {
   "cell_type": "code",
   "execution_count": null,
   "metadata": {},
   "outputs": [],
   "source": [
    "coo.unstack(level=1, )"
   ]
  },
  {
   "cell_type": "code",
   "execution_count": 4,
   "metadata": {},
   "outputs": [],
   "source": [
    "@pd.api.extensions.register_dataframe_accessor(\"levi\")   #can also be df, series, or index\n",
    "class LeviAccessor:\n",
    "    def __init__(self, pandas_obj):\n",
    "        self._validate(pandas_obj)\n",
    "        self._obj = pandas_obj\n",
    "\n",
    "    @staticmethod\n",
    "    def _validate(obj):\n",
    "        # TODO: use beartype\n",
    "        # verify there is a column latitude and a column longitude\n",
    "        if len(obj.columns) > 1:\n",
    "            raise AttributeError(\"Must have single column of flags\")  #fixme: this is just filler to get accesor to run, need to update\n",
    "    #     if \"latitude\" not in obj.columns or \"longitude\" not in obj.columns:\n",
    "    #         raise AttributeError(\"Must have 'latitude' and 'longitude'.\")\n",
    "\n",
    "    @property\n",
    "    def test_attr(self):        \n",
    "        return self._obj.iloc[0]\n",
    "    \n",
    "    @property\n",
    "    def incidence_matrix(self):\n",
    "        return self._obj.unstack(level=1, fill_value=0)\n",
    "    \n",
    "\n",
    "    # def testing(self):\n",
    "    #     # plot this array's data on a map, e.g., using Cartopy\n",
    "    #     print(self.__str__)\n",
    "    #     pass"
   ]
  },
  {
   "cell_type": "code",
   "execution_count": 5,
   "metadata": {},
   "outputs": [
    {
     "ename": "NameError",
     "evalue": "name 'coo' is not defined",
     "output_type": "error",
     "traceback": [
      "\u001b[0;31m---------------------------------------------------------------------------\u001b[0m",
      "\u001b[0;31mNameError\u001b[0m                                 Traceback (most recent call last)",
      "Cell \u001b[0;32mIn[5], line 1\u001b[0m\n\u001b[0;32m----> 1\u001b[0m coo\u001b[39m.\u001b[39mlevi\u001b[39m.\u001b[39mtest_attr\n",
      "\u001b[0;31mNameError\u001b[0m: name 'coo' is not defined"
     ]
    }
   ],
   "source": [
    "coo.levi.test_attr"
   ]
  },
  {
   "cell_type": "code",
   "execution_count": null,
   "metadata": {},
   "outputs": [
    {
     "data": {
      "text/html": [
       "<div>\n",
       "<style scoped>\n",
       "    .dataframe tbody tr th:only-of-type {\n",
       "        vertical-align: middle;\n",
       "    }\n",
       "\n",
       "    .dataframe tbody tr th {\n",
       "        vertical-align: top;\n",
       "    }\n",
       "\n",
       "    .dataframe thead tr th {\n",
       "        text-align: left;\n",
       "    }\n",
       "</style>\n",
       "<table border=\"1\" class=\"dataframe\">\n",
       "  <thead>\n",
       "    <tr>\n",
       "      <th></th>\n",
       "      <th colspan=\"8\" halign=\"left\">flag</th>\n",
       "    </tr>\n",
       "    <tr>\n",
       "      <th></th>\n",
       "      <th>brown</th>\n",
       "      <th>dog</th>\n",
       "      <th>dogs</th>\n",
       "      <th>fox</th>\n",
       "      <th>jumped</th>\n",
       "      <th>one</th>\n",
       "      <th>quick</th>\n",
       "      <th>ten</th>\n",
       "    </tr>\n",
       "  </thead>\n",
       "  <tbody>\n",
       "    <tr>\n",
       "      <th>0</th>\n",
       "      <td>1</td>\n",
       "      <td>0</td>\n",
       "      <td>0</td>\n",
       "      <td>1</td>\n",
       "      <td>1</td>\n",
       "      <td>0</td>\n",
       "      <td>1</td>\n",
       "      <td>0</td>\n",
       "    </tr>\n",
       "    <tr>\n",
       "      <th>1</th>\n",
       "      <td>0</td>\n",
       "      <td>0</td>\n",
       "      <td>0</td>\n",
       "      <td>1</td>\n",
       "      <td>1</td>\n",
       "      <td>0</td>\n",
       "      <td>0</td>\n",
       "      <td>0</td>\n",
       "    </tr>\n",
       "    <tr>\n",
       "      <th>2</th>\n",
       "      <td>0</td>\n",
       "      <td>1</td>\n",
       "      <td>0</td>\n",
       "      <td>0</td>\n",
       "      <td>1</td>\n",
       "      <td>0</td>\n",
       "      <td>0</td>\n",
       "      <td>0</td>\n",
       "    </tr>\n",
       "    <tr>\n",
       "      <th>3</th>\n",
       "      <td>1</td>\n",
       "      <td>0</td>\n",
       "      <td>0</td>\n",
       "      <td>1</td>\n",
       "      <td>0</td>\n",
       "      <td>1</td>\n",
       "      <td>0</td>\n",
       "      <td>0</td>\n",
       "    </tr>\n",
       "    <tr>\n",
       "      <th>4</th>\n",
       "      <td>1</td>\n",
       "      <td>0</td>\n",
       "      <td>1</td>\n",
       "      <td>0</td>\n",
       "      <td>0</td>\n",
       "      <td>0</td>\n",
       "      <td>0</td>\n",
       "      <td>1</td>\n",
       "    </tr>\n",
       "  </tbody>\n",
       "</table>\n",
       "</div>"
      ],
      "text/plain": [
       "   flag                                  \n",
       "  brown dog dogs fox jumped one quick ten\n",
       "0     1   0    0   1      1   0     1   0\n",
       "1     0   0    0   1      1   0     0   0\n",
       "2     0   1    0   0      1   0     0   0\n",
       "3     1   0    0   1      0   1     0   0\n",
       "4     1   0    1   0      0   0     0   1"
      ]
     },
     "execution_count": 17,
     "metadata": {},
     "output_type": "execute_result"
    }
   ],
   "source": [
    "coo.levi.incidence_matrix"
   ]
  },
  {
   "cell_type": "code",
   "execution_count": null,
   "metadata": {},
   "outputs": [],
   "source": []
  },
  {
   "cell_type": "code",
   "execution_count": null,
   "metadata": {},
   "outputs": [],
   "source": []
  }
 ],
 "metadata": {
  "kernelspec": {
   "display_name": "grabble-dev",
   "language": "python",
   "name": "python3"
  },
  "language_info": {
   "codemirror_mode": {
    "name": "ipython",
    "version": 3
   },
   "file_extension": ".py",
   "mimetype": "text/x-python",
   "name": "python",
   "nbconvert_exporter": "python",
   "pygments_lexer": "ipython3",
   "version": "3.10.10"
  },
  "orig_nbformat": 4,
  "vscode": {
   "interpreter": {
    "hash": "9790aa1abda751d56e78e6c3e29c31ec9d8582eebe2d6b10d164570a600716e7"
   }
  }
 },
 "nbformat": 4,
 "nbformat_minor": 2
}
