{
 "cells": [
  {
   "attachments": {},
   "cell_type": "markdown",
   "metadata": {},
   "source": [
    "# Pandas dataframe accessor: Levi graph\n",
    "## Transform between different graph data repressentations via a Levi graph"
   ]
  },
  {
   "cell_type": "code",
   "execution_count": 1,
   "metadata": {},
   "outputs": [],
   "source": [
    "import numpy as np\n",
    "import pandas as pd\n",
    "from scipy import sparse\n",
    "import networkx as nx\n",
    "import matplotlib.pyplot as plt\n",
    "import beartype as bt\n",
    "\n",
    "plt.rcParams['figure.dpi'] = 60"
   ]
  },
  {
   "attachments": {},
   "cell_type": "markdown",
   "metadata": {},
   "source": [
    "### Create data to use in development:\n",
    "- Token Co-occurrence matrix\n",
    "- Document-term matrix (this is an example of a bipartite structure/incidence matrix)\n",
    "- COO (format: multi-index pandas Series)\n"
   ]
  },
  {
   "cell_type": "code",
   "execution_count": 2,
   "metadata": {},
   "outputs": [],
   "source": [
    "# Create sample dataset\n",
    "\n",
    "doc_ids = [str(x) for x in range(5)]\n",
    "texts = [\n",
    "    \"the quick brown fox jumped\",\n",
    "    \"the fox jumped\",\n",
    "    \"the dog jumped\",\n",
    "    \"one brown fox\",\n",
    "    \"ten brown dogs\",\n",
    "   ]\n",
    "\n",
    "df = pd.DataFrame({'doc_id': doc_ids,\n",
    "                    'text':texts,\n",
    "                    })"
   ]
  },
  {
   "cell_type": "code",
   "execution_count": 3,
   "metadata": {},
   "outputs": [],
   "source": [
    "from sklearn.feature_extraction.text import CountVectorizer\n",
    "\n",
    "cv = CountVectorizer(stop_words=['the'])\n",
    "cv.fit(df['text'])\n",
    "tokens = cv.get_feature_names_out()  #alphabetical"
   ]
  },
  {
   "cell_type": "code",
   "execution_count": 4,
   "metadata": {},
   "outputs": [
    {
     "data": {
      "text/html": [
       "<div>\n",
       "<style scoped>\n",
       "    .dataframe tbody tr th:only-of-type {\n",
       "        vertical-align: middle;\n",
       "    }\n",
       "\n",
       "    .dataframe tbody tr th {\n",
       "        vertical-align: top;\n",
       "    }\n",
       "\n",
       "    .dataframe thead th {\n",
       "        text-align: right;\n",
       "    }\n",
       "</style>\n",
       "<table border=\"1\" class=\"dataframe\">\n",
       "  <thead>\n",
       "    <tr style=\"text-align: right;\">\n",
       "      <th></th>\n",
       "      <th>brown</th>\n",
       "      <th>dog</th>\n",
       "      <th>dogs</th>\n",
       "      <th>fox</th>\n",
       "      <th>jumped</th>\n",
       "      <th>one</th>\n",
       "      <th>quick</th>\n",
       "      <th>ten</th>\n",
       "    </tr>\n",
       "  </thead>\n",
       "  <tbody>\n",
       "    <tr>\n",
       "      <th>brown</th>\n",
       "      <td>0</td>\n",
       "      <td>0</td>\n",
       "      <td>1</td>\n",
       "      <td>2</td>\n",
       "      <td>1</td>\n",
       "      <td>1</td>\n",
       "      <td>1</td>\n",
       "      <td>1</td>\n",
       "    </tr>\n",
       "    <tr>\n",
       "      <th>dog</th>\n",
       "      <td>0</td>\n",
       "      <td>0</td>\n",
       "      <td>0</td>\n",
       "      <td>0</td>\n",
       "      <td>1</td>\n",
       "      <td>0</td>\n",
       "      <td>0</td>\n",
       "      <td>0</td>\n",
       "    </tr>\n",
       "    <tr>\n",
       "      <th>dogs</th>\n",
       "      <td>1</td>\n",
       "      <td>0</td>\n",
       "      <td>0</td>\n",
       "      <td>0</td>\n",
       "      <td>0</td>\n",
       "      <td>0</td>\n",
       "      <td>0</td>\n",
       "      <td>1</td>\n",
       "    </tr>\n",
       "    <tr>\n",
       "      <th>fox</th>\n",
       "      <td>2</td>\n",
       "      <td>0</td>\n",
       "      <td>0</td>\n",
       "      <td>0</td>\n",
       "      <td>2</td>\n",
       "      <td>1</td>\n",
       "      <td>1</td>\n",
       "      <td>0</td>\n",
       "    </tr>\n",
       "    <tr>\n",
       "      <th>jumped</th>\n",
       "      <td>1</td>\n",
       "      <td>1</td>\n",
       "      <td>0</td>\n",
       "      <td>2</td>\n",
       "      <td>0</td>\n",
       "      <td>0</td>\n",
       "      <td>1</td>\n",
       "      <td>0</td>\n",
       "    </tr>\n",
       "    <tr>\n",
       "      <th>one</th>\n",
       "      <td>1</td>\n",
       "      <td>0</td>\n",
       "      <td>0</td>\n",
       "      <td>1</td>\n",
       "      <td>0</td>\n",
       "      <td>0</td>\n",
       "      <td>0</td>\n",
       "      <td>0</td>\n",
       "    </tr>\n",
       "    <tr>\n",
       "      <th>quick</th>\n",
       "      <td>1</td>\n",
       "      <td>0</td>\n",
       "      <td>0</td>\n",
       "      <td>1</td>\n",
       "      <td>1</td>\n",
       "      <td>0</td>\n",
       "      <td>0</td>\n",
       "      <td>0</td>\n",
       "    </tr>\n",
       "    <tr>\n",
       "      <th>ten</th>\n",
       "      <td>1</td>\n",
       "      <td>0</td>\n",
       "      <td>1</td>\n",
       "      <td>0</td>\n",
       "      <td>0</td>\n",
       "      <td>0</td>\n",
       "      <td>0</td>\n",
       "      <td>0</td>\n",
       "    </tr>\n",
       "  </tbody>\n",
       "</table>\n",
       "</div>"
      ],
      "text/plain": [
       "        brown  dog  dogs  fox  jumped  one  quick  ten\n",
       "brown       0    0     1    2       1    1      1    1\n",
       "dog         0    0     0    0       1    0      0    0\n",
       "dogs        1    0     0    0       0    0      0    1\n",
       "fox         2    0     0    0       2    1      1    0\n",
       "jumped      1    1     0    2       0    0      1    0\n",
       "one         1    0     0    1       0    0      0    0\n",
       "quick       1    0     0    1       1    0      0    0\n",
       "ten         1    0     1    0       0    0      0    0"
      ]
     },
     "execution_count": 4,
     "metadata": {},
     "output_type": "execute_result"
    }
   ],
   "source": [
    "# Create cooccurence matrix\n",
    "\n",
    "results = cv.transform(df['text'])\n",
    "coocc = results.T.dot(results)\n",
    "# np.fill_diagonal(coocc.values, 0)\n",
    "coocc = pd.DataFrame(results.T.dot(results).toarray(), index=tokens, columns=tokens)\n",
    "np.fill_diagonal(coocc.values, 0)\n",
    "coocc"
   ]
  },
  {
   "cell_type": "code",
   "execution_count": 5,
   "metadata": {},
   "outputs": [
    {
     "data": {
      "text/html": [
       "<div>\n",
       "<style scoped>\n",
       "    .dataframe tbody tr th:only-of-type {\n",
       "        vertical-align: middle;\n",
       "    }\n",
       "\n",
       "    .dataframe tbody tr th {\n",
       "        vertical-align: top;\n",
       "    }\n",
       "\n",
       "    .dataframe thead th {\n",
       "        text-align: right;\n",
       "    }\n",
       "</style>\n",
       "<table border=\"1\" class=\"dataframe\">\n",
       "  <thead>\n",
       "    <tr style=\"text-align: right;\">\n",
       "      <th></th>\n",
       "      <th>brown</th>\n",
       "      <th>dog</th>\n",
       "      <th>dogs</th>\n",
       "      <th>fox</th>\n",
       "      <th>jumped</th>\n",
       "      <th>one</th>\n",
       "      <th>quick</th>\n",
       "      <th>ten</th>\n",
       "      <th>cat</th>\n",
       "      <th>bear</th>\n",
       "      <th>tree</th>\n",
       "    </tr>\n",
       "  </thead>\n",
       "  <tbody>\n",
       "    <tr>\n",
       "      <th>0</th>\n",
       "      <td>1</td>\n",
       "      <td>0</td>\n",
       "      <td>0</td>\n",
       "      <td>1</td>\n",
       "      <td>1</td>\n",
       "      <td>0</td>\n",
       "      <td>1</td>\n",
       "      <td>0</td>\n",
       "      <td>0</td>\n",
       "      <td>0</td>\n",
       "      <td>0</td>\n",
       "    </tr>\n",
       "    <tr>\n",
       "      <th>1</th>\n",
       "      <td>0</td>\n",
       "      <td>0</td>\n",
       "      <td>0</td>\n",
       "      <td>1</td>\n",
       "      <td>1</td>\n",
       "      <td>0</td>\n",
       "      <td>0</td>\n",
       "      <td>0</td>\n",
       "      <td>0</td>\n",
       "      <td>0</td>\n",
       "      <td>0</td>\n",
       "    </tr>\n",
       "    <tr>\n",
       "      <th>2</th>\n",
       "      <td>0</td>\n",
       "      <td>1</td>\n",
       "      <td>0</td>\n",
       "      <td>0</td>\n",
       "      <td>1</td>\n",
       "      <td>0</td>\n",
       "      <td>0</td>\n",
       "      <td>0</td>\n",
       "      <td>0</td>\n",
       "      <td>0</td>\n",
       "      <td>0</td>\n",
       "    </tr>\n",
       "    <tr>\n",
       "      <th>3</th>\n",
       "      <td>1</td>\n",
       "      <td>0</td>\n",
       "      <td>0</td>\n",
       "      <td>1</td>\n",
       "      <td>0</td>\n",
       "      <td>1</td>\n",
       "      <td>0</td>\n",
       "      <td>0</td>\n",
       "      <td>0</td>\n",
       "      <td>0</td>\n",
       "      <td>0</td>\n",
       "    </tr>\n",
       "    <tr>\n",
       "      <th>4</th>\n",
       "      <td>1</td>\n",
       "      <td>0</td>\n",
       "      <td>1</td>\n",
       "      <td>0</td>\n",
       "      <td>0</td>\n",
       "      <td>0</td>\n",
       "      <td>0</td>\n",
       "      <td>1</td>\n",
       "      <td>0</td>\n",
       "      <td>0</td>\n",
       "      <td>0</td>\n",
       "    </tr>\n",
       "  </tbody>\n",
       "</table>\n",
       "</div>"
      ],
      "text/plain": [
       "   brown  dog  dogs  fox  jumped  one  quick  ten  cat  bear  tree\n",
       "0      1    0     0    1       1    0      1    0    0     0     0\n",
       "1      0    0     0    1       1    0      0    0    0     0     0\n",
       "2      0    1     0    0       1    0      0    0    0     0     0\n",
       "3      1    0     0    1       0    1      0    0    0     0     0\n",
       "4      1    0     1    0       0    0      0    1    0     0     0"
      ]
     },
     "execution_count": 5,
     "metadata": {},
     "output_type": "execute_result"
    }
   ],
   "source": [
    "# Create document term matrix (BIPARTITE STRUCTURE)\n",
    "\n",
    "results = cv.transform(df['text'])\n",
    "features = cv.get_feature_names_out()\n",
    "doc_term = pd.DataFrame(results.toarray(), columns=features)\n",
    "doc_term = doc_term.reindex(columns=doc_term.columns.tolist()+['cat', 'bear', 'tree'], fill_value=0)\n",
    "doc_term"
   ]
  },
  {
   "cell_type": "code",
   "execution_count": 6,
   "metadata": {},
   "outputs": [
    {
     "data": {
      "text/plain": [
       "{0: 'brown',\n",
       " 1: 'dog',\n",
       " 2: 'dogs',\n",
       " 3: 'fox',\n",
       " 4: 'jumped',\n",
       " 5: 'one',\n",
       " 6: 'quick',\n",
       " 7: 'ten',\n",
       " 8: 'cat',\n",
       " 9: 'bear',\n",
       " 10: 'tree'}"
      ]
     },
     "execution_count": 6,
     "metadata": {},
     "output_type": "execute_result"
    }
   ],
   "source": [
    "# Create COO Dataframe\n",
    "# using scipy sparse module here, but we want to avoid it in production\n",
    "coo_matrix = sparse.coo_matrix(doc_term.values)\n",
    "coo_rows = coo_matrix.row\n",
    "coo_cols = coo_matrix.col\n",
    "coo_vals = coo_matrix.data\n",
    "\n",
    "term_dict = dict(zip(range(0,11), doc_term.columns))\n",
    "term_dict"
   ]
  },
  {
   "cell_type": "code",
   "execution_count": 7,
   "metadata": {},
   "outputs": [],
   "source": [
    "coo_cols = coo_cols.tolist()\n",
    "coo_col_names = [term_dict[key] for key in coo_cols]"
   ]
  },
  {
   "cell_type": "code",
   "execution_count": 8,
   "metadata": {},
   "outputs": [
    {
     "data": {
      "text/html": [
       "<div>\n",
       "<style scoped>\n",
       "    .dataframe tbody tr th:only-of-type {\n",
       "        vertical-align: middle;\n",
       "    }\n",
       "\n",
       "    .dataframe tbody tr th {\n",
       "        vertical-align: top;\n",
       "    }\n",
       "\n",
       "    .dataframe thead th {\n",
       "        text-align: right;\n",
       "    }\n",
       "</style>\n",
       "<table border=\"1\" class=\"dataframe\">\n",
       "  <thead>\n",
       "    <tr style=\"text-align: right;\">\n",
       "      <th></th>\n",
       "      <th></th>\n",
       "      <th>flag</th>\n",
       "    </tr>\n",
       "  </thead>\n",
       "  <tbody>\n",
       "    <tr>\n",
       "      <th rowspan=\"4\" valign=\"top\">0</th>\n",
       "      <th>brown</th>\n",
       "      <td>1</td>\n",
       "    </tr>\n",
       "    <tr>\n",
       "      <th>fox</th>\n",
       "      <td>1</td>\n",
       "    </tr>\n",
       "    <tr>\n",
       "      <th>jumped</th>\n",
       "      <td>1</td>\n",
       "    </tr>\n",
       "    <tr>\n",
       "      <th>quick</th>\n",
       "      <td>1</td>\n",
       "    </tr>\n",
       "    <tr>\n",
       "      <th rowspan=\"2\" valign=\"top\">1</th>\n",
       "      <th>fox</th>\n",
       "      <td>1</td>\n",
       "    </tr>\n",
       "    <tr>\n",
       "      <th>jumped</th>\n",
       "      <td>1</td>\n",
       "    </tr>\n",
       "    <tr>\n",
       "      <th rowspan=\"2\" valign=\"top\">2</th>\n",
       "      <th>dog</th>\n",
       "      <td>1</td>\n",
       "    </tr>\n",
       "    <tr>\n",
       "      <th>jumped</th>\n",
       "      <td>1</td>\n",
       "    </tr>\n",
       "    <tr>\n",
       "      <th rowspan=\"3\" valign=\"top\">3</th>\n",
       "      <th>brown</th>\n",
       "      <td>1</td>\n",
       "    </tr>\n",
       "    <tr>\n",
       "      <th>fox</th>\n",
       "      <td>1</td>\n",
       "    </tr>\n",
       "    <tr>\n",
       "      <th>one</th>\n",
       "      <td>1</td>\n",
       "    </tr>\n",
       "    <tr>\n",
       "      <th rowspan=\"3\" valign=\"top\">4</th>\n",
       "      <th>brown</th>\n",
       "      <td>1</td>\n",
       "    </tr>\n",
       "    <tr>\n",
       "      <th>dogs</th>\n",
       "      <td>1</td>\n",
       "    </tr>\n",
       "    <tr>\n",
       "      <th>ten</th>\n",
       "      <td>1</td>\n",
       "    </tr>\n",
       "  </tbody>\n",
       "</table>\n",
       "</div>"
      ],
      "text/plain": [
       "          flag\n",
       "0 brown      1\n",
       "  fox        1\n",
       "  jumped     1\n",
       "  quick      1\n",
       "1 fox        1\n",
       "  jumped     1\n",
       "2 dog        1\n",
       "  jumped     1\n",
       "3 brown      1\n",
       "  fox        1\n",
       "  one        1\n",
       "4 brown      1\n",
       "  dogs       1\n",
       "  ten        1"
      ]
     },
     "execution_count": 8,
     "metadata": {},
     "output_type": "execute_result"
    }
   ],
   "source": [
    "idx=pd.MultiIndex.from_arrays([coo_matrix.row, coo_col_names])\n",
    "coo = pd.DataFrame(coo_matrix.data, index=idx, columns=[\"flag\"])\n",
    "coo"
   ]
  },
  {
   "cell_type": "code",
   "execution_count": 9,
   "metadata": {},
   "outputs": [
    {
     "data": {
      "text/plain": [
       "0  brown     1\n",
       "   fox       1\n",
       "   jumped    1\n",
       "   quick     1\n",
       "1  fox       1\n",
       "   jumped    1\n",
       "2  dog       1\n",
       "   jumped    1\n",
       "3  brown     1\n",
       "   fox       1\n",
       "   one       1\n",
       "4  brown     1\n",
       "   dogs      1\n",
       "   ten       1\n",
       "Name: flag, dtype: int64"
      ]
     },
     "execution_count": 9,
     "metadata": {},
     "output_type": "execute_result"
    }
   ],
   "source": [
    "levi_series = coo.squeeze()\n",
    "levi_series"
   ]
  },
  {
   "cell_type": "code",
   "execution_count": 10,
   "metadata": {},
   "outputs": [
    {
     "data": {
      "text/html": [
       "<div>\n",
       "<style scoped>\n",
       "    .dataframe tbody tr th:only-of-type {\n",
       "        vertical-align: middle;\n",
       "    }\n",
       "\n",
       "    .dataframe tbody tr th {\n",
       "        vertical-align: top;\n",
       "    }\n",
       "\n",
       "    .dataframe thead th {\n",
       "        text-align: right;\n",
       "    }\n",
       "</style>\n",
       "<table border=\"1\" class=\"dataframe\">\n",
       "  <thead>\n",
       "    <tr style=\"text-align: right;\">\n",
       "      <th></th>\n",
       "      <th>doc</th>\n",
       "      <th>term</th>\n",
       "      <th>flag</th>\n",
       "    </tr>\n",
       "  </thead>\n",
       "  <tbody>\n",
       "    <tr>\n",
       "      <th>0</th>\n",
       "      <td>0</td>\n",
       "      <td>brown</td>\n",
       "      <td>1</td>\n",
       "    </tr>\n",
       "    <tr>\n",
       "      <th>1</th>\n",
       "      <td>0</td>\n",
       "      <td>fox</td>\n",
       "      <td>1</td>\n",
       "    </tr>\n",
       "    <tr>\n",
       "      <th>2</th>\n",
       "      <td>0</td>\n",
       "      <td>jumped</td>\n",
       "      <td>1</td>\n",
       "    </tr>\n",
       "    <tr>\n",
       "      <th>3</th>\n",
       "      <td>0</td>\n",
       "      <td>quick</td>\n",
       "      <td>1</td>\n",
       "    </tr>\n",
       "    <tr>\n",
       "      <th>4</th>\n",
       "      <td>1</td>\n",
       "      <td>fox</td>\n",
       "      <td>1</td>\n",
       "    </tr>\n",
       "    <tr>\n",
       "      <th>5</th>\n",
       "      <td>1</td>\n",
       "      <td>jumped</td>\n",
       "      <td>1</td>\n",
       "    </tr>\n",
       "    <tr>\n",
       "      <th>6</th>\n",
       "      <td>2</td>\n",
       "      <td>dog</td>\n",
       "      <td>1</td>\n",
       "    </tr>\n",
       "    <tr>\n",
       "      <th>7</th>\n",
       "      <td>2</td>\n",
       "      <td>jumped</td>\n",
       "      <td>1</td>\n",
       "    </tr>\n",
       "    <tr>\n",
       "      <th>8</th>\n",
       "      <td>3</td>\n",
       "      <td>brown</td>\n",
       "      <td>1</td>\n",
       "    </tr>\n",
       "    <tr>\n",
       "      <th>9</th>\n",
       "      <td>3</td>\n",
       "      <td>fox</td>\n",
       "      <td>1</td>\n",
       "    </tr>\n",
       "    <tr>\n",
       "      <th>10</th>\n",
       "      <td>3</td>\n",
       "      <td>one</td>\n",
       "      <td>1</td>\n",
       "    </tr>\n",
       "    <tr>\n",
       "      <th>11</th>\n",
       "      <td>4</td>\n",
       "      <td>brown</td>\n",
       "      <td>1</td>\n",
       "    </tr>\n",
       "    <tr>\n",
       "      <th>12</th>\n",
       "      <td>4</td>\n",
       "      <td>dogs</td>\n",
       "      <td>1</td>\n",
       "    </tr>\n",
       "    <tr>\n",
       "      <th>13</th>\n",
       "      <td>4</td>\n",
       "      <td>ten</td>\n",
       "      <td>1</td>\n",
       "    </tr>\n",
       "  </tbody>\n",
       "</table>\n",
       "</div>"
      ],
      "text/plain": [
       "    doc    term  flag\n",
       "0     0   brown     1\n",
       "1     0     fox     1\n",
       "2     0  jumped     1\n",
       "3     0   quick     1\n",
       "4     1     fox     1\n",
       "5     1  jumped     1\n",
       "6     2     dog     1\n",
       "7     2  jumped     1\n",
       "8     3   brown     1\n",
       "9     3     fox     1\n",
       "10    3     one     1\n",
       "11    4   brown     1\n",
       "12    4    dogs     1\n",
       "13    4     ten     1"
      ]
     },
     "execution_count": 10,
     "metadata": {},
     "output_type": "execute_result"
    }
   ],
   "source": [
    "# developing Levi to edgelist:\n",
    "\n",
    "def to_edgelist(levi_series, level_0=\"level_0\", level_1=\"level_1\"):\n",
    "    return levi_series.reset_index().rename(columns={\"level_0\": level_0, \"level_1\": level_1})\n",
    "\n",
    "# TODO: able to rename \"flag\" column\n",
    "\n",
    "el = to_edgelist(levi_series, level_0=\"doc\", level_1=\"term\")\n",
    "el"
   ]
  },
  {
   "cell_type": "code",
   "execution_count": 11,
   "metadata": {},
   "outputs": [
    {
     "name": "stdout",
     "output_type": "stream",
     "text": [
      "new\n"
     ]
    },
    {
     "name": "stderr",
     "output_type": "stream",
     "text": [
      "/Users/amc8/grabble/notebooks/levi/__init__.py:12: TqdmExperimentalWarning: Using `tqdm.autonotebook.tqdm` in notebook mode. Use `tqdm.tqdm` instead to force console mode (e.g. in jupyter console)\n",
      "  from tqdm.autonotebook import tqdm\n"
     ]
    },
    {
     "data": {
      "text/html": [
       "<div>\n",
       "<style scoped>\n",
       "    .dataframe tbody tr th:only-of-type {\n",
       "        vertical-align: middle;\n",
       "    }\n",
       "\n",
       "    .dataframe tbody tr th {\n",
       "        vertical-align: top;\n",
       "    }\n",
       "\n",
       "    .dataframe thead th {\n",
       "        text-align: right;\n",
       "    }\n",
       "</style>\n",
       "<table border=\"1\" class=\"dataframe\">\n",
       "  <thead>\n",
       "    <tr style=\"text-align: right;\">\n",
       "      <th></th>\n",
       "      <th>doc</th>\n",
       "      <th>term</th>\n",
       "      <th>flag</th>\n",
       "    </tr>\n",
       "  </thead>\n",
       "  <tbody>\n",
       "    <tr>\n",
       "      <th>0</th>\n",
       "      <td>0</td>\n",
       "      <td>brown</td>\n",
       "      <td>1</td>\n",
       "    </tr>\n",
       "    <tr>\n",
       "      <th>1</th>\n",
       "      <td>0</td>\n",
       "      <td>fox</td>\n",
       "      <td>1</td>\n",
       "    </tr>\n",
       "    <tr>\n",
       "      <th>2</th>\n",
       "      <td>0</td>\n",
       "      <td>jumped</td>\n",
       "      <td>1</td>\n",
       "    </tr>\n",
       "    <tr>\n",
       "      <th>3</th>\n",
       "      <td>0</td>\n",
       "      <td>quick</td>\n",
       "      <td>1</td>\n",
       "    </tr>\n",
       "    <tr>\n",
       "      <th>4</th>\n",
       "      <td>1</td>\n",
       "      <td>fox</td>\n",
       "      <td>1</td>\n",
       "    </tr>\n",
       "    <tr>\n",
       "      <th>5</th>\n",
       "      <td>1</td>\n",
       "      <td>jumped</td>\n",
       "      <td>1</td>\n",
       "    </tr>\n",
       "    <tr>\n",
       "      <th>6</th>\n",
       "      <td>2</td>\n",
       "      <td>dog</td>\n",
       "      <td>1</td>\n",
       "    </tr>\n",
       "    <tr>\n",
       "      <th>7</th>\n",
       "      <td>2</td>\n",
       "      <td>jumped</td>\n",
       "      <td>1</td>\n",
       "    </tr>\n",
       "    <tr>\n",
       "      <th>8</th>\n",
       "      <td>3</td>\n",
       "      <td>brown</td>\n",
       "      <td>1</td>\n",
       "    </tr>\n",
       "    <tr>\n",
       "      <th>9</th>\n",
       "      <td>3</td>\n",
       "      <td>fox</td>\n",
       "      <td>1</td>\n",
       "    </tr>\n",
       "    <tr>\n",
       "      <th>10</th>\n",
       "      <td>3</td>\n",
       "      <td>one</td>\n",
       "      <td>1</td>\n",
       "    </tr>\n",
       "    <tr>\n",
       "      <th>11</th>\n",
       "      <td>4</td>\n",
       "      <td>brown</td>\n",
       "      <td>1</td>\n",
       "    </tr>\n",
       "    <tr>\n",
       "      <th>12</th>\n",
       "      <td>4</td>\n",
       "      <td>dogs</td>\n",
       "      <td>1</td>\n",
       "    </tr>\n",
       "    <tr>\n",
       "      <th>13</th>\n",
       "      <td>4</td>\n",
       "      <td>ten</td>\n",
       "      <td>1</td>\n",
       "    </tr>\n",
       "  </tbody>\n",
       "</table>\n",
       "</div>"
      ],
      "text/plain": [
       "    doc    term  flag\n",
       "0     0   brown     1\n",
       "1     0     fox     1\n",
       "2     0  jumped     1\n",
       "3     0   quick     1\n",
       "4     1     fox     1\n",
       "5     1  jumped     1\n",
       "6     2     dog     1\n",
       "7     2  jumped     1\n",
       "8     3   brown     1\n",
       "9     3     fox     1\n",
       "10    3     one     1\n",
       "11    4   brown     1\n",
       "12    4    dogs     1\n",
       "13    4     ten     1"
      ]
     },
     "execution_count": 11,
     "metadata": {},
     "output_type": "execute_result"
    }
   ],
   "source": [
    "from levi import dataframe, series\n",
    "# levi_df = levi_series.to_frame()\n",
    "levi_series.levi.to_edgelist(level_0=\"doc\", level_1=\"term\")"
   ]
  },
  {
   "cell_type": "code",
   "execution_count": null,
   "metadata": {},
   "outputs": [],
   "source": [
    "edgelist = coo.reset_index(names=[\"doc\", \"term\"])\n",
    "edgelist"
   ]
  },
  {
   "cell_type": "code",
   "execution_count": null,
   "metadata": {},
   "outputs": [],
   "source": [
    "coo.squeeze()"
   ]
  },
  {
   "cell_type": "code",
   "execution_count": null,
   "metadata": {},
   "outputs": [],
   "source": [
    "print(coo_matrix)  #scipy sparse format"
   ]
  },
  {
   "cell_type": "code",
   "execution_count": null,
   "metadata": {},
   "outputs": [],
   "source": [
    "def edgelist_to_incidence(edgelist, node_colname, value_colname=None):\n",
    "    \"\"\"assume edgelist is indexed by edge number, not some edge set of names (for now)\"\"\"\n",
    "    data = np.ones_like(edgelist.index.values) if value_colname == None else edgelist[value_colname].values\n",
    "    return sparse.coo_array((data, (edgelist.index, edgelist[node_colname].cat.codes)), shape=(edgelist.shape[0], len(edgelist[node_colname].cat.categories)))  # coo_array((data, (row_idx, col_idx)))"
   ]
  },
  {
   "cell_type": "code",
   "execution_count": null,
   "metadata": {},
   "outputs": [],
   "source": [
    "edgelist.dtypes"
   ]
  },
  {
   "cell_type": "code",
   "execution_count": null,
   "metadata": {},
   "outputs": [],
   "source": [
    "edgelist['doc'] = pd.Categorical(edgelist.doc)\n",
    "edgelist['term'] = pd.Categorical(edgelist.term)"
   ]
  },
  {
   "cell_type": "code",
   "execution_count": null,
   "metadata": {},
   "outputs": [],
   "source": [
    "edgelist"
   ]
  },
  {
   "cell_type": "code",
   "execution_count": null,
   "metadata": {},
   "outputs": [],
   "source": [
    "inc = edgelist_to_incidence(edgelist, node_colname='term')\n",
    "print(inc)"
   ]
  },
  {
   "cell_type": "code",
   "execution_count": null,
   "metadata": {},
   "outputs": [],
   "source": [
    "inc_frame = pd.DataFrame(inc.data, index=edgelist)\n",
    "inc_frame"
   ]
  },
  {
   "cell_type": "code",
   "execution_count": null,
   "metadata": {},
   "outputs": [],
   "source": [
    "from levi import dataframe\n",
    "\n",
    "doc_term.levi.test_attr"
   ]
  },
  {
   "cell_type": "code",
   "execution_count": null,
   "metadata": {},
   "outputs": [],
   "source": [
    "# tuple_list = list(zip(coo_rows, coo_col_names, coo_matrix.data))\n",
    "tuple_list = list(zip(coo_rows, coo_col_names, ))\n",
    "tuple_list_w_data = [(*t, 1) for t in tuple_list]"
   ]
  },
  {
   "cell_type": "code",
   "execution_count": null,
   "metadata": {},
   "outputs": [],
   "source": [
    "import itertools\n",
    "row_index = dict(zip(tuple_list_w_data, itertools.count()))\n",
    "row_index"
   ]
  },
  {
   "cell_type": "code",
   "execution_count": null,
   "metadata": {},
   "outputs": [],
   "source": [
    "# array_x = nx.algorithms.bipartite.biadjacency_matrix(graph, row_order=tuple_list_w_data)\n",
    "# array_x"
   ]
  },
  {
   "cell_type": "code",
   "execution_count": null,
   "metadata": {},
   "outputs": [],
   "source": [
    "# Make sure pandas categorical works with ints\n",
    "#   - in nb, ss example has index as ints, not categoricals\n",
    "#   - pandas_categoricals"
   ]
  },
  {
   "cell_type": "code",
   "execution_count": null,
   "metadata": {},
   "outputs": [],
   "source": [
    "from phantom import Phantom\n",
    "from phantom.predicates import Predicate\n",
    "import beartype.typing as bt\n",
    "from beartype.door import is_bearable\n"
   ]
  },
  {
   "cell_type": "code",
   "execution_count": null,
   "metadata": {},
   "outputs": [],
   "source": [
    "def of_beartype(t: bt.Union[type, bt.Tuple[type, ...]]) -> Predicate[object]:\n",
    "    \"\"\" From `phantom.predicates.generic.of_type`\n",
    "\n",
    "    Create a new predicate that succeeds when its argument is bearable on ``t``.\n",
    "    \"\"\"\n",
    "\n",
    "    def check(a: object) -> bool:\n",
    "        return is_bearable(a, t)\n",
    "\n",
    "    return check"
   ]
  },
  {
   "cell_type": "code",
   "execution_count": null,
   "metadata": {},
   "outputs": [],
   "source": [
    "# chck = of_beartype(coo)\n",
    "# chck(coo)"
   ]
  },
  {
   "cell_type": "code",
   "execution_count": null,
   "metadata": {},
   "outputs": [],
   "source": [
    "coo.unstack(level=1, )"
   ]
  },
  {
   "cell_type": "code",
   "execution_count": null,
   "metadata": {},
   "outputs": [],
   "source": [
    "type(coocc)"
   ]
  },
  {
   "cell_type": "code",
   "execution_count": null,
   "metadata": {},
   "outputs": [],
   "source": [
    "import levi\n",
    "\n",
    "coo.levi"
   ]
  },
  {
   "cell_type": "code",
   "execution_count": null,
   "metadata": {},
   "outputs": [],
   "source": [
    "def affinity_to_edge(source_name,  # type: str\n",
    "    target_name,  # type: str\n",
    "    affinity,  # type: DF\n",
    "    value_name=None  # type: Optional[str]\n",
    "    ):\n",
    "# type: (...) -> DF\n",
    "    \"\"\"DEPRECATED\"\"\"\n",
    "    return (affinity.reset_index().melt(source_name, value_name=value_name, var_name=target_name).query('weight>0'))\n",
    "\n",
    "\n",
    "def biadjacency_to_edgelist(affinity, value_name='weight'):\n",
    "    \"\"\"assumes affinity/biadj. matrix with named, categorical dtype col/idx\"\"\"\n",
    "    return (affinity.melt(ignore_index=False, value_name=value_name).reset_index().astype(dict(((i.name), (i.dtype)) for i in (affinity.index, affinity.columns))))\n",
    "\n",
    "\n",
    "def edgelist_to_incidence(edgelist, node_colname, value_colname=None):\n",
    "    \"\"\"assume edgelist is indexed by edge number, not some edge set of names (for now)\"\"\"\n",
    "    data = np.ones_like(edgelist.index.values) if value_colname == None else edgelist[value_colname].values\n",
    "    return coo_array((data, (edgelist.index, edgelist[node_colname].cat.codes)), shape=(edgelist.shape[0], len(edgelist[node_colname].cat.categories)))  # coo_array((data, (row_idx, col_idx)))\n",
    "\n",
    "\n",
    "def n_to_m_assignment(affinity, max_review, max_assign=None, bp_value_name='weight'):\n",
    "\n",
    "    n_idx, n_col = affinity.shape\n",
    "    max_assign = ((ident)((math.ceil)(n_idx * max_review / n_col), side_effect=lambda _=None: print('max assigments per reviewer: {_coconut_format_0}'.format(_coconut_format_0=(_))))) if max_assign is None else max_assign\n",
    "\n",
    "    edgelist = (biadjacency_to_edgelist)(affinity, value_name=bp_value_name)\n",
    "    Eidx = edgelist_to_incidence(edgelist, affinity.index.name).T\n",
    "    Ecol = edgelist_to_incidence(edgelist, affinity.columns.name).T\n",
    "\n",
    "    K = vstack((Eidx, Ecol))\n",
    "    m = K.sum(axis=0) + 1e-3 * np.random.rand(edgelist.shape[0])\n",
    "    d = np.hstack((np.ones((n_idx)) * max_review, np.ones((n_col)) * max_assign))\n",
    "    return linprog(-m, A_ub=K, b_ub=d, bounds=(0., 1.), options=dict(disp=True))\n",
    "\n",
    "\n",
    "def edge_to_affinity(source_name,  # type: str\n",
    "    target_name,  # type: str\n",
    "    edgelist,  # type: DF\n",
    "    value_name=None  # type: Optional[str]\n",
    "    ):\n",
    "# type: (...) -> DF\n",
    "    \"\"\"DEPRECATED\"\"\"\n",
    "    return (edgelist.pivot(index=source_name, columns=target_name, values=value_name).reindex(columns=edgelist[target_name].unique(), index=edgelist[source_name].unique()).astype(float).fillna(0))\n",
    "\n",
    "\n",
    "# ## TODO ###\n",
    "\n",
    "\n",
    "def edge_to_bp(source_name,  # type: str\n",
    "    target_name,  # type: str\n",
    "    edgelist,  # type: DF\n",
    "    value_name=None  # type: Optional[str]\n",
    "    ):\n",
    "# type: (...) -> nx.Graph\n",
    "    G = nx.from_pandas_edgelist(edgelist, source=source_name, target=target_name, edge_attr=value_name)\n",
    "    source_partition = edgelist[source_name].unique().tolist()\n",
    "    target_partition = edgelist[target_name].unique().tolist()\n",
    "    nx.set_node_attributes(G, dup_zip(source_partition, {'bipartite': 0.}))\n",
    "    nx.set_node_attributes(G, dup_zip(target_partition, {'bipartite': 1.}))\n",
    "    return G\n",
    "\n",
    "\n",
    "def incidence(source_name,  # type: str\n",
    "    target_name,  # type: str\n",
    "    G,  # type: nx.Graph\n",
    "    edgelist,  # type: DF\n",
    "    affinity,  # type: DF\n",
    "    value_name=None  # type: _coconut.typing.Optional[str]\n",
    "    ):\n",
    "# type: (...) -> np.ndarray\n",
    "    return nx.incidence_matrix(G, edgelist=(list)(edgelist[[source_name, target_name]].itertuples(index=False, name=None)), nodelist=affinity.index.to_list() + affinity.columns.to_list())\n"
   ]
  },
  {
   "attachments": {},
   "cell_type": "markdown",
   "metadata": {},
   "source": [
    "For now, assume \"input\" is a doc-term matrix"
   ]
  },
  {
   "cell_type": "code",
   "execution_count": null,
   "metadata": {},
   "outputs": [],
   "source": [
    "# from affinity-to-edge\n",
    "\n",
    "def affinity_to_edge(source_name,  # type: str\n",
    "    target_name,  # type: str\n",
    "    affinity,  # type: DF\n",
    "    value_name=None  # type: Optional[str]\n",
    "    ):\n",
    "# type: (...) -> DF\n",
    "    \"\"\"DEPRECATED\"\"\"\n",
    "    return (affinity.reset_index().melt(source_name, value_name=value_name, var_name=target_name).query('weight>0'))\n"
   ]
  },
  {
   "cell_type": "code",
   "execution_count": null,
   "metadata": {},
   "outputs": [],
   "source": [
    "doc_term"
   ]
  },
  {
   "cell_type": "code",
   "execution_count": null,
   "metadata": {},
   "outputs": [],
   "source": [
    "ids = ('id-student', 'id-project')\n",
    "\n",
    "testing = doc_term.reset_index().melt(0, value_name=\"brown\", ).query('weight>0')   #var_name=target_name\n",
    "testing"
   ]
  },
  {
   "cell_type": "code",
   "execution_count": null,
   "metadata": {},
   "outputs": [],
   "source": [
    "pd.DataFrame.melt\n",
    "\n",
    "testing = doc_term.reset_index().melt(source_name, value_name=value_name, var_name=target_name).query('weight>0')\n",
    "testing"
   ]
  },
  {
   "cell_type": "code",
   "execution_count": null,
   "metadata": {},
   "outputs": [],
   "source": [
    "# @pd.api.extensions.register_dataframe_accessor(\"levi\")   #can also be df, series, or index\n",
    "# class LeviAccessor:\n",
    "#     def __init__(self, pandas_obj):\n",
    "#         self._validate(pandas_obj)\n",
    "#         self._obj = pandas_obj\n",
    "\n",
    "#     @staticmethod\n",
    "#     def _validate(obj):\n",
    "#         # TODO: use beartype\n",
    "#         if type(obj) is not pd.DataFrame:\n",
    "#             raise AttributeError(\"Must be cooccurrence Dataframe\")  #FIXME this is just filler to get accesor to run, need to update\n",
    "        \n",
    "\n",
    "#     @property\n",
    "#     def from_dataframe(self):\n",
    "#         test = self._obj()\n",
    "#         return \n",
    "\n",
    "\n",
    "  \n",
    "\n",
    "#     @property\n",
    "#     def test_attr(self):        \n",
    "#         return self._obj.iloc[0]\n",
    "    \n",
    "#     @property\n",
    "#     def incidence_matrix(self):\n",
    "#         return self._obj.unstack(level=1, fill_value=0)\n",
    "    \n",
    "    \n",
    "    \n",
    "\n",
    "    # def testing(self):\n",
    "    #     # plot this array's data on a map, e.g., using Cartopy\n",
    "    #     print(self.__str__)\n",
    "    #     pass"
   ]
  },
  {
   "cell_type": "code",
   "execution_count": null,
   "metadata": {},
   "outputs": [],
   "source": [
    "coo.levi.test_attr"
   ]
  },
  {
   "cell_type": "code",
   "execution_count": null,
   "metadata": {},
   "outputs": [],
   "source": [
    "\n",
    "coo.levi.to_biadjacency"
   ]
  },
  {
   "cell_type": "code",
   "execution_count": null,
   "metadata": {},
   "outputs": [],
   "source": [
    "# @pd.api.extensions.register_series_accessor(\"levi\")   \n",
    "# class LeviAccessor:\n",
    "#     def __init__(self, pandas_obj):\n",
    "#         self._validate(pandas_obj)\n",
    "#         self._obj = pandas_obj\n",
    "\n",
    "#     @staticmethod\n",
    "#     def _validate(obj):\n",
    "#         # TODO: use beartype\n",
    "#         # verify there is a column latitude and a column longitude\n",
    "#         if len(obj.values) < 0:\n",
    "#             raise AttributeError(\"Must have single column of flags\")  #fixme: this is just filler to get accesor to run, need to update\n",
    "#     #     if \"latitude\" not in obj.columns or \"longitude\" not in obj.columns:\n",
    "#     #         raise AttributeError(\"Must have 'latitude' and 'longitude'.\")\n",
    "\n",
    "#     @property\n",
    "#     def test_attr(self):        \n",
    "#         return self._obj.iloc[0]\n",
    "    \n",
    "#     @property\n",
    "#     def incidence_matrix(self):\n",
    "#         return self._obj.unstack(level=1, fill_value=0)\n",
    "    \n",
    "\n",
    "#     # def testing(self):\n",
    "#     #     # plot this array's data on a map, e.g., using Cartopy\n",
    "#     #     print(self.__str__)\n",
    "#     #     pass"
   ]
  },
  {
   "cell_type": "code",
   "execution_count": null,
   "metadata": {},
   "outputs": [],
   "source": [
    "# coo_series = coo.squeeze()\n",
    "# coo_series"
   ]
  },
  {
   "cell_type": "code",
   "execution_count": null,
   "metadata": {},
   "outputs": [],
   "source": [
    "# coo_series.levi.incidence_matrix"
   ]
  },
  {
   "cell_type": "code",
   "execution_count": null,
   "metadata": {},
   "outputs": [],
   "source": []
  },
  {
   "cell_type": "code",
   "execution_count": null,
   "metadata": {},
   "outputs": [],
   "source": []
  },
  {
   "cell_type": "code",
   "execution_count": null,
   "metadata": {},
   "outputs": [],
   "source": [
    "graph = nx.algorithms.bipartite.from_biadjacency_matrix(coo_matrix)\n",
    "sets = nx.get_node_attributes(graph, name=\"bipartite\")\n",
    "colors = {0: 'gold', 1: 'lightskyblue'}\n",
    "\n",
    "nx.draw(graph, with_labels=True, node_color=[colors[node[1]['bipartite']] \n",
    "                    for node in graph.nodes(data=True)])\n"
   ]
  },
  {
   "cell_type": "code",
   "execution_count": null,
   "metadata": {},
   "outputs": [],
   "source": [
    "graph.edges()"
   ]
  },
  {
   "cell_type": "code",
   "execution_count": null,
   "metadata": {},
   "outputs": [],
   "source": [
    "# Plotting with HyperNetx\n",
    "import hypernetx as hnx"
   ]
  },
  {
   "cell_type": "code",
   "execution_count": null,
   "metadata": {},
   "outputs": [],
   "source": [
    "term_doc = doc_term.T"
   ]
  },
  {
   "cell_type": "code",
   "execution_count": null,
   "metadata": {},
   "outputs": [],
   "source": [
    "# *HNX* hypergraphs can be built from networkx bipartite graph objects using `from_bipartite`\n",
    "H = hnx.Hypergraph.from_dataframe(term_doc)"
   ]
  },
  {
   "cell_type": "code",
   "execution_count": null,
   "metadata": {},
   "outputs": [],
   "source": [
    "hnx.drawing.draw(H)"
   ]
  },
  {
   "cell_type": "code",
   "execution_count": null,
   "metadata": {},
   "outputs": [],
   "source": []
  }
 ],
 "metadata": {
  "kernelspec": {
   "display_name": "grabble",
   "language": "python",
   "name": "python3"
  },
  "language_info": {
   "codemirror_mode": {
    "name": "ipython",
    "version": 3
   },
   "file_extension": ".py",
   "mimetype": "text/x-python",
   "name": "python",
   "nbconvert_exporter": "python",
   "pygments_lexer": "ipython3",
   "version": "3.10.9"
  },
  "orig_nbformat": 4,
  "vscode": {
   "interpreter": {
    "hash": "12bdaef2ce4d129157466fc7dc933fb3ecbffac9422f744ddb54af02cb04aaa5"
   }
  }
 },
 "nbformat": 4,
 "nbformat_minor": 2
}
