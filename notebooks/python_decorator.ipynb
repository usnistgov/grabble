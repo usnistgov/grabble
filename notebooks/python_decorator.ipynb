{
 "cells": [
  {
   "attachments": {},
   "cell_type": "markdown",
   "metadata": {},
   "source": [
    "# Levi Pandas Accessor\n",
    "## Transform between and among different graph data representations via a Levi graph"
   ]
  },
  {
   "attachments": {},
   "cell_type": "markdown",
   "metadata": {},
   "source": [
    "Helpful links:  \n",
    "https://jendobson.com/2020/06/12/writing-custom-accessors-to-avoid-subclassing-pandas-dataframes/  \n",
    "https://en.wikipedia.org/wiki/Levi_graph"
   ]
  },
  {
   "cell_type": "code",
   "execution_count": 1,
   "metadata": {},
   "outputs": [],
   "source": [
    "import numpy as np\n",
    "import pandas as pd\n",
    "from scipy import sparse\n",
    "import networkx as nx\n",
    "import matplotlib.pyplot as plt\n",
    "import beartype as bt\n",
    "\n",
    "plt.rcParams['figure.dpi'] = 60"
   ]
  },
  {
   "attachments": {},
   "cell_type": "markdown",
   "metadata": {},
   "source": [
    "### Create data to use in development:\n",
    "- Token Co-occurrence matrix\n",
    "- Document-term matrix (this is an example of a bipartite structure/incidence matrix)\n",
    "- COO (format: multi-index pandas Series)\n"
   ]
  },
  {
   "cell_type": "code",
   "execution_count": 2,
   "metadata": {},
   "outputs": [],
   "source": [
    "# Create sample dataset\n",
    "\n",
    "doc_ids = [str(x) for x in range(5)]\n",
    "texts = [\n",
    "    \"the quick brown fox jumped\",\n",
    "    \"the fox jumped\",\n",
    "    \"the dog jumped\",\n",
    "    \"one brown fox\",\n",
    "    \"ten brown dogs\",\n",
    "   ]\n",
    "\n",
    "df = pd.DataFrame({'doc_id': doc_ids,\n",
    "                    'text':texts,\n",
    "                    })"
   ]
  },
  {
   "cell_type": "code",
   "execution_count": 3,
   "metadata": {},
   "outputs": [],
   "source": [
    "from sklearn.feature_extraction.text import CountVectorizer\n",
    "\n",
    "cv = CountVectorizer(stop_words=['the'])\n",
    "cv.fit(df['text'])\n",
    "tokens = cv.get_feature_names_out()  #alphabetical"
   ]
  },
  {
   "cell_type": "code",
   "execution_count": 4,
   "metadata": {},
   "outputs": [
    {
     "data": {
      "text/plain": [
       "array(['brown', 'dog', 'dogs', 'fox', 'jumped', 'one', 'quick', 'ten'],\n",
       "      dtype=object)"
      ]
     },
     "execution_count": 4,
     "metadata": {},
     "output_type": "execute_result"
    }
   ],
   "source": [
    "tokens"
   ]
  },
  {
   "cell_type": "code",
   "execution_count": 5,
   "metadata": {},
   "outputs": [
    {
     "data": {
      "text/html": [
       "<div>\n",
       "<style scoped>\n",
       "    .dataframe tbody tr th:only-of-type {\n",
       "        vertical-align: middle;\n",
       "    }\n",
       "\n",
       "    .dataframe tbody tr th {\n",
       "        vertical-align: top;\n",
       "    }\n",
       "\n",
       "    .dataframe thead th {\n",
       "        text-align: right;\n",
       "    }\n",
       "</style>\n",
       "<table border=\"1\" class=\"dataframe\">\n",
       "  <thead>\n",
       "    <tr style=\"text-align: right;\">\n",
       "      <th></th>\n",
       "      <th>brown</th>\n",
       "      <th>dog</th>\n",
       "      <th>dogs</th>\n",
       "      <th>fox</th>\n",
       "      <th>jumped</th>\n",
       "      <th>one</th>\n",
       "      <th>quick</th>\n",
       "      <th>ten</th>\n",
       "    </tr>\n",
       "  </thead>\n",
       "  <tbody>\n",
       "    <tr>\n",
       "      <th>brown</th>\n",
       "      <td>0</td>\n",
       "      <td>0</td>\n",
       "      <td>1</td>\n",
       "      <td>2</td>\n",
       "      <td>1</td>\n",
       "      <td>1</td>\n",
       "      <td>1</td>\n",
       "      <td>1</td>\n",
       "    </tr>\n",
       "    <tr>\n",
       "      <th>dog</th>\n",
       "      <td>0</td>\n",
       "      <td>0</td>\n",
       "      <td>0</td>\n",
       "      <td>0</td>\n",
       "      <td>1</td>\n",
       "      <td>0</td>\n",
       "      <td>0</td>\n",
       "      <td>0</td>\n",
       "    </tr>\n",
       "    <tr>\n",
       "      <th>dogs</th>\n",
       "      <td>1</td>\n",
       "      <td>0</td>\n",
       "      <td>0</td>\n",
       "      <td>0</td>\n",
       "      <td>0</td>\n",
       "      <td>0</td>\n",
       "      <td>0</td>\n",
       "      <td>1</td>\n",
       "    </tr>\n",
       "    <tr>\n",
       "      <th>fox</th>\n",
       "      <td>2</td>\n",
       "      <td>0</td>\n",
       "      <td>0</td>\n",
       "      <td>0</td>\n",
       "      <td>2</td>\n",
       "      <td>1</td>\n",
       "      <td>1</td>\n",
       "      <td>0</td>\n",
       "    </tr>\n",
       "    <tr>\n",
       "      <th>jumped</th>\n",
       "      <td>1</td>\n",
       "      <td>1</td>\n",
       "      <td>0</td>\n",
       "      <td>2</td>\n",
       "      <td>0</td>\n",
       "      <td>0</td>\n",
       "      <td>1</td>\n",
       "      <td>0</td>\n",
       "    </tr>\n",
       "    <tr>\n",
       "      <th>one</th>\n",
       "      <td>1</td>\n",
       "      <td>0</td>\n",
       "      <td>0</td>\n",
       "      <td>1</td>\n",
       "      <td>0</td>\n",
       "      <td>0</td>\n",
       "      <td>0</td>\n",
       "      <td>0</td>\n",
       "    </tr>\n",
       "    <tr>\n",
       "      <th>quick</th>\n",
       "      <td>1</td>\n",
       "      <td>0</td>\n",
       "      <td>0</td>\n",
       "      <td>1</td>\n",
       "      <td>1</td>\n",
       "      <td>0</td>\n",
       "      <td>0</td>\n",
       "      <td>0</td>\n",
       "    </tr>\n",
       "    <tr>\n",
       "      <th>ten</th>\n",
       "      <td>1</td>\n",
       "      <td>0</td>\n",
       "      <td>1</td>\n",
       "      <td>0</td>\n",
       "      <td>0</td>\n",
       "      <td>0</td>\n",
       "      <td>0</td>\n",
       "      <td>0</td>\n",
       "    </tr>\n",
       "  </tbody>\n",
       "</table>\n",
       "</div>"
      ],
      "text/plain": [
       "        brown  dog  dogs  fox  jumped  one  quick  ten\n",
       "brown       0    0     1    2       1    1      1    1\n",
       "dog         0    0     0    0       1    0      0    0\n",
       "dogs        1    0     0    0       0    0      0    1\n",
       "fox         2    0     0    0       2    1      1    0\n",
       "jumped      1    1     0    2       0    0      1    0\n",
       "one         1    0     0    1       0    0      0    0\n",
       "quick       1    0     0    1       1    0      0    0\n",
       "ten         1    0     1    0       0    0      0    0"
      ]
     },
     "execution_count": 5,
     "metadata": {},
     "output_type": "execute_result"
    }
   ],
   "source": [
    "# Create cooccurence matrix\n",
    "\n",
    "results = cv.transform(df['text'])\n",
    "coocc = results.T.dot(results)\n",
    "# np.fill_diagonal(coocc.values, 0)\n",
    "coocc = pd.DataFrame(results.T.dot(results).toarray(), index=pd.CategoricalIndex(tokens), columns=pd.CategoricalIndex(tokens))\n",
    "np.fill_diagonal(coocc.values, 0)\n",
    "coocc"
   ]
  },
  {
   "cell_type": "code",
   "execution_count": 6,
   "metadata": {},
   "outputs": [
    {
     "data": {
      "text/html": [
       "<div>\n",
       "<style scoped>\n",
       "    .dataframe tbody tr th:only-of-type {\n",
       "        vertical-align: middle;\n",
       "    }\n",
       "\n",
       "    .dataframe tbody tr th {\n",
       "        vertical-align: top;\n",
       "    }\n",
       "\n",
       "    .dataframe thead th {\n",
       "        text-align: right;\n",
       "    }\n",
       "</style>\n",
       "<table border=\"1\" class=\"dataframe\">\n",
       "  <thead>\n",
       "    <tr style=\"text-align: right;\">\n",
       "      <th></th>\n",
       "      <th>brown</th>\n",
       "      <th>dog</th>\n",
       "      <th>dogs</th>\n",
       "      <th>fox</th>\n",
       "      <th>jumped</th>\n",
       "      <th>one</th>\n",
       "      <th>quick</th>\n",
       "      <th>ten</th>\n",
       "      <th>cat</th>\n",
       "      <th>bear</th>\n",
       "      <th>tree</th>\n",
       "    </tr>\n",
       "  </thead>\n",
       "  <tbody>\n",
       "    <tr>\n",
       "      <th>0</th>\n",
       "      <td>1</td>\n",
       "      <td>0</td>\n",
       "      <td>0</td>\n",
       "      <td>1</td>\n",
       "      <td>1</td>\n",
       "      <td>0</td>\n",
       "      <td>1</td>\n",
       "      <td>0</td>\n",
       "      <td>0</td>\n",
       "      <td>0</td>\n",
       "      <td>0</td>\n",
       "    </tr>\n",
       "    <tr>\n",
       "      <th>1</th>\n",
       "      <td>0</td>\n",
       "      <td>0</td>\n",
       "      <td>0</td>\n",
       "      <td>1</td>\n",
       "      <td>1</td>\n",
       "      <td>0</td>\n",
       "      <td>0</td>\n",
       "      <td>0</td>\n",
       "      <td>0</td>\n",
       "      <td>0</td>\n",
       "      <td>0</td>\n",
       "    </tr>\n",
       "    <tr>\n",
       "      <th>2</th>\n",
       "      <td>0</td>\n",
       "      <td>1</td>\n",
       "      <td>0</td>\n",
       "      <td>0</td>\n",
       "      <td>1</td>\n",
       "      <td>0</td>\n",
       "      <td>0</td>\n",
       "      <td>0</td>\n",
       "      <td>0</td>\n",
       "      <td>0</td>\n",
       "      <td>0</td>\n",
       "    </tr>\n",
       "    <tr>\n",
       "      <th>3</th>\n",
       "      <td>1</td>\n",
       "      <td>0</td>\n",
       "      <td>0</td>\n",
       "      <td>1</td>\n",
       "      <td>0</td>\n",
       "      <td>1</td>\n",
       "      <td>0</td>\n",
       "      <td>0</td>\n",
       "      <td>0</td>\n",
       "      <td>0</td>\n",
       "      <td>0</td>\n",
       "    </tr>\n",
       "    <tr>\n",
       "      <th>4</th>\n",
       "      <td>1</td>\n",
       "      <td>0</td>\n",
       "      <td>1</td>\n",
       "      <td>0</td>\n",
       "      <td>0</td>\n",
       "      <td>0</td>\n",
       "      <td>0</td>\n",
       "      <td>1</td>\n",
       "      <td>0</td>\n",
       "      <td>0</td>\n",
       "      <td>0</td>\n",
       "    </tr>\n",
       "  </tbody>\n",
       "</table>\n",
       "</div>"
      ],
      "text/plain": [
       "   brown  dog  dogs  fox  jumped  one  quick  ten  cat  bear  tree\n",
       "0      1    0     0    1       1    0      1    0    0     0     0\n",
       "1      0    0     0    1       1    0      0    0    0     0     0\n",
       "2      0    1     0    0       1    0      0    0    0     0     0\n",
       "3      1    0     0    1       0    1      0    0    0     0     0\n",
       "4      1    0     1    0       0    0      0    1    0     0     0"
      ]
     },
     "execution_count": 6,
     "metadata": {},
     "output_type": "execute_result"
    }
   ],
   "source": [
    "# Create document term matrix (BIPARTITE STRUCTURE)\n",
    "\n",
    "results = cv.transform(df['text'])\n",
    "features = cv.get_feature_names_out()\n",
    "doc_term = pd.DataFrame(results.toarray(), columns=features)\n",
    "doc_term = doc_term.reindex(columns=doc_term.columns.tolist()+['cat', 'bear', 'tree'], fill_value=0)\n",
    "doc_term"
   ]
  },
  {
   "cell_type": "code",
   "execution_count": 7,
   "metadata": {},
   "outputs": [
    {
     "data": {
      "text/plain": [
       "{0: 'brown',\n",
       " 1: 'dog',\n",
       " 2: 'dogs',\n",
       " 3: 'fox',\n",
       " 4: 'jumped',\n",
       " 5: 'one',\n",
       " 6: 'quick',\n",
       " 7: 'ten',\n",
       " 8: 'cat',\n",
       " 9: 'bear',\n",
       " 10: 'tree'}"
      ]
     },
     "execution_count": 7,
     "metadata": {},
     "output_type": "execute_result"
    }
   ],
   "source": [
    "# Create COO Dataframe\n",
    "# using scipy sparse module here, but we want to avoid it in production\n",
    "coo_matrix = sparse.coo_matrix(doc_term.values)\n",
    "coo_rows = coo_matrix.row\n",
    "coo_cols = coo_matrix.col\n",
    "coo_vals = coo_matrix.data\n",
    "\n",
    "term_dict = dict(zip(range(0,11), doc_term.columns))\n",
    "term_dict"
   ]
  },
  {
   "cell_type": "code",
   "execution_count": 8,
   "metadata": {},
   "outputs": [
    {
     "name": "stdout",
     "output_type": "stream",
     "text": [
      "  (0, 0)\t1\n",
      "  (0, 3)\t1\n",
      "  (0, 4)\t1\n",
      "  (0, 6)\t1\n",
      "  (1, 3)\t1\n",
      "  (1, 4)\t1\n",
      "  (2, 1)\t1\n",
      "  (2, 4)\t1\n",
      "  (3, 0)\t1\n",
      "  (3, 3)\t1\n",
      "  (3, 5)\t1\n",
      "  (4, 0)\t1\n",
      "  (4, 2)\t1\n",
      "  (4, 7)\t1\n"
     ]
    }
   ],
   "source": [
    "print(coo_matrix)  #scipy sparse format"
   ]
  },
  {
   "cell_type": "code",
   "execution_count": 9,
   "metadata": {},
   "outputs": [],
   "source": [
    "coo_cols = coo_cols.tolist()\n",
    "coo_col_names = [term_dict[key] for key in coo_cols]"
   ]
  },
  {
   "cell_type": "code",
   "execution_count": 10,
   "metadata": {},
   "outputs": [
    {
     "data": {
      "text/html": [
       "<div>\n",
       "<style scoped>\n",
       "    .dataframe tbody tr th:only-of-type {\n",
       "        vertical-align: middle;\n",
       "    }\n",
       "\n",
       "    .dataframe tbody tr th {\n",
       "        vertical-align: top;\n",
       "    }\n",
       "\n",
       "    .dataframe thead th {\n",
       "        text-align: right;\n",
       "    }\n",
       "</style>\n",
       "<table border=\"1\" class=\"dataframe\">\n",
       "  <thead>\n",
       "    <tr style=\"text-align: right;\">\n",
       "      <th></th>\n",
       "      <th></th>\n",
       "      <th>flag</th>\n",
       "    </tr>\n",
       "  </thead>\n",
       "  <tbody>\n",
       "    <tr>\n",
       "      <th rowspan=\"4\" valign=\"top\">0</th>\n",
       "      <th>brown</th>\n",
       "      <td>1</td>\n",
       "    </tr>\n",
       "    <tr>\n",
       "      <th>fox</th>\n",
       "      <td>1</td>\n",
       "    </tr>\n",
       "    <tr>\n",
       "      <th>jumped</th>\n",
       "      <td>1</td>\n",
       "    </tr>\n",
       "    <tr>\n",
       "      <th>quick</th>\n",
       "      <td>1</td>\n",
       "    </tr>\n",
       "    <tr>\n",
       "      <th rowspan=\"2\" valign=\"top\">1</th>\n",
       "      <th>fox</th>\n",
       "      <td>1</td>\n",
       "    </tr>\n",
       "    <tr>\n",
       "      <th>jumped</th>\n",
       "      <td>1</td>\n",
       "    </tr>\n",
       "    <tr>\n",
       "      <th rowspan=\"2\" valign=\"top\">2</th>\n",
       "      <th>dog</th>\n",
       "      <td>1</td>\n",
       "    </tr>\n",
       "    <tr>\n",
       "      <th>jumped</th>\n",
       "      <td>1</td>\n",
       "    </tr>\n",
       "    <tr>\n",
       "      <th rowspan=\"3\" valign=\"top\">3</th>\n",
       "      <th>brown</th>\n",
       "      <td>1</td>\n",
       "    </tr>\n",
       "    <tr>\n",
       "      <th>fox</th>\n",
       "      <td>1</td>\n",
       "    </tr>\n",
       "    <tr>\n",
       "      <th>one</th>\n",
       "      <td>1</td>\n",
       "    </tr>\n",
       "    <tr>\n",
       "      <th rowspan=\"3\" valign=\"top\">4</th>\n",
       "      <th>brown</th>\n",
       "      <td>1</td>\n",
       "    </tr>\n",
       "    <tr>\n",
       "      <th>dogs</th>\n",
       "      <td>1</td>\n",
       "    </tr>\n",
       "    <tr>\n",
       "      <th>ten</th>\n",
       "      <td>1</td>\n",
       "    </tr>\n",
       "  </tbody>\n",
       "</table>\n",
       "</div>"
      ],
      "text/plain": [
       "          flag\n",
       "0 brown      1\n",
       "  fox        1\n",
       "  jumped     1\n",
       "  quick      1\n",
       "1 fox        1\n",
       "  jumped     1\n",
       "2 dog        1\n",
       "  jumped     1\n",
       "3 brown      1\n",
       "  fox        1\n",
       "  one        1\n",
       "4 brown      1\n",
       "  dogs       1\n",
       "  ten        1"
      ]
     },
     "execution_count": 10,
     "metadata": {},
     "output_type": "execute_result"
    }
   ],
   "source": [
    "idx=pd.MultiIndex.from_arrays([coo_matrix.row, coo_col_names])\n",
    "coo = pd.DataFrame(coo_matrix.data, index=idx, columns=[\"flag\"])\n",
    "coo"
   ]
  },
  {
   "cell_type": "code",
   "execution_count": 11,
   "metadata": {},
   "outputs": [
    {
     "data": {
      "text/plain": [
       "MultiIndex([(0,  'brown'),\n",
       "            (0,    'fox'),\n",
       "            (0, 'jumped'),\n",
       "            (0,  'quick'),\n",
       "            (1,    'fox'),\n",
       "            (1, 'jumped'),\n",
       "            (2,    'dog'),\n",
       "            (2, 'jumped'),\n",
       "            (3,  'brown'),\n",
       "            (3,    'fox'),\n",
       "            (3,    'one'),\n",
       "            (4,  'brown'),\n",
       "            (4,   'dogs'),\n",
       "            (4,    'ten')],\n",
       "           )"
      ]
     },
     "execution_count": 11,
     "metadata": {},
     "output_type": "execute_result"
    }
   ],
   "source": [
    "coo.index"
   ]
  },
  {
   "cell_type": "code",
   "execution_count": 12,
   "metadata": {},
   "outputs": [],
   "source": [
    "# new = pd.CategoricalDtype(coo.index)\n",
    "# new"
   ]
  },
  {
   "cell_type": "code",
   "execution_count": 13,
   "metadata": {},
   "outputs": [
    {
     "data": {
      "text/plain": [
       "MultiIndex([(0,  'brown'),\n",
       "            (0,    'fox'),\n",
       "            (0, 'jumped'),\n",
       "            (0,  'quick'),\n",
       "            (1,    'fox'),\n",
       "            (1, 'jumped'),\n",
       "            (2,    'dog'),\n",
       "            (2, 'jumped'),\n",
       "            (3,  'brown'),\n",
       "            (3,    'fox'),\n",
       "            (3,    'one'),\n",
       "            (4,  'brown'),\n",
       "            (4,   'dogs'),\n",
       "            (4,    'ten')],\n",
       "           )"
      ]
     },
     "execution_count": 13,
     "metadata": {},
     "output_type": "execute_result"
    }
   ],
   "source": [
    "levi_series = coo.squeeze()\n",
    "levi_series.index"
   ]
  },
  {
   "cell_type": "markdown",
   "metadata": {},
   "source": [
    "### Converting Levi series to other graph formats"
   ]
  },
  {
   "cell_type": "code",
   "execution_count": 14,
   "metadata": {},
   "outputs": [
    {
     "name": "stdout",
     "output_type": "stream",
     "text": [
      "*** test validator***\n"
     ]
    },
    {
     "name": "stderr",
     "output_type": "stream",
     "text": [
      "/Users/amc8/grabble/notebooks/levi/__init__.py:12: TqdmExperimentalWarning: Using `tqdm.autonotebook.tqdm` in notebook mode. Use `tqdm.tqdm` instead to force console mode (e.g. in jupyter console)\n",
      "  from tqdm.autonotebook import tqdm\n"
     ]
    },
    {
     "data": {
      "text/html": [
       "<div>\n",
       "<style scoped>\n",
       "    .dataframe tbody tr th:only-of-type {\n",
       "        vertical-align: middle;\n",
       "    }\n",
       "\n",
       "    .dataframe tbody tr th {\n",
       "        vertical-align: top;\n",
       "    }\n",
       "\n",
       "    .dataframe thead th {\n",
       "        text-align: right;\n",
       "    }\n",
       "</style>\n",
       "<table border=\"1\" class=\"dataframe\">\n",
       "  <thead>\n",
       "    <tr style=\"text-align: right;\">\n",
       "      <th></th>\n",
       "      <th>doc</th>\n",
       "      <th>term</th>\n",
       "      <th>flag</th>\n",
       "    </tr>\n",
       "  </thead>\n",
       "  <tbody>\n",
       "    <tr>\n",
       "      <th>0</th>\n",
       "      <td>0</td>\n",
       "      <td>brown</td>\n",
       "      <td>1</td>\n",
       "    </tr>\n",
       "    <tr>\n",
       "      <th>1</th>\n",
       "      <td>0</td>\n",
       "      <td>fox</td>\n",
       "      <td>1</td>\n",
       "    </tr>\n",
       "    <tr>\n",
       "      <th>2</th>\n",
       "      <td>0</td>\n",
       "      <td>jumped</td>\n",
       "      <td>1</td>\n",
       "    </tr>\n",
       "    <tr>\n",
       "      <th>3</th>\n",
       "      <td>0</td>\n",
       "      <td>quick</td>\n",
       "      <td>1</td>\n",
       "    </tr>\n",
       "    <tr>\n",
       "      <th>4</th>\n",
       "      <td>1</td>\n",
       "      <td>fox</td>\n",
       "      <td>1</td>\n",
       "    </tr>\n",
       "    <tr>\n",
       "      <th>5</th>\n",
       "      <td>1</td>\n",
       "      <td>jumped</td>\n",
       "      <td>1</td>\n",
       "    </tr>\n",
       "    <tr>\n",
       "      <th>6</th>\n",
       "      <td>2</td>\n",
       "      <td>dog</td>\n",
       "      <td>1</td>\n",
       "    </tr>\n",
       "    <tr>\n",
       "      <th>7</th>\n",
       "      <td>2</td>\n",
       "      <td>jumped</td>\n",
       "      <td>1</td>\n",
       "    </tr>\n",
       "    <tr>\n",
       "      <th>8</th>\n",
       "      <td>3</td>\n",
       "      <td>brown</td>\n",
       "      <td>1</td>\n",
       "    </tr>\n",
       "    <tr>\n",
       "      <th>9</th>\n",
       "      <td>3</td>\n",
       "      <td>fox</td>\n",
       "      <td>1</td>\n",
       "    </tr>\n",
       "    <tr>\n",
       "      <th>10</th>\n",
       "      <td>3</td>\n",
       "      <td>one</td>\n",
       "      <td>1</td>\n",
       "    </tr>\n",
       "    <tr>\n",
       "      <th>11</th>\n",
       "      <td>4</td>\n",
       "      <td>brown</td>\n",
       "      <td>1</td>\n",
       "    </tr>\n",
       "    <tr>\n",
       "      <th>12</th>\n",
       "      <td>4</td>\n",
       "      <td>dogs</td>\n",
       "      <td>1</td>\n",
       "    </tr>\n",
       "    <tr>\n",
       "      <th>13</th>\n",
       "      <td>4</td>\n",
       "      <td>ten</td>\n",
       "      <td>1</td>\n",
       "    </tr>\n",
       "  </tbody>\n",
       "</table>\n",
       "</div>"
      ],
      "text/plain": [
       "    doc    term  flag\n",
       "0     0   brown     1\n",
       "1     0     fox     1\n",
       "2     0  jumped     1\n",
       "3     0   quick     1\n",
       "4     1     fox     1\n",
       "5     1  jumped     1\n",
       "6     2     dog     1\n",
       "7     2  jumped     1\n",
       "8     3   brown     1\n",
       "9     3     fox     1\n",
       "10    3     one     1\n",
       "11    4   brown     1\n",
       "12    4    dogs     1\n",
       "13    4     ten     1"
      ]
     },
     "execution_count": 14,
     "metadata": {},
     "output_type": "execute_result"
    }
   ],
   "source": [
    "from levi import dataframe, series\n",
    "\n",
    "levi_series.levi.to_edgelist(level_0=\"doc\", level_1=\"term\")"
   ]
  },
  {
   "cell_type": "code",
   "execution_count": 15,
   "metadata": {},
   "outputs": [],
   "source": [
    "# test failed validation function\n",
    "\n",
    "# not_levi_series = pd.Series([0,7,8])\n",
    "# series_empty.levi.to_incidence"
   ]
  },
  {
   "cell_type": "code",
   "execution_count": 16,
   "metadata": {},
   "outputs": [
    {
     "data": {
      "text/html": [
       "<div>\n",
       "<style scoped>\n",
       "    .dataframe tbody tr th:only-of-type {\n",
       "        vertical-align: middle;\n",
       "    }\n",
       "\n",
       "    .dataframe tbody tr th {\n",
       "        vertical-align: top;\n",
       "    }\n",
       "\n",
       "    .dataframe thead th {\n",
       "        text-align: right;\n",
       "    }\n",
       "</style>\n",
       "<table border=\"1\" class=\"dataframe\">\n",
       "  <thead>\n",
       "    <tr style=\"text-align: right;\">\n",
       "      <th></th>\n",
       "      <th>brown</th>\n",
       "      <th>dog</th>\n",
       "      <th>dogs</th>\n",
       "      <th>fox</th>\n",
       "      <th>jumped</th>\n",
       "      <th>one</th>\n",
       "      <th>quick</th>\n",
       "      <th>ten</th>\n",
       "    </tr>\n",
       "  </thead>\n",
       "  <tbody>\n",
       "    <tr>\n",
       "      <th>brown</th>\n",
       "      <td>0</td>\n",
       "      <td>0</td>\n",
       "      <td>1</td>\n",
       "      <td>2</td>\n",
       "      <td>1</td>\n",
       "      <td>1</td>\n",
       "      <td>1</td>\n",
       "      <td>1</td>\n",
       "    </tr>\n",
       "    <tr>\n",
       "      <th>dog</th>\n",
       "      <td>0</td>\n",
       "      <td>0</td>\n",
       "      <td>0</td>\n",
       "      <td>0</td>\n",
       "      <td>1</td>\n",
       "      <td>0</td>\n",
       "      <td>0</td>\n",
       "      <td>0</td>\n",
       "    </tr>\n",
       "    <tr>\n",
       "      <th>dogs</th>\n",
       "      <td>1</td>\n",
       "      <td>0</td>\n",
       "      <td>0</td>\n",
       "      <td>0</td>\n",
       "      <td>0</td>\n",
       "      <td>0</td>\n",
       "      <td>0</td>\n",
       "      <td>1</td>\n",
       "    </tr>\n",
       "    <tr>\n",
       "      <th>fox</th>\n",
       "      <td>2</td>\n",
       "      <td>0</td>\n",
       "      <td>0</td>\n",
       "      <td>0</td>\n",
       "      <td>2</td>\n",
       "      <td>1</td>\n",
       "      <td>1</td>\n",
       "      <td>0</td>\n",
       "    </tr>\n",
       "    <tr>\n",
       "      <th>jumped</th>\n",
       "      <td>1</td>\n",
       "      <td>1</td>\n",
       "      <td>0</td>\n",
       "      <td>2</td>\n",
       "      <td>0</td>\n",
       "      <td>0</td>\n",
       "      <td>1</td>\n",
       "      <td>0</td>\n",
       "    </tr>\n",
       "    <tr>\n",
       "      <th>one</th>\n",
       "      <td>1</td>\n",
       "      <td>0</td>\n",
       "      <td>0</td>\n",
       "      <td>1</td>\n",
       "      <td>0</td>\n",
       "      <td>0</td>\n",
       "      <td>0</td>\n",
       "      <td>0</td>\n",
       "    </tr>\n",
       "    <tr>\n",
       "      <th>quick</th>\n",
       "      <td>1</td>\n",
       "      <td>0</td>\n",
       "      <td>0</td>\n",
       "      <td>1</td>\n",
       "      <td>1</td>\n",
       "      <td>0</td>\n",
       "      <td>0</td>\n",
       "      <td>0</td>\n",
       "    </tr>\n",
       "    <tr>\n",
       "      <th>ten</th>\n",
       "      <td>1</td>\n",
       "      <td>0</td>\n",
       "      <td>1</td>\n",
       "      <td>0</td>\n",
       "      <td>0</td>\n",
       "      <td>0</td>\n",
       "      <td>0</td>\n",
       "      <td>0</td>\n",
       "    </tr>\n",
       "  </tbody>\n",
       "</table>\n",
       "</div>"
      ],
      "text/plain": [
       "        brown  dog  dogs  fox  jumped  one  quick  ten\n",
       "brown       0    0     1    2       1    1      1    1\n",
       "dog         0    0     0    0       1    0      0    0\n",
       "dogs        1    0     0    0       0    0      0    1\n",
       "fox         2    0     0    0       2    1      1    0\n",
       "jumped      1    1     0    2       0    0      1    0\n",
       "one         1    0     0    1       0    0      0    0\n",
       "quick       1    0     0    1       1    0      0    0\n",
       "ten         1    0     1    0       0    0      0    0"
      ]
     },
     "execution_count": 16,
     "metadata": {},
     "output_type": "execute_result"
    }
   ],
   "source": [
    "from levi import series\n",
    "\n",
    "levi_series.levi.to_adjacency"
   ]
  },
  {
   "cell_type": "code",
   "execution_count": 17,
   "metadata": {},
   "outputs": [],
   "source": [
    "edgelist = levi_series.levi.to_edgelist(level_0=\"doc\", level_1=\"term\")\n",
    "edgelist['doc'] = pd.Categorical(edgelist.doc)\n",
    "edgelist['term'] = pd.Categorical(edgelist.term)"
   ]
  },
  {
   "cell_type": "code",
   "execution_count": 18,
   "metadata": {},
   "outputs": [
    {
     "data": {
      "text/html": [
       "<div>\n",
       "<style scoped>\n",
       "    .dataframe tbody tr th:only-of-type {\n",
       "        vertical-align: middle;\n",
       "    }\n",
       "\n",
       "    .dataframe tbody tr th {\n",
       "        vertical-align: top;\n",
       "    }\n",
       "\n",
       "    .dataframe thead th {\n",
       "        text-align: right;\n",
       "    }\n",
       "</style>\n",
       "<table border=\"1\" class=\"dataframe\">\n",
       "  <thead>\n",
       "    <tr style=\"text-align: right;\">\n",
       "      <th></th>\n",
       "      <th>doc</th>\n",
       "      <th>term</th>\n",
       "      <th>flag</th>\n",
       "    </tr>\n",
       "  </thead>\n",
       "  <tbody>\n",
       "    <tr>\n",
       "      <th>0</th>\n",
       "      <td>0</td>\n",
       "      <td>brown</td>\n",
       "      <td>1</td>\n",
       "    </tr>\n",
       "    <tr>\n",
       "      <th>1</th>\n",
       "      <td>0</td>\n",
       "      <td>fox</td>\n",
       "      <td>1</td>\n",
       "    </tr>\n",
       "    <tr>\n",
       "      <th>2</th>\n",
       "      <td>0</td>\n",
       "      <td>jumped</td>\n",
       "      <td>1</td>\n",
       "    </tr>\n",
       "    <tr>\n",
       "      <th>3</th>\n",
       "      <td>0</td>\n",
       "      <td>quick</td>\n",
       "      <td>1</td>\n",
       "    </tr>\n",
       "    <tr>\n",
       "      <th>4</th>\n",
       "      <td>1</td>\n",
       "      <td>fox</td>\n",
       "      <td>1</td>\n",
       "    </tr>\n",
       "    <tr>\n",
       "      <th>5</th>\n",
       "      <td>1</td>\n",
       "      <td>jumped</td>\n",
       "      <td>1</td>\n",
       "    </tr>\n",
       "    <tr>\n",
       "      <th>6</th>\n",
       "      <td>2</td>\n",
       "      <td>dog</td>\n",
       "      <td>1</td>\n",
       "    </tr>\n",
       "    <tr>\n",
       "      <th>7</th>\n",
       "      <td>2</td>\n",
       "      <td>jumped</td>\n",
       "      <td>1</td>\n",
       "    </tr>\n",
       "    <tr>\n",
       "      <th>8</th>\n",
       "      <td>3</td>\n",
       "      <td>brown</td>\n",
       "      <td>1</td>\n",
       "    </tr>\n",
       "    <tr>\n",
       "      <th>9</th>\n",
       "      <td>3</td>\n",
       "      <td>fox</td>\n",
       "      <td>1</td>\n",
       "    </tr>\n",
       "    <tr>\n",
       "      <th>10</th>\n",
       "      <td>3</td>\n",
       "      <td>one</td>\n",
       "      <td>1</td>\n",
       "    </tr>\n",
       "    <tr>\n",
       "      <th>11</th>\n",
       "      <td>4</td>\n",
       "      <td>brown</td>\n",
       "      <td>1</td>\n",
       "    </tr>\n",
       "    <tr>\n",
       "      <th>12</th>\n",
       "      <td>4</td>\n",
       "      <td>dogs</td>\n",
       "      <td>1</td>\n",
       "    </tr>\n",
       "    <tr>\n",
       "      <th>13</th>\n",
       "      <td>4</td>\n",
       "      <td>ten</td>\n",
       "      <td>1</td>\n",
       "    </tr>\n",
       "  </tbody>\n",
       "</table>\n",
       "</div>"
      ],
      "text/plain": [
       "   doc    term  flag\n",
       "0    0   brown     1\n",
       "1    0     fox     1\n",
       "2    0  jumped     1\n",
       "3    0   quick     1\n",
       "4    1     fox     1\n",
       "5    1  jumped     1\n",
       "6    2     dog     1\n",
       "7    2  jumped     1\n",
       "8    3   brown     1\n",
       "9    3     fox     1\n",
       "10   3     one     1\n",
       "11   4   brown     1\n",
       "12   4    dogs     1\n",
       "13   4     ten     1"
      ]
     },
     "execution_count": 18,
     "metadata": {},
     "output_type": "execute_result"
    }
   ],
   "source": [
    "edgelist"
   ]
  },
  {
   "attachments": {},
   "cell_type": "markdown",
   "metadata": {},
   "source": [
    "### Converting between different formats, using Levi as common intermediate format"
   ]
  },
  {
   "cell_type": "code",
   "execution_count": 19,
   "metadata": {},
   "outputs": [],
   "source": [
    "def edgelist_to_incidence(edgelist, node_colname, value_colname=None):\n",
    "    \"\"\"assume edgelist is indexed by edge number, not some edge set of names (for now)\"\"\"\n",
    "    data = np.ones_like(edgelist.index.values) if value_colname == None else edgelist[value_colname].values\n",
    "    return sparse.coo_array((data, (edgelist.index, edgelist[node_colname].cat.codes)), shape=(edgelist.shape[0], len(edgelist[node_colname].cat.categories)))  # coo_array((data, (row_idx, col_idx)))"
   ]
  },
  {
   "cell_type": "code",
   "execution_count": 20,
   "metadata": {},
   "outputs": [
    {
     "name": "stdout",
     "output_type": "stream",
     "text": [
      "  (0, 0)\t1\n",
      "  (1, 3)\t1\n",
      "  (2, 4)\t1\n",
      "  (3, 6)\t1\n",
      "  (4, 3)\t1\n",
      "  (5, 4)\t1\n",
      "  (6, 1)\t1\n",
      "  (7, 4)\t1\n",
      "  (8, 0)\t1\n",
      "  (9, 3)\t1\n",
      "  (10, 5)\t1\n",
      "  (11, 0)\t1\n",
      "  (12, 2)\t1\n",
      "  (13, 7)\t1\n"
     ]
    }
   ],
   "source": [
    "inc = edgelist_to_incidence(edgelist, node_colname='term')\n",
    "print(inc)"
   ]
  },
  {
   "cell_type": "code",
   "execution_count": null,
   "metadata": {},
   "outputs": [],
   "source": [
    "# tuple_list = list(zip(coo_rows, coo_col_names, coo_matrix.data))\n",
    "tuple_list = list(zip(coo_rows, coo_col_names, ))\n",
    "tuple_list_w_data = [(*t, 1) for t in tuple_list]"
   ]
  },
  {
   "cell_type": "code",
   "execution_count": null,
   "metadata": {},
   "outputs": [],
   "source": [
    "import itertools\n",
    "row_index = dict(zip(tuple_list_w_data, itertools.count()))\n",
    "row_index"
   ]
  },
  {
   "cell_type": "code",
   "execution_count": null,
   "metadata": {},
   "outputs": [],
   "source": [
    "# array_x = nx.algorithms.bipartite.biadjacency_matrix(graph, row_order=tuple_list_w_data)\n",
    "# array_x"
   ]
  },
  {
   "cell_type": "code",
   "execution_count": null,
   "metadata": {},
   "outputs": [],
   "source": [
    "# Make sure pandas categorical works with ints\n",
    "#   - in nb, ss example has index as ints, not categoricals\n",
    "#   - pandas_categoricals"
   ]
  },
  {
   "cell_type": "code",
   "execution_count": null,
   "metadata": {},
   "outputs": [],
   "source": [
    "coo.unstack(level=1, )"
   ]
  },
  {
   "cell_type": "code",
   "execution_count": null,
   "metadata": {},
   "outputs": [],
   "source": [
    "type(coocc)"
   ]
  },
  {
   "cell_type": "code",
   "execution_count": null,
   "metadata": {},
   "outputs": [],
   "source": [
    "import levi\n",
    "\n",
    "coo.levi"
   ]
  },
  {
   "attachments": {},
   "cell_type": "markdown",
   "metadata": {},
   "source": [
    "For now, assume \"input\" is a doc-term matrix"
   ]
  },
  {
   "cell_type": "code",
   "execution_count": null,
   "metadata": {},
   "outputs": [],
   "source": [
    "# from affinity-to-edge\n",
    "\n",
    "def affinity_to_edge(source_name,  # type: str\n",
    "    target_name,  # type: str\n",
    "    affinity,  # type: DF\n",
    "    value_name=None  # type: Optional[str]\n",
    "    ):\n",
    "# type: (...) -> DF\n",
    "    \"\"\"DEPRECATED\"\"\"\n",
    "    return (affinity.reset_index().melt(source_name, value_name=value_name, var_name=target_name).query('weight>0'))\n"
   ]
  },
  {
   "cell_type": "code",
   "execution_count": null,
   "metadata": {},
   "outputs": [],
   "source": [
    "doc_term.columns.dtype"
   ]
  },
  {
   "attachments": {},
   "cell_type": "markdown",
   "metadata": {},
   "source": [
    "## Testing dataframe accessor"
   ]
  },
  {
   "cell_type": "code",
   "execution_count": null,
   "metadata": {},
   "outputs": [],
   "source": [
    "# ba = edgelist.levi.edgelist_to_biadjacency()\n",
    "# ba"
   ]
  },
  {
   "attachments": {},
   "cell_type": "markdown",
   "metadata": {},
   "source": [
    "### Creating a new Levi graph: Key feature of Grabble\n",
    "#### Example: combining \"students\" and \"reviewers\" into new \"people\" category\n",
    "\n",
    "what to call this??"
   ]
  },
  {
   "cell_type": "code",
   "execution_count": null,
   "metadata": {},
   "outputs": [],
   "source": [
    "# edgelist.set_index([edgelist.index, 'doc'])['flag'], #.notna(#.sum(axis=1))"
   ]
  },
  {
   "cell_type": "code",
   "execution_count": null,
   "metadata": {},
   "outputs": [],
   "source": [
    "levi_series.index.dtypes"
   ]
  },
  {
   "cell_type": "code",
   "execution_count": null,
   "metadata": {},
   "outputs": [],
   "source": [
    "def new_levi(og_levi, ):\n",
    "    el = og_levi.levi.to_edgelist()\n",
    "    new_index = pd.MultiIndex.from_arrays([el.index, list(zip(el.level_0, el.level_1))])\n",
    "    new_levi = pd.Series(data=el.flag.values, index=new_index)\n",
    "    # new_levi = el.set_index([el.index, list(zip(el.level_0, el.level_1))])\n",
    "    return new_levi\n",
    "\n",
    "test_new_levi = new_levi(levi_series)\n",
    "test_new_levi"
   ]
  },
  {
   "cell_type": "code",
   "execution_count": null,
   "metadata": {},
   "outputs": [],
   "source": [
    "type(test_new_levi)"
   ]
  },
  {
   "cell_type": "code",
   "execution_count": null,
   "metadata": {},
   "outputs": [],
   "source": [
    "import levi\n",
    "\n",
    "test_adj = test_new_levi\n",
    "test_adj"
   ]
  },
  {
   "cell_type": "code",
   "execution_count": null,
   "metadata": {},
   "outputs": [],
   "source": [
    "# Notes/code scratchwork from meeting on 3/16\n",
    "\n",
    "edgelist\n",
    "pd.concat([\n",
    "    edgelist.set_index([edgelist.index, 'doc'])['flag'], #.notna(#.sum(axis=1))\n",
    "    edgelist.set_index([edgelist.index, 'term'])['flag']\n",
    "]) #.index\n",
    "\n",
    "# pd.CategoricalDtype"
   ]
  },
  {
   "cell_type": "code",
   "execution_count": null,
   "metadata": {},
   "outputs": [],
   "source": [
    "# more notes\n",
    "from scipy.sparse import coo_array\n",
    "\n",
    "# A = coo_array(students@stuents.T)\n",
    "A = coo_array(coocc@coocc.T)\n",
    "# pd.Series.sparse.from_coo(A).unstack()\n",
    "# pd.Series(index= pd.MultiIndex.from_arrays([A.row, A.col]))"
   ]
  },
  {
   "cell_type": "code",
   "execution_count": null,
   "metadata": {},
   "outputs": [],
   "source": [
    "levi_series"
   ]
  },
  {
   "cell_type": "code",
   "execution_count": null,
   "metadata": {},
   "outputs": [],
   "source": [
    "new_levi = edgelist.set_index(edgelist.index, edgelist.columns[0]) #.unstack()\n",
    "new_levi"
   ]
  },
  {
   "cell_type": "code",
   "execution_count": null,
   "metadata": {},
   "outputs": [],
   "source": []
  },
  {
   "cell_type": "code",
   "execution_count": null,
   "metadata": {},
   "outputs": [],
   "source": [
    "levi_series"
   ]
  },
  {
   "attachments": {},
   "cell_type": "markdown",
   "metadata": {},
   "source": [
    "## pandas-flavor\n",
    "\n",
    "another approach to extending pandas for levi?"
   ]
  },
  {
   "cell_type": "code",
   "execution_count": null,
   "metadata": {},
   "outputs": [],
   "source": [
    "# example code using pandas-flavor\n",
    "\n",
    "def add_method(key, val, fn_name=None):  \n",
    "    def fn(df):\n",
    "        return df.loc[df[key] == val]\n",
    "\n",
    "    if fn_name is None:\n",
    "        fn_name = f'{key}_{val}'\n",
    "\n",
    "    fn.__name__ = fn_name\n",
    "    fn = pf.register_dataframe_method(fn)\n",
    "    return fn\n",
    "\n",
    "for name1 in ['john', 'lisa']:\n",
    "    add_method('name1', name1)\n",
    "\n",
    "for name2 in ['fay', 'meg', 'wil']:\n",
    "    add_method('name2', name2)\n",
    "\n",
    "\n",
    "# OR, another approach:\n",
    "\n",
    "@pf.register_dataframe_method\n",
    "def name1(df, val):\n",
    "    return df.loc[df['name1'] == val]\n",
    "\n",
    "@pf.register_dataframe_method\n",
    "def name2(df, val):\n",
    "    return df.loc[df['name2'] == val]\n",
    "\n",
    "test.name1('lisa')\n",
    "#   name1 name2  scoreA  scoreB\n",
    "# 1  lisa   wil    9.67    8.87\n",
    "# 2  lisa   fay    3.41    5.04\n",
    "# 3  lisa   wil    0.58    6.12\n",
    "\n",
    "test.name1('lisa').name2('wil')\n",
    "#   name1 name2  scoreA  scoreB\n",
    "# 1  lisa   wil    9.67    8.87\n",
    "# 3  lisa   wil    0.58    6.12"
   ]
  },
  {
   "attachments": {},
   "cell_type": "markdown",
   "metadata": {},
   "source": [
    "### Type validation, `beartype` stuff (mostly scratchwork)"
   ]
  },
  {
   "cell_type": "code",
   "execution_count": null,
   "metadata": {},
   "outputs": [],
   "source": [
    "from beartype import beartype\n",
    "from beartype import typing as bt\n",
    "from beartype.door import TypeHint as th\n",
    "\n",
    "from typing_extensions import NamedTuple\n",
    "import static_frame as sf\n",
    "\n",
    "from dataclasses import dataclass, InitVar\n",
    "import networkx as nx\n",
    "# from typing import NamedTuple\n",
    "from IPython.display import display\n",
    "import numpy as np\n",
    "from numpy.typing import DTypeLike"
   ]
  },
  {
   "cell_type": "code",
   "execution_count": null,
   "metadata": {},
   "outputs": [],
   "source": [
    "from beartype import beartype\n",
    "from beartype.vale import IsAttr, IsEqual, IsSubclass, IsInstance\n",
    "from typing import Annotated  "
   ]
  },
  {
   "cell_type": "code",
   "execution_count": null,
   "metadata": {},
   "outputs": [],
   "source": [
    "# Type hint matching only two-dimensional NumPy arrays of floats of\n",
    "# arbitrary precision. This time, do it faster than anyone has ever\n",
    "# type-checked NumPy arrays before. (Cue sonic boom, Chuck Yeager.)\n",
    "import numpy as np\n",
    "Numpy2DFloatArray = Annotated[np.ndarray,\n",
    "    IsAttr['ndim', IsEqual[2]] &\n",
    "    IsAttr['dtype', IsAttr['type', IsSubclass[np.floating]]]\n",
    "]"
   ]
  },
  {
   "cell_type": "code",
   "execution_count": null,
   "metadata": {},
   "outputs": [],
   "source": [
    "levi_series.index"
   ]
  },
  {
   "cell_type": "code",
   "execution_count": null,
   "metadata": {},
   "outputs": [],
   "source": [
    "series_2Dindex = Annotated[pd.Series, # need this Series?\n",
    "    IsInstance[pd.Series] &\n",
    "    IsAttr['index', IsInstance[pd.MultiIndex]]\n",
    "]"
   ]
  },
  {
   "cell_type": "code",
   "execution_count": null,
   "metadata": {},
   "outputs": [],
   "source": [
    "@beartype\n",
    "def test_series_stuff(levi: series_2Dindex):\n",
    "    print(\"*** TEST ***\")\n",
    "\n",
    "test_series_stuff(levi_series)"
   ]
  },
  {
   "cell_type": "code",
   "execution_count": null,
   "metadata": {},
   "outputs": [],
   "source": [
    "test_series_stuff(edgelist)"
   ]
  },
  {
   "cell_type": "code",
   "execution_count": 34,
   "metadata": {},
   "outputs": [
    {
     "ename": "NameError",
     "evalue": "name 'test_series_stuff' is not defined",
     "output_type": "error",
     "traceback": [
      "\u001b[0;31m---------------------------------------------------------------------------\u001b[0m",
      "\u001b[0;31mNameError\u001b[0m                                 Traceback (most recent call last)",
      "Cell \u001b[0;32mIn[34], line 1\u001b[0m\n\u001b[0;32m----> 1\u001b[0m test_series_stuff(levi)\n",
      "\u001b[0;31mNameError\u001b[0m: name 'test_series_stuff' is not defined"
     ]
    }
   ],
   "source": [
    "test_series_stuff(levi)"
   ]
  },
  {
   "cell_type": "code",
   "execution_count": null,
   "metadata": {},
   "outputs": [],
   "source": [
    "from phantom import Phantom\n",
    "from phantom.predicates import Predicate\n",
    "import beartype.typing as bt\n",
    "from beartype.door import is_bearable\n"
   ]
  },
  {
   "cell_type": "code",
   "execution_count": null,
   "metadata": {},
   "outputs": [],
   "source": [
    "def of_beartype(t: bt.Union[type, bt.Tuple[type, ...]]) -> Predicate[object]:\n",
    "    \"\"\" From `phantom.predicates.generic.of_type`\n",
    "\n",
    "    Create a new predicate that succeeds when its argument is bearable on ``t``.\n",
    "    \"\"\"\n",
    "\n",
    "    def check(a: object) -> bool:\n",
    "        return is_bearable(a, t)\n",
    "\n",
    "    return check"
   ]
  },
  {
   "cell_type": "code",
   "execution_count": null,
   "metadata": {},
   "outputs": [],
   "source": [
    "# chck = of_beartype(coo)\n",
    "# chck(coo)"
   ]
  },
  {
   "cell_type": "code",
   "execution_count": 33,
   "metadata": {},
   "outputs": [
    {
     "ename": "NameError",
     "evalue": "name 'beartype' is not defined",
     "output_type": "error",
     "traceback": [
      "\u001b[0;31m---------------------------------------------------------------------------\u001b[0m",
      "\u001b[0;31mNameError\u001b[0m                                 Traceback (most recent call last)",
      "Cell \u001b[0;32mIn[33], line 4\u001b[0m\n\u001b[1;32m      1\u001b[0m \u001b[39m# beartype sample code\u001b[39;00m\n\u001b[1;32m      2\u001b[0m \n\u001b[1;32m      3\u001b[0m \u001b[39m# Annotate @beartype-decorated callables with beartype validators.\u001b[39;00m\n\u001b[0;32m----> 4\u001b[0m \u001b[39m@beartype\u001b[39m\n\u001b[1;32m      5\u001b[0m \u001b[39mdef\u001b[39;00m \u001b[39mpolygon_area\u001b[39m(polygon: Numpy2DFloatArray) \u001b[39m-\u001b[39m\u001b[39m>\u001b[39m \u001b[39mfloat\u001b[39m:\n\u001b[1;32m      6\u001b[0m     \u001b[39m'''\u001b[39;00m\n\u001b[1;32m      7\u001b[0m \u001b[39m    Area of a two-dimensional polygon of floats defined as a set of\u001b[39;00m\n\u001b[1;32m      8\u001b[0m \u001b[39m    counter-clockwise points, calculated via Green's theorem.\u001b[39;00m\n\u001b[1;32m      9\u001b[0m \n\u001b[1;32m     10\u001b[0m \u001b[39m    *Don't ask.*\u001b[39;00m\n\u001b[1;32m     11\u001b[0m \u001b[39m    '''\u001b[39;00m\n\u001b[1;32m     13\u001b[0m     \u001b[39m# Calculate and return the desired area. Pretend we understand this.\u001b[39;00m\n",
      "\u001b[0;31mNameError\u001b[0m: name 'beartype' is not defined"
     ]
    }
   ],
   "source": [
    "# beartype sample code\n",
    "\n",
    "# Annotate @beartype-decorated callables with beartype validators.\n",
    "@beartype\n",
    "def polygon_area(polygon: Numpy2DFloatArray) -> float:\n",
    "    '''\n",
    "    Area of a two-dimensional polygon of floats defined as a set of\n",
    "    counter-clockwise points, calculated via Green's theorem.\n",
    "\n",
    "    *Don't ask.*\n",
    "    '''\n",
    "\n",
    "    # Calculate and return the desired area. Pretend we understand this.\n",
    "    polygon_rolled = np.roll(polygon, -1, axis=0)\n",
    "    return np.abs(0.5*np.sum(\n",
    "        polygon[:,0]*polygon_rolled[:,1] -\n",
    "        polygon_rolled[:,0]*polygon[:,1]))\n"
   ]
  },
  {
   "cell_type": "code",
   "execution_count": null,
   "metadata": {},
   "outputs": [],
   "source": [
    "from beartype.vale import IsInstance\n",
    "class Token(str):\n",
    "    ...\n",
    "\n",
    "@beartype\n",
    "class Tester(bt.Annotated[str, IsInstance[Token]]):\n",
    "    ...\n",
    "\n",
    "isinstance(Tester('abc'), Token)"
   ]
  },
  {
   "cell_type": "code",
   "execution_count": null,
   "metadata": {},
   "outputs": [],
   "source": [
    "# # Import the requisite machinery.\n",
    "# from beartype.vale import Is\n",
    "# from typing import Annotated   # <--------------- if Python ≥ 3.9.0\n",
    "\n",
    "# # Type hint matching only strings with lengths ranging [4, 40].\n",
    "# LengthyString = Annotated[str, Is[lambda text: 4 <= len(text) <= 40]]\n",
    "\n",
    "# test_typing = Annotated[pd.Series, Is[pd.Series]]\n",
    "# test_typing\n"
   ]
  },
  {
   "cell_type": "code",
   "execution_count": null,
   "metadata": {},
   "outputs": [],
   "source": [
    "# ids = ('id-student', 'id-project')\n",
    "\n",
    "# testing = doc_term.reset_index().melt(0, value_name=\"brown\", ).query('weight>0')   #var_name=target_name\n",
    "# testing"
   ]
  },
  {
   "cell_type": "code",
   "execution_count": 25,
   "metadata": {},
   "outputs": [],
   "source": [
    "# pd.DataFrame.melt\n",
    "\n",
    "# testing = doc_term.reset_index().melt(source_name, value_name=value_name, var_name=target_name).query('weight>0')\n",
    "# testing"
   ]
  },
  {
   "cell_type": "markdown",
   "metadata": {},
   "source": [
    "### Plotting Graphs\n",
    "Plan to eventually add functionality in Grabble to easily plug into packages for easy plotting, compatable with the Levi-format workflow. Notworkx and Hypernetx are two options."
   ]
  },
  {
   "cell_type": "code",
   "execution_count": 26,
   "metadata": {},
   "outputs": [
    {
     "data": {
      "image/png": "[encoded data removed]",
      "text/plain": [
       "<Figure size 384x288 with 1 Axes>"
      ]
     },
     "metadata": {},
     "output_type": "display_data"
    }
   ],
   "source": [
    "graph = nx.algorithms.bipartite.from_biadjacency_matrix(coo_matrix)\n",
    "sets = nx.get_node_attributes(graph, name=\"bipartite\")\n",
    "colors = {0: 'gold', 1: 'lightskyblue'}\n",
    "\n",
    "nx.draw(graph, with_labels=True, node_color=[colors[node[1]['bipartite']] \n",
    "                    for node in graph.nodes(data=True)])\n"
   ]
  },
  {
   "cell_type": "code",
   "execution_count": 28,
   "metadata": {},
   "outputs": [
    {
     "data": {
      "text/plain": [
       "EdgeView([(0, 5), (0, 8), (0, 9), (0, 11), (1, 8), (1, 9), (2, 6), (2, 9), (3, 5), (3, 8), (3, 10), (4, 5), (4, 7), (4, 12)])"
      ]
     },
     "execution_count": 28,
     "metadata": {},
     "output_type": "execute_result"
    }
   ],
   "source": [
    "graph.edges()"
   ]
  },
  {
   "cell_type": "code",
   "execution_count": 29,
   "metadata": {},
   "outputs": [],
   "source": [
    "# Plotting with HyperNetx\n",
    "import hypernetx as hnx"
   ]
  },
  {
   "cell_type": "code",
   "execution_count": 30,
   "metadata": {},
   "outputs": [],
   "source": [
    "term_doc = doc_term.T"
   ]
  },
  {
   "cell_type": "code",
   "execution_count": 31,
   "metadata": {},
   "outputs": [],
   "source": [
    "# *HNX* hypergraphs can be built from networkx bipartite graph objects using `from_bipartite`\n",
    "H = hnx.Hypergraph.from_dataframe(term_doc)"
   ]
  },
  {
   "cell_type": "code",
   "execution_count": 32,
   "metadata": {},
   "outputs": [
    {
     "data": {
      "image/png": "[encoded data removed]",
      "text/plain": [
       "<Figure size 480x480 with 1 Axes>"
      ]
     },
     "metadata": {},
     "output_type": "display_data"
    }
   ],
   "source": [
    "hnx.drawing.draw(H)"
   ]
  },
  {
   "cell_type": "code",
   "execution_count": null,
   "metadata": {},
   "outputs": [],
   "source": []
  }
 ],
 "metadata": {
  "kernelspec": {
   "display_name": "grabble",
   "language": "python",
   "name": "python3"
  },
  "language_info": {
   "codemirror_mode": {
    "name": "ipython",
    "version": 3
   },
   "file_extension": ".py",
   "mimetype": "text/x-python",
   "name": "python",
   "nbconvert_exporter": "python",
   "pygments_lexer": "ipython3",
   "version": "3.10.9"
  },
  "orig_nbformat": 4,
  "vscode": {
   "interpreter": {
    "hash": "12bdaef2ce4d129157466fc7dc933fb3ecbffac9422f744ddb54af02cb04aaa5"
   }
  }
 },
 "nbformat": 4,
 "nbformat_minor": 2
}
