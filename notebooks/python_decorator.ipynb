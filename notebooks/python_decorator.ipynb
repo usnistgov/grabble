{
 "cells": [
  {
   "attachments": {},
   "cell_type": "markdown",
   "metadata": {},
   "source": [
    "# Levi Pandas Accessor\n",
    "## Transform between and among different graph data representations via a Levi graph"
   ]
  },
  {
   "attachments": {},
   "cell_type": "markdown",
   "metadata": {},
   "source": [
    "Helpful links:  \n",
    "https://jendobson.com/2020/06/12/writing-custom-accessors-to-avoid-subclassing-pandas-dataframes/  \n",
    "https://bpw1621.com/archive/extending-pandas/    \n",
    "https://en.wikipedia.org/wiki/Levi_graph"
   ]
  },
  {
   "cell_type": "code",
   "execution_count": 1,
   "metadata": {},
   "outputs": [],
   "source": [
    "import numpy as np\n",
    "import pandas as pd\n",
    "from scipy import sparse\n",
    "import networkx as nx\n",
    "import matplotlib.pyplot as plt\n",
    "import beartype as bt\n",
    "\n",
    "plt.rcParams['figure.dpi'] = 60\n"
   ]
  },
  {
   "attachments": {},
   "cell_type": "markdown",
   "metadata": {},
   "source": [
    "### Create data to use in development:\n",
    "- Token Co-occurrence matrix\n",
    "- Document-term matrix (this is an example of a bipartite structure/incidence matrix)\n",
    "- COO (format: multi-index pandas Series)\n"
   ]
  },
  {
   "cell_type": "code",
   "execution_count": 2,
   "metadata": {},
   "outputs": [],
   "source": [
    "# Create sample dataset\n",
    "\n",
    "doc_ids = [str(x) for x in range(5)]\n",
    "texts = [\n",
    "    \"the quick brown fox jumped\",\n",
    "    \"the fox jumped\",\n",
    "    \"the dog jumped\",\n",
    "    \"one brown fox\",\n",
    "    \"ten brown dogs\",\n",
    "]\n",
    "\n",
    "df = pd.DataFrame({'doc_id': doc_ids,\n",
    "                   'text': texts,\n",
    "                   })\n"
   ]
  },
  {
   "cell_type": "code",
   "execution_count": 3,
   "metadata": {},
   "outputs": [],
   "source": [
    "from sklearn.feature_extraction.text import CountVectorizer\n",
    "\n",
    "cv = CountVectorizer(stop_words=['the'])\n",
    "cv.fit(df['text'])\n",
    "tokens = cv.get_feature_names_out()  # alphabetical\n"
   ]
  },
  {
   "cell_type": "code",
   "execution_count": 4,
   "metadata": {},
   "outputs": [
    {
     "data": {
      "text/plain": [
       "array(['brown', 'dog', 'dogs', 'fox', 'jumped', 'one', 'quick', 'ten'],\n",
       "      dtype=object)"
      ]
     },
     "execution_count": 4,
     "metadata": {},
     "output_type": "execute_result"
    }
   ],
   "source": [
    "tokens\n"
   ]
  },
  {
   "cell_type": "code",
   "execution_count": 5,
   "metadata": {},
   "outputs": [
    {
     "data": {
      "text/html": [
       "<div>\n",
       "<style scoped>\n",
       "    .dataframe tbody tr th:only-of-type {\n",
       "        vertical-align: middle;\n",
       "    }\n",
       "\n",
       "    .dataframe tbody tr th {\n",
       "        vertical-align: top;\n",
       "    }\n",
       "\n",
       "    .dataframe thead th {\n",
       "        text-align: right;\n",
       "    }\n",
       "</style>\n",
       "<table border=\"1\" class=\"dataframe\">\n",
       "  <thead>\n",
       "    <tr style=\"text-align: right;\">\n",
       "      <th></th>\n",
       "      <th>brown</th>\n",
       "      <th>dog</th>\n",
       "      <th>dogs</th>\n",
       "      <th>fox</th>\n",
       "      <th>jumped</th>\n",
       "      <th>one</th>\n",
       "      <th>quick</th>\n",
       "      <th>ten</th>\n",
       "    </tr>\n",
       "  </thead>\n",
       "  <tbody>\n",
       "    <tr>\n",
       "      <th>brown</th>\n",
       "      <td>0</td>\n",
       "      <td>0</td>\n",
       "      <td>1</td>\n",
       "      <td>2</td>\n",
       "      <td>1</td>\n",
       "      <td>1</td>\n",
       "      <td>1</td>\n",
       "      <td>1</td>\n",
       "    </tr>\n",
       "    <tr>\n",
       "      <th>dog</th>\n",
       "      <td>0</td>\n",
       "      <td>0</td>\n",
       "      <td>0</td>\n",
       "      <td>0</td>\n",
       "      <td>1</td>\n",
       "      <td>0</td>\n",
       "      <td>0</td>\n",
       "      <td>0</td>\n",
       "    </tr>\n",
       "    <tr>\n",
       "      <th>dogs</th>\n",
       "      <td>1</td>\n",
       "      <td>0</td>\n",
       "      <td>0</td>\n",
       "      <td>0</td>\n",
       "      <td>0</td>\n",
       "      <td>0</td>\n",
       "      <td>0</td>\n",
       "      <td>1</td>\n",
       "    </tr>\n",
       "    <tr>\n",
       "      <th>fox</th>\n",
       "      <td>2</td>\n",
       "      <td>0</td>\n",
       "      <td>0</td>\n",
       "      <td>0</td>\n",
       "      <td>2</td>\n",
       "      <td>1</td>\n",
       "      <td>1</td>\n",
       "      <td>0</td>\n",
       "    </tr>\n",
       "    <tr>\n",
       "      <th>jumped</th>\n",
       "      <td>1</td>\n",
       "      <td>1</td>\n",
       "      <td>0</td>\n",
       "      <td>2</td>\n",
       "      <td>0</td>\n",
       "      <td>0</td>\n",
       "      <td>1</td>\n",
       "      <td>0</td>\n",
       "    </tr>\n",
       "    <tr>\n",
       "      <th>one</th>\n",
       "      <td>1</td>\n",
       "      <td>0</td>\n",
       "      <td>0</td>\n",
       "      <td>1</td>\n",
       "      <td>0</td>\n",
       "      <td>0</td>\n",
       "      <td>0</td>\n",
       "      <td>0</td>\n",
       "    </tr>\n",
       "    <tr>\n",
       "      <th>quick</th>\n",
       "      <td>1</td>\n",
       "      <td>0</td>\n",
       "      <td>0</td>\n",
       "      <td>1</td>\n",
       "      <td>1</td>\n",
       "      <td>0</td>\n",
       "      <td>0</td>\n",
       "      <td>0</td>\n",
       "    </tr>\n",
       "    <tr>\n",
       "      <th>ten</th>\n",
       "      <td>1</td>\n",
       "      <td>0</td>\n",
       "      <td>1</td>\n",
       "      <td>0</td>\n",
       "      <td>0</td>\n",
       "      <td>0</td>\n",
       "      <td>0</td>\n",
       "      <td>0</td>\n",
       "    </tr>\n",
       "  </tbody>\n",
       "</table>\n",
       "</div>"
      ],
      "text/plain": [
       "        brown  dog  dogs  fox  jumped  one  quick  ten\n",
       "brown       0    0     1    2       1    1      1    1\n",
       "dog         0    0     0    0       1    0      0    0\n",
       "dogs        1    0     0    0       0    0      0    1\n",
       "fox         2    0     0    0       2    1      1    0\n",
       "jumped      1    1     0    2       0    0      1    0\n",
       "one         1    0     0    1       0    0      0    0\n",
       "quick       1    0     0    1       1    0      0    0\n",
       "ten         1    0     1    0       0    0      0    0"
      ]
     },
     "execution_count": 5,
     "metadata": {},
     "output_type": "execute_result"
    }
   ],
   "source": [
    "# Create cooccurence matrix\n",
    "\n",
    "results = cv.transform(df['text'])\n",
    "coocc = results.T.dot(results)\n",
    "# np.fill_diagonal(coocc.values, 0)\n",
    "coocc = pd.DataFrame(results.T.dot(results).toarray(), index=pd.CategoricalIndex(\n",
    "    tokens), columns=pd.CategoricalIndex(tokens))\n",
    "np.fill_diagonal(coocc.values, 0)\n",
    "coocc\n"
   ]
  },
  {
   "cell_type": "code",
   "execution_count": 6,
   "metadata": {},
   "outputs": [
    {
     "data": {
      "text/html": [
       "<div>\n",
       "<style scoped>\n",
       "    .dataframe tbody tr th:only-of-type {\n",
       "        vertical-align: middle;\n",
       "    }\n",
       "\n",
       "    .dataframe tbody tr th {\n",
       "        vertical-align: top;\n",
       "    }\n",
       "\n",
       "    .dataframe thead th {\n",
       "        text-align: right;\n",
       "    }\n",
       "</style>\n",
       "<table border=\"1\" class=\"dataframe\">\n",
       "  <thead>\n",
       "    <tr style=\"text-align: right;\">\n",
       "      <th></th>\n",
       "      <th>brown</th>\n",
       "      <th>dog</th>\n",
       "      <th>dogs</th>\n",
       "      <th>fox</th>\n",
       "      <th>jumped</th>\n",
       "      <th>one</th>\n",
       "      <th>quick</th>\n",
       "      <th>ten</th>\n",
       "      <th>cat</th>\n",
       "      <th>bear</th>\n",
       "      <th>tree</th>\n",
       "    </tr>\n",
       "  </thead>\n",
       "  <tbody>\n",
       "    <tr>\n",
       "      <th>0</th>\n",
       "      <td>1</td>\n",
       "      <td>0</td>\n",
       "      <td>0</td>\n",
       "      <td>1</td>\n",
       "      <td>1</td>\n",
       "      <td>0</td>\n",
       "      <td>1</td>\n",
       "      <td>0</td>\n",
       "      <td>0</td>\n",
       "      <td>0</td>\n",
       "      <td>0</td>\n",
       "    </tr>\n",
       "    <tr>\n",
       "      <th>1</th>\n",
       "      <td>0</td>\n",
       "      <td>0</td>\n",
       "      <td>0</td>\n",
       "      <td>1</td>\n",
       "      <td>1</td>\n",
       "      <td>0</td>\n",
       "      <td>0</td>\n",
       "      <td>0</td>\n",
       "      <td>0</td>\n",
       "      <td>0</td>\n",
       "      <td>0</td>\n",
       "    </tr>\n",
       "    <tr>\n",
       "      <th>2</th>\n",
       "      <td>0</td>\n",
       "      <td>1</td>\n",
       "      <td>0</td>\n",
       "      <td>0</td>\n",
       "      <td>1</td>\n",
       "      <td>0</td>\n",
       "      <td>0</td>\n",
       "      <td>0</td>\n",
       "      <td>0</td>\n",
       "      <td>0</td>\n",
       "      <td>0</td>\n",
       "    </tr>\n",
       "    <tr>\n",
       "      <th>3</th>\n",
       "      <td>1</td>\n",
       "      <td>0</td>\n",
       "      <td>0</td>\n",
       "      <td>1</td>\n",
       "      <td>0</td>\n",
       "      <td>1</td>\n",
       "      <td>0</td>\n",
       "      <td>0</td>\n",
       "      <td>0</td>\n",
       "      <td>0</td>\n",
       "      <td>0</td>\n",
       "    </tr>\n",
       "    <tr>\n",
       "      <th>4</th>\n",
       "      <td>1</td>\n",
       "      <td>0</td>\n",
       "      <td>1</td>\n",
       "      <td>0</td>\n",
       "      <td>0</td>\n",
       "      <td>0</td>\n",
       "      <td>0</td>\n",
       "      <td>1</td>\n",
       "      <td>0</td>\n",
       "      <td>0</td>\n",
       "      <td>0</td>\n",
       "    </tr>\n",
       "  </tbody>\n",
       "</table>\n",
       "</div>"
      ],
      "text/plain": [
       "   brown  dog  dogs  fox  jumped  one  quick  ten  cat  bear  tree\n",
       "0      1    0     0    1       1    0      1    0    0     0     0\n",
       "1      0    0     0    1       1    0      0    0    0     0     0\n",
       "2      0    1     0    0       1    0      0    0    0     0     0\n",
       "3      1    0     0    1       0    1      0    0    0     0     0\n",
       "4      1    0     1    0       0    0      0    1    0     0     0"
      ]
     },
     "execution_count": 6,
     "metadata": {},
     "output_type": "execute_result"
    }
   ],
   "source": [
    "# Create document term matrix (BIPARTITE STRUCTURE)\n",
    "\n",
    "results = cv.transform(df['text'])\n",
    "features = cv.get_feature_names_out()\n",
    "doc_term = pd.DataFrame(results.toarray(), columns=features)\n",
    "doc_term = doc_term.reindex(\n",
    "    columns=doc_term.columns.tolist()+['cat', 'bear', 'tree'], fill_value=0)\n",
    "doc_term\n"
   ]
  },
  {
   "cell_type": "code",
   "execution_count": 7,
   "metadata": {},
   "outputs": [
    {
     "data": {
      "text/plain": [
       "{0: 'brown',\n",
       " 1: 'dog',\n",
       " 2: 'dogs',\n",
       " 3: 'fox',\n",
       " 4: 'jumped',\n",
       " 5: 'one',\n",
       " 6: 'quick',\n",
       " 7: 'ten',\n",
       " 8: 'cat',\n",
       " 9: 'bear',\n",
       " 10: 'tree'}"
      ]
     },
     "execution_count": 7,
     "metadata": {},
     "output_type": "execute_result"
    }
   ],
   "source": [
    "# Create COO Dataframe\n",
    "# using scipy sparse module here, but we want to avoid it in production\n",
    "coo_matrix = sparse.coo_matrix(doc_term.values)\n",
    "coo_rows = coo_matrix.row\n",
    "coo_cols = coo_matrix.col\n",
    "coo_vals = coo_matrix.data\n",
    "\n",
    "term_dict = dict(zip(range(0, 11), doc_term.columns))\n",
    "term_dict\n"
   ]
  },
  {
   "cell_type": "code",
   "execution_count": 8,
   "metadata": {},
   "outputs": [
    {
     "name": "stdout",
     "output_type": "stream",
     "text": [
      "  (0, 0)\t1\n",
      "  (0, 3)\t1\n",
      "  (0, 4)\t1\n",
      "  (0, 6)\t1\n",
      "  (1, 3)\t1\n",
      "  (1, 4)\t1\n",
      "  (2, 1)\t1\n",
      "  (2, 4)\t1\n",
      "  (3, 0)\t1\n",
      "  (3, 3)\t1\n",
      "  (3, 5)\t1\n",
      "  (4, 0)\t1\n",
      "  (4, 2)\t1\n",
      "  (4, 7)\t1\n"
     ]
    }
   ],
   "source": [
    "print(coo_matrix)  # scipy sparse format\n"
   ]
  },
  {
   "cell_type": "code",
   "execution_count": 9,
   "metadata": {},
   "outputs": [],
   "source": [
    "coo_cols = coo_cols.tolist()\n",
    "coo_col_names = [term_dict[key] for key in coo_cols]\n"
   ]
  },
  {
   "cell_type": "code",
   "execution_count": 10,
   "metadata": {},
   "outputs": [
    {
     "data": {
      "text/html": [
       "<div>\n",
       "<style scoped>\n",
       "    .dataframe tbody tr th:only-of-type {\n",
       "        vertical-align: middle;\n",
       "    }\n",
       "\n",
       "    .dataframe tbody tr th {\n",
       "        vertical-align: top;\n",
       "    }\n",
       "\n",
       "    .dataframe thead th {\n",
       "        text-align: right;\n",
       "    }\n",
       "</style>\n",
       "<table border=\"1\" class=\"dataframe\">\n",
       "  <thead>\n",
       "    <tr style=\"text-align: right;\">\n",
       "      <th></th>\n",
       "      <th></th>\n",
       "      <th>flag</th>\n",
       "    </tr>\n",
       "  </thead>\n",
       "  <tbody>\n",
       "    <tr>\n",
       "      <th rowspan=\"4\" valign=\"top\">0</th>\n",
       "      <th>brown</th>\n",
       "      <td>1</td>\n",
       "    </tr>\n",
       "    <tr>\n",
       "      <th>fox</th>\n",
       "      <td>1</td>\n",
       "    </tr>\n",
       "    <tr>\n",
       "      <th>jumped</th>\n",
       "      <td>1</td>\n",
       "    </tr>\n",
       "    <tr>\n",
       "      <th>quick</th>\n",
       "      <td>1</td>\n",
       "    </tr>\n",
       "    <tr>\n",
       "      <th rowspan=\"2\" valign=\"top\">1</th>\n",
       "      <th>fox</th>\n",
       "      <td>1</td>\n",
       "    </tr>\n",
       "    <tr>\n",
       "      <th>jumped</th>\n",
       "      <td>1</td>\n",
       "    </tr>\n",
       "    <tr>\n",
       "      <th rowspan=\"2\" valign=\"top\">2</th>\n",
       "      <th>dog</th>\n",
       "      <td>1</td>\n",
       "    </tr>\n",
       "    <tr>\n",
       "      <th>jumped</th>\n",
       "      <td>1</td>\n",
       "    </tr>\n",
       "    <tr>\n",
       "      <th rowspan=\"3\" valign=\"top\">3</th>\n",
       "      <th>brown</th>\n",
       "      <td>1</td>\n",
       "    </tr>\n",
       "    <tr>\n",
       "      <th>fox</th>\n",
       "      <td>1</td>\n",
       "    </tr>\n",
       "    <tr>\n",
       "      <th>one</th>\n",
       "      <td>1</td>\n",
       "    </tr>\n",
       "    <tr>\n",
       "      <th rowspan=\"3\" valign=\"top\">4</th>\n",
       "      <th>brown</th>\n",
       "      <td>1</td>\n",
       "    </tr>\n",
       "    <tr>\n",
       "      <th>dogs</th>\n",
       "      <td>1</td>\n",
       "    </tr>\n",
       "    <tr>\n",
       "      <th>ten</th>\n",
       "      <td>1</td>\n",
       "    </tr>\n",
       "  </tbody>\n",
       "</table>\n",
       "</div>"
      ],
      "text/plain": [
       "          flag\n",
       "0 brown      1\n",
       "  fox        1\n",
       "  jumped     1\n",
       "  quick      1\n",
       "1 fox        1\n",
       "  jumped     1\n",
       "2 dog        1\n",
       "  jumped     1\n",
       "3 brown      1\n",
       "  fox        1\n",
       "  one        1\n",
       "4 brown      1\n",
       "  dogs       1\n",
       "  ten        1"
      ]
     },
     "execution_count": 10,
     "metadata": {},
     "output_type": "execute_result"
    }
   ],
   "source": [
    "idx = pd.MultiIndex.from_arrays([coo_matrix.row, coo_col_names])\n",
    "coo = pd.DataFrame(coo_matrix.data, index=idx, columns=[\"flag\"])\n",
    "coo\n"
   ]
  },
  {
   "cell_type": "code",
   "execution_count": 11,
   "metadata": {},
   "outputs": [
    {
     "data": {
      "text/plain": [
       "MultiIndex([(0,  'brown'),\n",
       "            (0,    'fox'),\n",
       "            (0, 'jumped'),\n",
       "            (0,  'quick'),\n",
       "            (1,    'fox'),\n",
       "            (1, 'jumped'),\n",
       "            (2,    'dog'),\n",
       "            (2, 'jumped'),\n",
       "            (3,  'brown'),\n",
       "            (3,    'fox'),\n",
       "            (3,    'one'),\n",
       "            (4,  'brown'),\n",
       "            (4,   'dogs'),\n",
       "            (4,    'ten')],\n",
       "           )"
      ]
     },
     "execution_count": 11,
     "metadata": {},
     "output_type": "execute_result"
    }
   ],
   "source": [
    "coo.index\n"
   ]
  },
  {
   "cell_type": "code",
   "execution_count": 12,
   "metadata": {},
   "outputs": [],
   "source": [
    "# new = pd.CategoricalDtype(coo.index)\n",
    "# new\n"
   ]
  },
  {
   "cell_type": "code",
   "execution_count": 13,
   "metadata": {},
   "outputs": [
    {
     "data": {
      "text/plain": [
       "MultiIndex([(0,  'brown'),\n",
       "            (0,    'fox'),\n",
       "            (0, 'jumped'),\n",
       "            (0,  'quick'),\n",
       "            (1,    'fox'),\n",
       "            (1, 'jumped'),\n",
       "            (2,    'dog'),\n",
       "            (2, 'jumped'),\n",
       "            (3,  'brown'),\n",
       "            (3,    'fox'),\n",
       "            (3,    'one'),\n",
       "            (4,  'brown'),\n",
       "            (4,   'dogs'),\n",
       "            (4,    'ten')],\n",
       "           )"
      ]
     },
     "execution_count": 13,
     "metadata": {},
     "output_type": "execute_result"
    }
   ],
   "source": [
    "levi_series = coo.squeeze()\n",
    "levi_series.index\n"
   ]
  },
  {
   "cell_type": "code",
   "execution_count": 14,
   "metadata": {},
   "outputs": [
    {
     "data": {
      "text/plain": [
       "0  brown     1\n",
       "   fox       1\n",
       "   jumped    1\n",
       "   quick     1\n",
       "1  fox       1\n",
       "   jumped    1\n",
       "2  dog       1\n",
       "   jumped    1\n",
       "3  brown     1\n",
       "   fox       1\n",
       "   one       1\n",
       "4  brown     1\n",
       "   dogs      1\n",
       "   ten       1\n",
       "Name: flag, dtype: int64"
      ]
     },
     "execution_count": 14,
     "metadata": {},
     "output_type": "execute_result"
    }
   ],
   "source": [
    "levi_series\n"
   ]
  },
  {
   "attachments": {},
   "cell_type": "markdown",
   "metadata": {},
   "source": [
    "### Converting Levi series to other graph formats\n",
    "\n",
    "This demonstrates `series.py`"
   ]
  },
  {
   "cell_type": "code",
   "execution_count": 15,
   "metadata": {},
   "outputs": [
    {
     "name": "stderr",
     "output_type": "stream",
     "text": [
      "/opt/miniconda3/envs/grabble/lib/python3.10/site-packages/tqdm/auto.py:21: TqdmWarning: IProgress not found. Please update jupyter and ipywidgets. See https://ipywidgets.readthedocs.io/en/stable/user_install.html\n",
      "  from .autonotebook import tqdm as notebook_tqdm\n"
     ]
    }
   ],
   "source": [
    "from levi import series\n"
   ]
  },
  {
   "attachments": {},
   "cell_type": "markdown",
   "metadata": {},
   "source": [
    "Test failed validation function. Gives `test failed validation function` error because the series does not have a two-column multiindex."
   ]
  },
  {
   "cell_type": "code",
   "execution_count": 16,
   "metadata": {},
   "outputs": [],
   "source": [
    "# not_levi_series = pd.Series([0,7,8])\n",
    "# not_levi_series.levi.to_incidence\n"
   ]
  },
  {
   "cell_type": "code",
   "execution_count": 17,
   "metadata": {},
   "outputs": [
    {
     "data": {
      "text/plain": [
       "0  brown     1\n",
       "   fox       1\n",
       "   jumped    1\n",
       "   quick     1\n",
       "1  fox       1\n",
       "   jumped    1\n",
       "2  dog       1\n",
       "   jumped    1\n",
       "3  brown     1\n",
       "   fox       1\n",
       "   one       1\n",
       "4  brown     1\n",
       "   dogs      1\n",
       "   ten       1\n",
       "Name: flag, dtype: int64"
      ]
     },
     "execution_count": 17,
     "metadata": {},
     "output_type": "execute_result"
    }
   ],
   "source": [
    "levi_series\n"
   ]
  },
  {
   "attachments": {},
   "cell_type": "markdown",
   "metadata": {},
   "source": [
    "**Convert Levi to edgelist, where first column is source, second is target, and third is the edge value**"
   ]
  },
  {
   "cell_type": "code",
   "execution_count": 19,
   "metadata": {},
   "outputs": [
    {
     "data": {
      "text/html": [
       "<div>\n",
       "<style scoped>\n",
       "    .dataframe tbody tr th:only-of-type {\n",
       "        vertical-align: middle;\n",
       "    }\n",
       "\n",
       "    .dataframe tbody tr th {\n",
       "        vertical-align: top;\n",
       "    }\n",
       "\n",
       "    .dataframe thead th {\n",
       "        text-align: right;\n",
       "    }\n",
       "</style>\n",
       "<table border=\"1\" class=\"dataframe\">\n",
       "  <thead>\n",
       "    <tr style=\"text-align: right;\">\n",
       "      <th></th>\n",
       "      <th>term_0</th>\n",
       "      <th>term_1</th>\n",
       "      <th>0</th>\n",
       "    </tr>\n",
       "  </thead>\n",
       "  <tbody>\n",
       "    <tr>\n",
       "      <th>0</th>\n",
       "      <td>brown</td>\n",
       "      <td>brown</td>\n",
       "      <td>0</td>\n",
       "    </tr>\n",
       "    <tr>\n",
       "      <th>1</th>\n",
       "      <td>brown</td>\n",
       "      <td>dog</td>\n",
       "      <td>0</td>\n",
       "    </tr>\n",
       "    <tr>\n",
       "      <th>2</th>\n",
       "      <td>brown</td>\n",
       "      <td>dogs</td>\n",
       "      <td>1</td>\n",
       "    </tr>\n",
       "    <tr>\n",
       "      <th>3</th>\n",
       "      <td>brown</td>\n",
       "      <td>fox</td>\n",
       "      <td>2</td>\n",
       "    </tr>\n",
       "    <tr>\n",
       "      <th>4</th>\n",
       "      <td>brown</td>\n",
       "      <td>jumped</td>\n",
       "      <td>1</td>\n",
       "    </tr>\n",
       "    <tr>\n",
       "      <th>...</th>\n",
       "      <td>...</td>\n",
       "      <td>...</td>\n",
       "      <td>...</td>\n",
       "    </tr>\n",
       "    <tr>\n",
       "      <th>59</th>\n",
       "      <td>ten</td>\n",
       "      <td>fox</td>\n",
       "      <td>0</td>\n",
       "    </tr>\n",
       "    <tr>\n",
       "      <th>60</th>\n",
       "      <td>ten</td>\n",
       "      <td>jumped</td>\n",
       "      <td>0</td>\n",
       "    </tr>\n",
       "    <tr>\n",
       "      <th>61</th>\n",
       "      <td>ten</td>\n",
       "      <td>one</td>\n",
       "      <td>0</td>\n",
       "    </tr>\n",
       "    <tr>\n",
       "      <th>62</th>\n",
       "      <td>ten</td>\n",
       "      <td>quick</td>\n",
       "      <td>0</td>\n",
       "    </tr>\n",
       "    <tr>\n",
       "      <th>63</th>\n",
       "      <td>ten</td>\n",
       "      <td>ten</td>\n",
       "      <td>0</td>\n",
       "    </tr>\n",
       "  </tbody>\n",
       "</table>\n",
       "<p>64 rows × 3 columns</p>\n",
       "</div>"
      ],
      "text/plain": [
       "   term_0  term_1  0\n",
       "0   brown   brown  0\n",
       "1   brown     dog  0\n",
       "2   brown    dogs  1\n",
       "3   brown     fox  2\n",
       "4   brown  jumped  1\n",
       "..    ...     ... ..\n",
       "59    ten     fox  0\n",
       "60    ten  jumped  0\n",
       "61    ten     one  0\n",
       "62    ten   quick  0\n",
       "63    ten     ten  0\n",
       "\n",
       "[64 rows x 3 columns]"
      ]
     },
     "execution_count": 19,
     "metadata": {},
     "output_type": "execute_result"
    }
   ],
   "source": [
    "el = levi_series.levi.to_edgelist(level_0=\"term_0\", level_1=\"term_1\")\n",
    "el\n"
   ]
  },
  {
   "attachments": {},
   "cell_type": "markdown",
   "metadata": {},
   "source": [
    "**Convert Levi to adjacency matrix (both indices are the same)**"
   ]
  },
  {
   "cell_type": "code",
   "execution_count": 18,
   "metadata": {},
   "outputs": [
    {
     "name": "stdout",
     "output_type": "stream",
     "text": [
      "*** test validator***\n"
     ]
    },
    {
     "data": {
      "text/html": [
       "<div>\n",
       "<style scoped>\n",
       "    .dataframe tbody tr th:only-of-type {\n",
       "        vertical-align: middle;\n",
       "    }\n",
       "\n",
       "    .dataframe tbody tr th {\n",
       "        vertical-align: top;\n",
       "    }\n",
       "\n",
       "    .dataframe thead th {\n",
       "        text-align: right;\n",
       "    }\n",
       "</style>\n",
       "<table border=\"1\" class=\"dataframe\">\n",
       "  <thead>\n",
       "    <tr style=\"text-align: right;\">\n",
       "      <th></th>\n",
       "      <th>brown</th>\n",
       "      <th>dog</th>\n",
       "      <th>dogs</th>\n",
       "      <th>fox</th>\n",
       "      <th>jumped</th>\n",
       "      <th>one</th>\n",
       "      <th>quick</th>\n",
       "      <th>ten</th>\n",
       "    </tr>\n",
       "  </thead>\n",
       "  <tbody>\n",
       "    <tr>\n",
       "      <th>brown</th>\n",
       "      <td>0</td>\n",
       "      <td>0</td>\n",
       "      <td>1</td>\n",
       "      <td>2</td>\n",
       "      <td>1</td>\n",
       "      <td>1</td>\n",
       "      <td>1</td>\n",
       "      <td>1</td>\n",
       "    </tr>\n",
       "    <tr>\n",
       "      <th>dog</th>\n",
       "      <td>0</td>\n",
       "      <td>0</td>\n",
       "      <td>0</td>\n",
       "      <td>0</td>\n",
       "      <td>1</td>\n",
       "      <td>0</td>\n",
       "      <td>0</td>\n",
       "      <td>0</td>\n",
       "    </tr>\n",
       "    <tr>\n",
       "      <th>dogs</th>\n",
       "      <td>1</td>\n",
       "      <td>0</td>\n",
       "      <td>0</td>\n",
       "      <td>0</td>\n",
       "      <td>0</td>\n",
       "      <td>0</td>\n",
       "      <td>0</td>\n",
       "      <td>1</td>\n",
       "    </tr>\n",
       "    <tr>\n",
       "      <th>fox</th>\n",
       "      <td>2</td>\n",
       "      <td>0</td>\n",
       "      <td>0</td>\n",
       "      <td>0</td>\n",
       "      <td>2</td>\n",
       "      <td>1</td>\n",
       "      <td>1</td>\n",
       "      <td>0</td>\n",
       "    </tr>\n",
       "    <tr>\n",
       "      <th>jumped</th>\n",
       "      <td>1</td>\n",
       "      <td>1</td>\n",
       "      <td>0</td>\n",
       "      <td>2</td>\n",
       "      <td>0</td>\n",
       "      <td>0</td>\n",
       "      <td>1</td>\n",
       "      <td>0</td>\n",
       "    </tr>\n",
       "    <tr>\n",
       "      <th>one</th>\n",
       "      <td>1</td>\n",
       "      <td>0</td>\n",
       "      <td>0</td>\n",
       "      <td>1</td>\n",
       "      <td>0</td>\n",
       "      <td>0</td>\n",
       "      <td>0</td>\n",
       "      <td>0</td>\n",
       "    </tr>\n",
       "    <tr>\n",
       "      <th>quick</th>\n",
       "      <td>1</td>\n",
       "      <td>0</td>\n",
       "      <td>0</td>\n",
       "      <td>1</td>\n",
       "      <td>1</td>\n",
       "      <td>0</td>\n",
       "      <td>0</td>\n",
       "      <td>0</td>\n",
       "    </tr>\n",
       "    <tr>\n",
       "      <th>ten</th>\n",
       "      <td>1</td>\n",
       "      <td>0</td>\n",
       "      <td>1</td>\n",
       "      <td>0</td>\n",
       "      <td>0</td>\n",
       "      <td>0</td>\n",
       "      <td>0</td>\n",
       "      <td>0</td>\n",
       "    </tr>\n",
       "  </tbody>\n",
       "</table>\n",
       "</div>"
      ],
      "text/plain": [
       "        brown  dog  dogs  fox  jumped  one  quick  ten\n",
       "brown       0    0     1    2       1    1      1    1\n",
       "dog         0    0     0    0       1    0      0    0\n",
       "dogs        1    0     0    0       0    0      0    1\n",
       "fox         2    0     0    0       2    1      1    0\n",
       "jumped      1    1     0    2       0    0      1    0\n",
       "one         1    0     0    1       0    0      0    0\n",
       "quick       1    0     0    1       1    0      0    0\n",
       "ten         1    0     1    0       0    0      0    0"
      ]
     },
     "execution_count": 18,
     "metadata": {},
     "output_type": "execute_result"
    }
   ],
   "source": [
    "adjacency_matrix = levi_series.levi.to_adjacency()\n",
    "adjacency_matrix\n"
   ]
  },
  {
   "attachments": {},
   "cell_type": "markdown",
   "metadata": {},
   "source": [
    "**Convert Levi to biadjacency, where row index is one type of node (here, the document IDs) and column index is another type of node (tokens)**"
   ]
  },
  {
   "cell_type": "code",
   "execution_count": 30,
   "metadata": {},
   "outputs": [
    {
     "data": {
      "text/html": [
       "<div>\n",
       "<style scoped>\n",
       "    .dataframe tbody tr th:only-of-type {\n",
       "        vertical-align: middle;\n",
       "    }\n",
       "\n",
       "    .dataframe tbody tr th {\n",
       "        vertical-align: top;\n",
       "    }\n",
       "\n",
       "    .dataframe thead th {\n",
       "        text-align: right;\n",
       "    }\n",
       "</style>\n",
       "<table border=\"1\" class=\"dataframe\">\n",
       "  <thead>\n",
       "    <tr style=\"text-align: right;\">\n",
       "      <th></th>\n",
       "      <th>brown</th>\n",
       "      <th>dog</th>\n",
       "      <th>dogs</th>\n",
       "      <th>fox</th>\n",
       "      <th>jumped</th>\n",
       "      <th>one</th>\n",
       "      <th>quick</th>\n",
       "      <th>ten</th>\n",
       "    </tr>\n",
       "  </thead>\n",
       "  <tbody>\n",
       "    <tr>\n",
       "      <th>0</th>\n",
       "      <td>1</td>\n",
       "      <td>0</td>\n",
       "      <td>0</td>\n",
       "      <td>1</td>\n",
       "      <td>1</td>\n",
       "      <td>0</td>\n",
       "      <td>1</td>\n",
       "      <td>0</td>\n",
       "    </tr>\n",
       "    <tr>\n",
       "      <th>1</th>\n",
       "      <td>0</td>\n",
       "      <td>0</td>\n",
       "      <td>0</td>\n",
       "      <td>1</td>\n",
       "      <td>1</td>\n",
       "      <td>0</td>\n",
       "      <td>0</td>\n",
       "      <td>0</td>\n",
       "    </tr>\n",
       "    <tr>\n",
       "      <th>2</th>\n",
       "      <td>0</td>\n",
       "      <td>1</td>\n",
       "      <td>0</td>\n",
       "      <td>0</td>\n",
       "      <td>1</td>\n",
       "      <td>0</td>\n",
       "      <td>0</td>\n",
       "      <td>0</td>\n",
       "    </tr>\n",
       "    <tr>\n",
       "      <th>3</th>\n",
       "      <td>1</td>\n",
       "      <td>0</td>\n",
       "      <td>0</td>\n",
       "      <td>1</td>\n",
       "      <td>0</td>\n",
       "      <td>1</td>\n",
       "      <td>0</td>\n",
       "      <td>0</td>\n",
       "    </tr>\n",
       "    <tr>\n",
       "      <th>4</th>\n",
       "      <td>1</td>\n",
       "      <td>0</td>\n",
       "      <td>1</td>\n",
       "      <td>0</td>\n",
       "      <td>0</td>\n",
       "      <td>0</td>\n",
       "      <td>0</td>\n",
       "      <td>1</td>\n",
       "    </tr>\n",
       "  </tbody>\n",
       "</table>\n",
       "</div>"
      ],
      "text/plain": [
       "   brown  dog  dogs  fox  jumped  one  quick  ten\n",
       "0      1    0     0    1       1    0      1    0\n",
       "1      0    0     0    1       1    0      0    0\n",
       "2      0    1     0    0       1    0      0    0\n",
       "3      1    0     0    1       0    1      0    0\n",
       "4      1    0     1    0       0    0      0    1"
      ]
     },
     "execution_count": 30,
     "metadata": {},
     "output_type": "execute_result"
    }
   ],
   "source": [
    "biadjacency_matrix = levi_series.levi.to_biadjacency()\n",
    "biadjacency_matrix\n"
   ]
  },
  {
   "attachments": {},
   "cell_type": "markdown",
   "metadata": {},
   "source": [
    "### Creating a new Levi graph: Key feature of Grabble\n",
    "\n",
    "Taking an original Levi graph of two \"things\", transform it into new Levi where these things have been combined to one category. The second category in the new Levi is the connections of the things in the original Levi.\n",
    "For instance, we combine documents and tokens into a single category. The second category is from the indexing of the orginial Levi structure and represents a new \"thing\", which is the instance of a particular document or term connection. "
   ]
  },
  {
   "cell_type": "code",
   "execution_count": 35,
   "metadata": {},
   "outputs": [
    {
     "data": {
      "text/plain": [
       "index  level_0\n",
       "0      0.0        1\n",
       "1      0.0        1\n",
       "2      0.0        1\n",
       "3      0.0        1\n",
       "4      1.0        1\n",
       "5      1.0        1\n",
       "6      2.0        1\n",
       "7      2.0        1\n",
       "8      3.0        1\n",
       "9      3.0        1\n",
       "10     3.0        1\n",
       "11     4.0        1\n",
       "12     4.0        1\n",
       "13     4.0        1\n",
       "0      brown      1\n",
       "1      fox        1\n",
       "2      jumped     1\n",
       "3      quick      1\n",
       "4      fox        1\n",
       "5      jumped     1\n",
       "6      dog        1\n",
       "7      jumped     1\n",
       "8      brown      1\n",
       "9      fox        1\n",
       "10     one        1\n",
       "11     brown      1\n",
       "12     dogs       1\n",
       "13     ten        1\n",
       "Name: flag, dtype: object"
      ]
     },
     "execution_count": 35,
     "metadata": {},
     "output_type": "execute_result"
    }
   ],
   "source": [
    "new_levi = levi_series.levi.to_new_levi()\n",
    "new_levi\n"
   ]
  },
  {
   "attachments": {},
   "cell_type": "markdown",
   "metadata": {},
   "source": [
    "### Converting new levi graph to another form:"
   ]
  },
  {
   "attachments": {},
   "cell_type": "markdown",
   "metadata": {},
   "source": [
    "Now that we have a new Levi graph, we can turn it into the other graph formats (adjacency, biadjacency, and edgelist), just as we did with the original Levi:"
   ]
  },
  {
   "cell_type": "code",
   "execution_count": 40,
   "metadata": {},
   "outputs": [
    {
     "data": {
      "text/html": [
       "<div>\n",
       "<style scoped>\n",
       "    .dataframe tbody tr th:only-of-type {\n",
       "        vertical-align: middle;\n",
       "    }\n",
       "\n",
       "    .dataframe tbody tr th {\n",
       "        vertical-align: top;\n",
       "    }\n",
       "\n",
       "    .dataframe thead th {\n",
       "        text-align: right;\n",
       "    }\n",
       "</style>\n",
       "<table border=\"1\" class=\"dataframe\">\n",
       "  <thead>\n",
       "    <tr style=\"text-align: right;\">\n",
       "      <th></th>\n",
       "      <th>level_0</th>\n",
       "      <th>level_1</th>\n",
       "      <th>0</th>\n",
       "    </tr>\n",
       "  </thead>\n",
       "  <tbody>\n",
       "    <tr>\n",
       "      <th>0</th>\n",
       "      <td>0.0</td>\n",
       "      <td>0.0</td>\n",
       "      <td>0</td>\n",
       "    </tr>\n",
       "    <tr>\n",
       "      <th>1</th>\n",
       "      <td>0.0</td>\n",
       "      <td>1.0</td>\n",
       "      <td>0</td>\n",
       "    </tr>\n",
       "    <tr>\n",
       "      <th>2</th>\n",
       "      <td>0.0</td>\n",
       "      <td>2.0</td>\n",
       "      <td>0</td>\n",
       "    </tr>\n",
       "    <tr>\n",
       "      <th>3</th>\n",
       "      <td>0.0</td>\n",
       "      <td>3.0</td>\n",
       "      <td>0</td>\n",
       "    </tr>\n",
       "    <tr>\n",
       "      <th>4</th>\n",
       "      <td>0.0</td>\n",
       "      <td>4.0</td>\n",
       "      <td>0</td>\n",
       "    </tr>\n",
       "    <tr>\n",
       "      <th>...</th>\n",
       "      <td>...</td>\n",
       "      <td>...</td>\n",
       "      <td>...</td>\n",
       "    </tr>\n",
       "    <tr>\n",
       "      <th>164</th>\n",
       "      <td>ten</td>\n",
       "      <td>fox</td>\n",
       "      <td>0</td>\n",
       "    </tr>\n",
       "    <tr>\n",
       "      <th>165</th>\n",
       "      <td>ten</td>\n",
       "      <td>jumped</td>\n",
       "      <td>0</td>\n",
       "    </tr>\n",
       "    <tr>\n",
       "      <th>166</th>\n",
       "      <td>ten</td>\n",
       "      <td>one</td>\n",
       "      <td>0</td>\n",
       "    </tr>\n",
       "    <tr>\n",
       "      <th>167</th>\n",
       "      <td>ten</td>\n",
       "      <td>quick</td>\n",
       "      <td>0</td>\n",
       "    </tr>\n",
       "    <tr>\n",
       "      <th>168</th>\n",
       "      <td>ten</td>\n",
       "      <td>ten</td>\n",
       "      <td>0</td>\n",
       "    </tr>\n",
       "  </tbody>\n",
       "</table>\n",
       "<p>169 rows × 3 columns</p>\n",
       "</div>"
      ],
      "text/plain": [
       "    level_0 level_1  0\n",
       "0       0.0     0.0  0\n",
       "1       0.0     1.0  0\n",
       "2       0.0     2.0  0\n",
       "3       0.0     3.0  0\n",
       "4       0.0     4.0  0\n",
       "..      ...     ... ..\n",
       "164     ten     fox  0\n",
       "165     ten  jumped  0\n",
       "166     ten     one  0\n",
       "167     ten   quick  0\n",
       "168     ten     ten  0\n",
       "\n",
       "[169 rows x 3 columns]"
      ]
     },
     "execution_count": 40,
     "metadata": {},
     "output_type": "execute_result"
    }
   ],
   "source": [
    "new_levi_edgelist = new_levi.levi.to_edgelist()\n",
    "new_levi_edgelist\n"
   ]
  },
  {
   "cell_type": "code",
   "execution_count": 41,
   "metadata": {},
   "outputs": [
    {
     "data": {
      "text/html": [
       "<div>\n",
       "<style scoped>\n",
       "    .dataframe tbody tr th:only-of-type {\n",
       "        vertical-align: middle;\n",
       "    }\n",
       "\n",
       "    .dataframe tbody tr th {\n",
       "        vertical-align: top;\n",
       "    }\n",
       "\n",
       "    .dataframe thead th {\n",
       "        text-align: right;\n",
       "    }\n",
       "</style>\n",
       "<table border=\"1\" class=\"dataframe\">\n",
       "  <thead>\n",
       "    <tr style=\"text-align: right;\">\n",
       "      <th></th>\n",
       "      <th>0.0</th>\n",
       "      <th>1.0</th>\n",
       "      <th>2.0</th>\n",
       "      <th>3.0</th>\n",
       "      <th>4.0</th>\n",
       "      <th>brown</th>\n",
       "      <th>dog</th>\n",
       "      <th>dogs</th>\n",
       "      <th>fox</th>\n",
       "      <th>jumped</th>\n",
       "      <th>one</th>\n",
       "      <th>quick</th>\n",
       "      <th>ten</th>\n",
       "    </tr>\n",
       "  </thead>\n",
       "  <tbody>\n",
       "    <tr>\n",
       "      <th>0.0</th>\n",
       "      <td>0</td>\n",
       "      <td>0</td>\n",
       "      <td>0</td>\n",
       "      <td>0</td>\n",
       "      <td>0</td>\n",
       "      <td>1</td>\n",
       "      <td>0</td>\n",
       "      <td>0</td>\n",
       "      <td>1</td>\n",
       "      <td>1</td>\n",
       "      <td>0</td>\n",
       "      <td>1</td>\n",
       "      <td>0</td>\n",
       "    </tr>\n",
       "    <tr>\n",
       "      <th>1.0</th>\n",
       "      <td>0</td>\n",
       "      <td>0</td>\n",
       "      <td>0</td>\n",
       "      <td>0</td>\n",
       "      <td>0</td>\n",
       "      <td>0</td>\n",
       "      <td>0</td>\n",
       "      <td>0</td>\n",
       "      <td>1</td>\n",
       "      <td>1</td>\n",
       "      <td>0</td>\n",
       "      <td>0</td>\n",
       "      <td>0</td>\n",
       "    </tr>\n",
       "    <tr>\n",
       "      <th>2.0</th>\n",
       "      <td>0</td>\n",
       "      <td>0</td>\n",
       "      <td>0</td>\n",
       "      <td>0</td>\n",
       "      <td>0</td>\n",
       "      <td>0</td>\n",
       "      <td>1</td>\n",
       "      <td>0</td>\n",
       "      <td>0</td>\n",
       "      <td>1</td>\n",
       "      <td>0</td>\n",
       "      <td>0</td>\n",
       "      <td>0</td>\n",
       "    </tr>\n",
       "    <tr>\n",
       "      <th>3.0</th>\n",
       "      <td>0</td>\n",
       "      <td>0</td>\n",
       "      <td>0</td>\n",
       "      <td>0</td>\n",
       "      <td>0</td>\n",
       "      <td>1</td>\n",
       "      <td>0</td>\n",
       "      <td>0</td>\n",
       "      <td>1</td>\n",
       "      <td>0</td>\n",
       "      <td>1</td>\n",
       "      <td>0</td>\n",
       "      <td>0</td>\n",
       "    </tr>\n",
       "    <tr>\n",
       "      <th>4.0</th>\n",
       "      <td>0</td>\n",
       "      <td>0</td>\n",
       "      <td>0</td>\n",
       "      <td>0</td>\n",
       "      <td>0</td>\n",
       "      <td>1</td>\n",
       "      <td>0</td>\n",
       "      <td>1</td>\n",
       "      <td>0</td>\n",
       "      <td>0</td>\n",
       "      <td>0</td>\n",
       "      <td>0</td>\n",
       "      <td>1</td>\n",
       "    </tr>\n",
       "    <tr>\n",
       "      <th>brown</th>\n",
       "      <td>1</td>\n",
       "      <td>0</td>\n",
       "      <td>0</td>\n",
       "      <td>1</td>\n",
       "      <td>1</td>\n",
       "      <td>0</td>\n",
       "      <td>0</td>\n",
       "      <td>0</td>\n",
       "      <td>0</td>\n",
       "      <td>0</td>\n",
       "      <td>0</td>\n",
       "      <td>0</td>\n",
       "      <td>0</td>\n",
       "    </tr>\n",
       "    <tr>\n",
       "      <th>dog</th>\n",
       "      <td>0</td>\n",
       "      <td>0</td>\n",
       "      <td>1</td>\n",
       "      <td>0</td>\n",
       "      <td>0</td>\n",
       "      <td>0</td>\n",
       "      <td>0</td>\n",
       "      <td>0</td>\n",
       "      <td>0</td>\n",
       "      <td>0</td>\n",
       "      <td>0</td>\n",
       "      <td>0</td>\n",
       "      <td>0</td>\n",
       "    </tr>\n",
       "    <tr>\n",
       "      <th>dogs</th>\n",
       "      <td>0</td>\n",
       "      <td>0</td>\n",
       "      <td>0</td>\n",
       "      <td>0</td>\n",
       "      <td>1</td>\n",
       "      <td>0</td>\n",
       "      <td>0</td>\n",
       "      <td>0</td>\n",
       "      <td>0</td>\n",
       "      <td>0</td>\n",
       "      <td>0</td>\n",
       "      <td>0</td>\n",
       "      <td>0</td>\n",
       "    </tr>\n",
       "    <tr>\n",
       "      <th>fox</th>\n",
       "      <td>1</td>\n",
       "      <td>1</td>\n",
       "      <td>0</td>\n",
       "      <td>1</td>\n",
       "      <td>0</td>\n",
       "      <td>0</td>\n",
       "      <td>0</td>\n",
       "      <td>0</td>\n",
       "      <td>0</td>\n",
       "      <td>0</td>\n",
       "      <td>0</td>\n",
       "      <td>0</td>\n",
       "      <td>0</td>\n",
       "    </tr>\n",
       "    <tr>\n",
       "      <th>jumped</th>\n",
       "      <td>1</td>\n",
       "      <td>1</td>\n",
       "      <td>1</td>\n",
       "      <td>0</td>\n",
       "      <td>0</td>\n",
       "      <td>0</td>\n",
       "      <td>0</td>\n",
       "      <td>0</td>\n",
       "      <td>0</td>\n",
       "      <td>0</td>\n",
       "      <td>0</td>\n",
       "      <td>0</td>\n",
       "      <td>0</td>\n",
       "    </tr>\n",
       "    <tr>\n",
       "      <th>one</th>\n",
       "      <td>0</td>\n",
       "      <td>0</td>\n",
       "      <td>0</td>\n",
       "      <td>1</td>\n",
       "      <td>0</td>\n",
       "      <td>0</td>\n",
       "      <td>0</td>\n",
       "      <td>0</td>\n",
       "      <td>0</td>\n",
       "      <td>0</td>\n",
       "      <td>0</td>\n",
       "      <td>0</td>\n",
       "      <td>0</td>\n",
       "    </tr>\n",
       "    <tr>\n",
       "      <th>quick</th>\n",
       "      <td>1</td>\n",
       "      <td>0</td>\n",
       "      <td>0</td>\n",
       "      <td>0</td>\n",
       "      <td>0</td>\n",
       "      <td>0</td>\n",
       "      <td>0</td>\n",
       "      <td>0</td>\n",
       "      <td>0</td>\n",
       "      <td>0</td>\n",
       "      <td>0</td>\n",
       "      <td>0</td>\n",
       "      <td>0</td>\n",
       "    </tr>\n",
       "    <tr>\n",
       "      <th>ten</th>\n",
       "      <td>0</td>\n",
       "      <td>0</td>\n",
       "      <td>0</td>\n",
       "      <td>0</td>\n",
       "      <td>1</td>\n",
       "      <td>0</td>\n",
       "      <td>0</td>\n",
       "      <td>0</td>\n",
       "      <td>0</td>\n",
       "      <td>0</td>\n",
       "      <td>0</td>\n",
       "      <td>0</td>\n",
       "      <td>0</td>\n",
       "    </tr>\n",
       "  </tbody>\n",
       "</table>\n",
       "</div>"
      ],
      "text/plain": [
       "        0.0  1.0  2.0  3.0  4.0  brown  dog  dogs  fox  jumped  one  quick  \\\n",
       "0.0       0    0    0    0    0      1    0     0    1       1    0      1   \n",
       "1.0       0    0    0    0    0      0    0     0    1       1    0      0   \n",
       "2.0       0    0    0    0    0      0    1     0    0       1    0      0   \n",
       "3.0       0    0    0    0    0      1    0     0    1       0    1      0   \n",
       "4.0       0    0    0    0    0      1    0     1    0       0    0      0   \n",
       "brown     1    0    0    1    1      0    0     0    0       0    0      0   \n",
       "dog       0    0    1    0    0      0    0     0    0       0    0      0   \n",
       "dogs      0    0    0    0    1      0    0     0    0       0    0      0   \n",
       "fox       1    1    0    1    0      0    0     0    0       0    0      0   \n",
       "jumped    1    1    1    0    0      0    0     0    0       0    0      0   \n",
       "one       0    0    0    1    0      0    0     0    0       0    0      0   \n",
       "quick     1    0    0    0    0      0    0     0    0       0    0      0   \n",
       "ten       0    0    0    0    1      0    0     0    0       0    0      0   \n",
       "\n",
       "        ten  \n",
       "0.0       0  \n",
       "1.0       0  \n",
       "2.0       0  \n",
       "3.0       0  \n",
       "4.0       1  \n",
       "brown     0  \n",
       "dog       0  \n",
       "dogs      0  \n",
       "fox       0  \n",
       "jumped    0  \n",
       "one       0  \n",
       "quick     0  \n",
       "ten       0  "
      ]
     },
     "execution_count": 41,
     "metadata": {},
     "output_type": "execute_result"
    }
   ],
   "source": [
    "new_levi_adjacency = new_levi.levi.to_adjacency(\n",
    "    level_0=\"index\", level_1=\"level_0\")\n",
    "new_levi_adjacency\n"
   ]
  },
  {
   "cell_type": "code",
   "execution_count": 42,
   "metadata": {},
   "outputs": [
    {
     "data": {
      "text/html": [
       "<div>\n",
       "<style scoped>\n",
       "    .dataframe tbody tr th:only-of-type {\n",
       "        vertical-align: middle;\n",
       "    }\n",
       "\n",
       "    .dataframe tbody tr th {\n",
       "        vertical-align: top;\n",
       "    }\n",
       "\n",
       "    .dataframe thead th {\n",
       "        text-align: right;\n",
       "    }\n",
       "</style>\n",
       "<table border=\"1\" class=\"dataframe\">\n",
       "  <thead>\n",
       "    <tr style=\"text-align: right;\">\n",
       "      <th></th>\n",
       "      <th>0.0</th>\n",
       "      <th>1.0</th>\n",
       "      <th>2.0</th>\n",
       "      <th>3.0</th>\n",
       "      <th>4.0</th>\n",
       "      <th>brown</th>\n",
       "      <th>dog</th>\n",
       "      <th>dogs</th>\n",
       "      <th>fox</th>\n",
       "      <th>jumped</th>\n",
       "      <th>one</th>\n",
       "      <th>quick</th>\n",
       "      <th>ten</th>\n",
       "    </tr>\n",
       "  </thead>\n",
       "  <tbody>\n",
       "    <tr>\n",
       "      <th>0</th>\n",
       "      <td>1</td>\n",
       "      <td>0</td>\n",
       "      <td>0</td>\n",
       "      <td>0</td>\n",
       "      <td>0</td>\n",
       "      <td>1</td>\n",
       "      <td>0</td>\n",
       "      <td>0</td>\n",
       "      <td>0</td>\n",
       "      <td>0</td>\n",
       "      <td>0</td>\n",
       "      <td>0</td>\n",
       "      <td>0</td>\n",
       "    </tr>\n",
       "    <tr>\n",
       "      <th>1</th>\n",
       "      <td>1</td>\n",
       "      <td>0</td>\n",
       "      <td>0</td>\n",
       "      <td>0</td>\n",
       "      <td>0</td>\n",
       "      <td>0</td>\n",
       "      <td>0</td>\n",
       "      <td>0</td>\n",
       "      <td>1</td>\n",
       "      <td>0</td>\n",
       "      <td>0</td>\n",
       "      <td>0</td>\n",
       "      <td>0</td>\n",
       "    </tr>\n",
       "    <tr>\n",
       "      <th>2</th>\n",
       "      <td>1</td>\n",
       "      <td>0</td>\n",
       "      <td>0</td>\n",
       "      <td>0</td>\n",
       "      <td>0</td>\n",
       "      <td>0</td>\n",
       "      <td>0</td>\n",
       "      <td>0</td>\n",
       "      <td>0</td>\n",
       "      <td>1</td>\n",
       "      <td>0</td>\n",
       "      <td>0</td>\n",
       "      <td>0</td>\n",
       "    </tr>\n",
       "    <tr>\n",
       "      <th>3</th>\n",
       "      <td>1</td>\n",
       "      <td>0</td>\n",
       "      <td>0</td>\n",
       "      <td>0</td>\n",
       "      <td>0</td>\n",
       "      <td>0</td>\n",
       "      <td>0</td>\n",
       "      <td>0</td>\n",
       "      <td>0</td>\n",
       "      <td>0</td>\n",
       "      <td>0</td>\n",
       "      <td>1</td>\n",
       "      <td>0</td>\n",
       "    </tr>\n",
       "    <tr>\n",
       "      <th>4</th>\n",
       "      <td>0</td>\n",
       "      <td>1</td>\n",
       "      <td>0</td>\n",
       "      <td>0</td>\n",
       "      <td>0</td>\n",
       "      <td>0</td>\n",
       "      <td>0</td>\n",
       "      <td>0</td>\n",
       "      <td>1</td>\n",
       "      <td>0</td>\n",
       "      <td>0</td>\n",
       "      <td>0</td>\n",
       "      <td>0</td>\n",
       "    </tr>\n",
       "    <tr>\n",
       "      <th>5</th>\n",
       "      <td>0</td>\n",
       "      <td>1</td>\n",
       "      <td>0</td>\n",
       "      <td>0</td>\n",
       "      <td>0</td>\n",
       "      <td>0</td>\n",
       "      <td>0</td>\n",
       "      <td>0</td>\n",
       "      <td>0</td>\n",
       "      <td>1</td>\n",
       "      <td>0</td>\n",
       "      <td>0</td>\n",
       "      <td>0</td>\n",
       "    </tr>\n",
       "    <tr>\n",
       "      <th>6</th>\n",
       "      <td>0</td>\n",
       "      <td>0</td>\n",
       "      <td>1</td>\n",
       "      <td>0</td>\n",
       "      <td>0</td>\n",
       "      <td>0</td>\n",
       "      <td>1</td>\n",
       "      <td>0</td>\n",
       "      <td>0</td>\n",
       "      <td>0</td>\n",
       "      <td>0</td>\n",
       "      <td>0</td>\n",
       "      <td>0</td>\n",
       "    </tr>\n",
       "    <tr>\n",
       "      <th>7</th>\n",
       "      <td>0</td>\n",
       "      <td>0</td>\n",
       "      <td>1</td>\n",
       "      <td>0</td>\n",
       "      <td>0</td>\n",
       "      <td>0</td>\n",
       "      <td>0</td>\n",
       "      <td>0</td>\n",
       "      <td>0</td>\n",
       "      <td>1</td>\n",
       "      <td>0</td>\n",
       "      <td>0</td>\n",
       "      <td>0</td>\n",
       "    </tr>\n",
       "    <tr>\n",
       "      <th>8</th>\n",
       "      <td>0</td>\n",
       "      <td>0</td>\n",
       "      <td>0</td>\n",
       "      <td>1</td>\n",
       "      <td>0</td>\n",
       "      <td>1</td>\n",
       "      <td>0</td>\n",
       "      <td>0</td>\n",
       "      <td>0</td>\n",
       "      <td>0</td>\n",
       "      <td>0</td>\n",
       "      <td>0</td>\n",
       "      <td>0</td>\n",
       "    </tr>\n",
       "    <tr>\n",
       "      <th>9</th>\n",
       "      <td>0</td>\n",
       "      <td>0</td>\n",
       "      <td>0</td>\n",
       "      <td>1</td>\n",
       "      <td>0</td>\n",
       "      <td>0</td>\n",
       "      <td>0</td>\n",
       "      <td>0</td>\n",
       "      <td>1</td>\n",
       "      <td>0</td>\n",
       "      <td>0</td>\n",
       "      <td>0</td>\n",
       "      <td>0</td>\n",
       "    </tr>\n",
       "    <tr>\n",
       "      <th>10</th>\n",
       "      <td>0</td>\n",
       "      <td>0</td>\n",
       "      <td>0</td>\n",
       "      <td>1</td>\n",
       "      <td>0</td>\n",
       "      <td>0</td>\n",
       "      <td>0</td>\n",
       "      <td>0</td>\n",
       "      <td>0</td>\n",
       "      <td>0</td>\n",
       "      <td>1</td>\n",
       "      <td>0</td>\n",
       "      <td>0</td>\n",
       "    </tr>\n",
       "    <tr>\n",
       "      <th>11</th>\n",
       "      <td>0</td>\n",
       "      <td>0</td>\n",
       "      <td>0</td>\n",
       "      <td>0</td>\n",
       "      <td>1</td>\n",
       "      <td>1</td>\n",
       "      <td>0</td>\n",
       "      <td>0</td>\n",
       "      <td>0</td>\n",
       "      <td>0</td>\n",
       "      <td>0</td>\n",
       "      <td>0</td>\n",
       "      <td>0</td>\n",
       "    </tr>\n",
       "    <tr>\n",
       "      <th>12</th>\n",
       "      <td>0</td>\n",
       "      <td>0</td>\n",
       "      <td>0</td>\n",
       "      <td>0</td>\n",
       "      <td>1</td>\n",
       "      <td>0</td>\n",
       "      <td>0</td>\n",
       "      <td>1</td>\n",
       "      <td>0</td>\n",
       "      <td>0</td>\n",
       "      <td>0</td>\n",
       "      <td>0</td>\n",
       "      <td>0</td>\n",
       "    </tr>\n",
       "    <tr>\n",
       "      <th>13</th>\n",
       "      <td>0</td>\n",
       "      <td>0</td>\n",
       "      <td>0</td>\n",
       "      <td>0</td>\n",
       "      <td>1</td>\n",
       "      <td>0</td>\n",
       "      <td>0</td>\n",
       "      <td>0</td>\n",
       "      <td>0</td>\n",
       "      <td>0</td>\n",
       "      <td>0</td>\n",
       "      <td>0</td>\n",
       "      <td>1</td>\n",
       "    </tr>\n",
       "  </tbody>\n",
       "</table>\n",
       "</div>"
      ],
      "text/plain": [
       "   0.0 1.0 2.0 3.0 4.0 brown dog dogs fox jumped one quick ten\n",
       "0    1   0   0   0   0     1   0    0   0      0   0     0   0\n",
       "1    1   0   0   0   0     0   0    0   1      0   0     0   0\n",
       "2    1   0   0   0   0     0   0    0   0      1   0     0   0\n",
       "3    1   0   0   0   0     0   0    0   0      0   0     1   0\n",
       "4    0   1   0   0   0     0   0    0   1      0   0     0   0\n",
       "5    0   1   0   0   0     0   0    0   0      1   0     0   0\n",
       "6    0   0   1   0   0     0   1    0   0      0   0     0   0\n",
       "7    0   0   1   0   0     0   0    0   0      1   0     0   0\n",
       "8    0   0   0   1   0     1   0    0   0      0   0     0   0\n",
       "9    0   0   0   1   0     0   0    0   1      0   0     0   0\n",
       "10   0   0   0   1   0     0   0    0   0      0   1     0   0\n",
       "11   0   0   0   0   1     1   0    0   0      0   0     0   0\n",
       "12   0   0   0   0   1     0   0    1   0      0   0     0   0\n",
       "13   0   0   0   0   1     0   0    0   0      0   0     0   1"
      ]
     },
     "execution_count": 42,
     "metadata": {},
     "output_type": "execute_result"
    }
   ],
   "source": [
    "new_levi_biadjacency = new_levi.levi.to_biadjacency()\n",
    "new_levi_biadjacency\n"
   ]
  },
  {
   "cell_type": "code",
   "execution_count": 46,
   "metadata": {},
   "outputs": [
    {
     "ename": "KeyError",
     "evalue": "\"['level_1'] not in index\"",
     "output_type": "error",
     "traceback": [
      "\u001b[0;31m---------------------------------------------------------------------------\u001b[0m",
      "\u001b[0;31mKeyError\u001b[0m                                  Traceback (most recent call last)",
      "Cell \u001b[0;32mIn[46], line 14\u001b[0m\n\u001b[1;32m     10\u001b[0m         new_levi \u001b[39m=\u001b[39m new_levi_el\u001b[39m.\u001b[39mset_index([\u001b[39m\"\u001b[39m\u001b[39mindex\u001b[39m\u001b[39m\"\u001b[39m, \u001b[39m\"\u001b[39m\u001b[39mlevel_0\u001b[39m\u001b[39m\"\u001b[39m])\u001b[39m.\u001b[39msqueeze()\n\u001b[1;32m     11\u001b[0m         \u001b[39mreturn\u001b[39;00m new_levi\n\u001b[0;32m---> 14\u001b[0m to_new_levi(new_levi)\n",
      "Cell \u001b[0;32mIn[46], line 4\u001b[0m, in \u001b[0;36mto_new_levi\u001b[0;34m(nl, level_0, level_1)\u001b[0m\n\u001b[1;32m      1\u001b[0m \u001b[39mdef\u001b[39;00m \u001b[39mto_new_levi\u001b[39m(nl, level_0\u001b[39m=\u001b[39m\u001b[39m\"\u001b[39m\u001b[39mlevel_0\u001b[39m\u001b[39m\"\u001b[39m,  level_1\u001b[39m=\u001b[39m\u001b[39m\"\u001b[39m\u001b[39mlevel_1\u001b[39m\u001b[39m\"\u001b[39m):\n\u001b[1;32m      2\u001b[0m         el \u001b[39m=\u001b[39m nl\u001b[39m.\u001b[39mreset_index()\u001b[39m.\u001b[39mrename(\n\u001b[1;32m      3\u001b[0m             columns\u001b[39m=\u001b[39m{\u001b[39m\"\u001b[39m\u001b[39mlevel_0\u001b[39m\u001b[39m\"\u001b[39m: level_0, \u001b[39m\"\u001b[39m\u001b[39mlevel_1\u001b[39m\u001b[39m\"\u001b[39m: level_1})\n\u001b[0;32m----> 4\u001b[0m         new_levi_el \u001b[39m=\u001b[39m (pd\u001b[39m.\u001b[39mconcat([el[[level_0, \u001b[39m\"\u001b[39m\u001b[39mflag\u001b[39m\u001b[39m\"\u001b[39m]], el[[level_1, \u001b[39m\"\u001b[39;49m\u001b[39mflag\u001b[39;49m\u001b[39m\"\u001b[39;49m]]])\n\u001b[1;32m      5\u001b[0m                        \u001b[39m.\u001b[39mreset_index()\n\u001b[1;32m      6\u001b[0m                        \u001b[39m.\u001b[39mrename(columns\u001b[39m=\u001b[39m{level_1: level_0})\n\u001b[1;32m      7\u001b[0m                        \u001b[39m.\u001b[39mstack()\n\u001b[1;32m      8\u001b[0m                        \u001b[39m.\u001b[39munstack()\n\u001b[1;32m      9\u001b[0m                        )\n\u001b[1;32m     10\u001b[0m         new_levi \u001b[39m=\u001b[39m new_levi_el\u001b[39m.\u001b[39mset_index([\u001b[39m\"\u001b[39m\u001b[39mindex\u001b[39m\u001b[39m\"\u001b[39m, \u001b[39m\"\u001b[39m\u001b[39mlevel_0\u001b[39m\u001b[39m\"\u001b[39m])\u001b[39m.\u001b[39msqueeze()\n\u001b[1;32m     11\u001b[0m         \u001b[39mreturn\u001b[39;00m new_levi\n",
      "File \u001b[0;32m/opt/miniconda3/envs/grabble/lib/python3.10/site-packages/pandas/core/frame.py:3813\u001b[0m, in \u001b[0;36mDataFrame.__getitem__\u001b[0;34m(self, key)\u001b[0m\n\u001b[1;32m   3811\u001b[0m     \u001b[39mif\u001b[39;00m is_iterator(key):\n\u001b[1;32m   3812\u001b[0m         key \u001b[39m=\u001b[39m \u001b[39mlist\u001b[39m(key)\n\u001b[0;32m-> 3813\u001b[0m     indexer \u001b[39m=\u001b[39m \u001b[39mself\u001b[39;49m\u001b[39m.\u001b[39;49mcolumns\u001b[39m.\u001b[39;49m_get_indexer_strict(key, \u001b[39m\"\u001b[39;49m\u001b[39mcolumns\u001b[39;49m\u001b[39m\"\u001b[39;49m)[\u001b[39m1\u001b[39m]\n\u001b[1;32m   3815\u001b[0m \u001b[39m# take() does not accept boolean indexers\u001b[39;00m\n\u001b[1;32m   3816\u001b[0m \u001b[39mif\u001b[39;00m \u001b[39mgetattr\u001b[39m(indexer, \u001b[39m\"\u001b[39m\u001b[39mdtype\u001b[39m\u001b[39m\"\u001b[39m, \u001b[39mNone\u001b[39;00m) \u001b[39m==\u001b[39m \u001b[39mbool\u001b[39m:\n",
      "File \u001b[0;32m/opt/miniconda3/envs/grabble/lib/python3.10/site-packages/pandas/core/indexes/base.py:6070\u001b[0m, in \u001b[0;36mIndex._get_indexer_strict\u001b[0;34m(self, key, axis_name)\u001b[0m\n\u001b[1;32m   6067\u001b[0m \u001b[39melse\u001b[39;00m:\n\u001b[1;32m   6068\u001b[0m     keyarr, indexer, new_indexer \u001b[39m=\u001b[39m \u001b[39mself\u001b[39m\u001b[39m.\u001b[39m_reindex_non_unique(keyarr)\n\u001b[0;32m-> 6070\u001b[0m \u001b[39mself\u001b[39;49m\u001b[39m.\u001b[39;49m_raise_if_missing(keyarr, indexer, axis_name)\n\u001b[1;32m   6072\u001b[0m keyarr \u001b[39m=\u001b[39m \u001b[39mself\u001b[39m\u001b[39m.\u001b[39mtake(indexer)\n\u001b[1;32m   6073\u001b[0m \u001b[39mif\u001b[39;00m \u001b[39misinstance\u001b[39m(key, Index):\n\u001b[1;32m   6074\u001b[0m     \u001b[39m# GH 42790 - Preserve name from an Index\u001b[39;00m\n",
      "File \u001b[0;32m/opt/miniconda3/envs/grabble/lib/python3.10/site-packages/pandas/core/indexes/base.py:6133\u001b[0m, in \u001b[0;36mIndex._raise_if_missing\u001b[0;34m(self, key, indexer, axis_name)\u001b[0m\n\u001b[1;32m   6130\u001b[0m     \u001b[39mraise\u001b[39;00m \u001b[39mKeyError\u001b[39;00m(\u001b[39mf\u001b[39m\u001b[39m\"\u001b[39m\u001b[39mNone of [\u001b[39m\u001b[39m{\u001b[39;00mkey\u001b[39m}\u001b[39;00m\u001b[39m] are in the [\u001b[39m\u001b[39m{\u001b[39;00maxis_name\u001b[39m}\u001b[39;00m\u001b[39m]\u001b[39m\u001b[39m\"\u001b[39m)\n\u001b[1;32m   6132\u001b[0m not_found \u001b[39m=\u001b[39m \u001b[39mlist\u001b[39m(ensure_index(key)[missing_mask\u001b[39m.\u001b[39mnonzero()[\u001b[39m0\u001b[39m]]\u001b[39m.\u001b[39munique())\n\u001b[0;32m-> 6133\u001b[0m \u001b[39mraise\u001b[39;00m \u001b[39mKeyError\u001b[39;00m(\u001b[39mf\u001b[39m\u001b[39m\"\u001b[39m\u001b[39m{\u001b[39;00mnot_found\u001b[39m}\u001b[39;00m\u001b[39m not in index\u001b[39m\u001b[39m\"\u001b[39m)\n",
      "\u001b[0;31mKeyError\u001b[0m: \"['level_1'] not in index\""
     ]
    }
   ],
   "source": [
    "def to_new_levi(nl, level_0=\"level_0\",  level_1=\"level_1\"):\n",
    "    el = nl.reset_index().rename(\n",
    "        columns={\"level_0\": level_0, \"level_1\": level_1})\n",
    "    new_levi_el = (pd.concat(el.iloc[:, [0, 1, 3]], el.iloc[:, [0, 1, 3]])\n",
    "                   .reset_index()\n",
    "                   .rename(columns={level_1: level_0})\n",
    "                   .stack()\n",
    "                   .unstack()\n",
    "                   )\n",
    "    new_levi = new_levi_el.set_index([\"index\", \"level_0\"]).squeeze()\n",
    "    return new_levi\n",
    "\n",
    "\n",
    "to_new_levi(new_levi)\n"
   ]
  },
  {
   "cell_type": "code",
   "execution_count": 43,
   "metadata": {},
   "outputs": [
    {
     "ename": "KeyError",
     "evalue": "\"['level_1'] not in index\"",
     "output_type": "error",
     "traceback": [
      "\u001b[0;31m---------------------------------------------------------------------------\u001b[0m",
      "\u001b[0;31mKeyError\u001b[0m                                  Traceback (most recent call last)",
      "Cell \u001b[0;32mIn[43], line 1\u001b[0m\n\u001b[0;32m----> 1\u001b[0m another_new_levi \u001b[39m=\u001b[39m new_levi\u001b[39m.\u001b[39;49mlevi\u001b[39m.\u001b[39;49mto_new_levi()\n\u001b[1;32m      2\u001b[0m another_new_levi\n",
      "File \u001b[0;32m~/grabble/notebooks/levi/series.py:56\u001b[0m, in \u001b[0;36mLeviAccessor.to_new_levi\u001b[0;34m(self, level_0, level_1)\u001b[0m\n\u001b[1;32m     53\u001b[0m \u001b[39mdef\u001b[39;00m \u001b[39mto_new_levi\u001b[39m(\u001b[39mself\u001b[39m, level_0\u001b[39m=\u001b[39m\u001b[39m\"\u001b[39m\u001b[39mlevel_0\u001b[39m\u001b[39m\"\u001b[39m,  level_1\u001b[39m=\u001b[39m\u001b[39m\"\u001b[39m\u001b[39mlevel_1\u001b[39m\u001b[39m\"\u001b[39m):\n\u001b[1;32m     54\u001b[0m     el \u001b[39m=\u001b[39m \u001b[39mself\u001b[39m\u001b[39m.\u001b[39m_obj\u001b[39m.\u001b[39mreset_index()\u001b[39m.\u001b[39mrename(\n\u001b[1;32m     55\u001b[0m         columns\u001b[39m=\u001b[39m{\u001b[39m\"\u001b[39m\u001b[39mlevel_0\u001b[39m\u001b[39m\"\u001b[39m: level_0, \u001b[39m\"\u001b[39m\u001b[39mlevel_1\u001b[39m\u001b[39m\"\u001b[39m: level_1})\n\u001b[0;32m---> 56\u001b[0m     new_levi_el \u001b[39m=\u001b[39m (pd\u001b[39m.\u001b[39mconcat([el[[level_0, \u001b[39m\"\u001b[39m\u001b[39mflag\u001b[39m\u001b[39m\"\u001b[39m]], el[[level_1, \u001b[39m\"\u001b[39;49m\u001b[39mflag\u001b[39;49m\u001b[39m\"\u001b[39;49m]]])\n\u001b[1;32m     57\u001b[0m                    \u001b[39m.\u001b[39mreset_index()\n\u001b[1;32m     58\u001b[0m                    \u001b[39m.\u001b[39mrename(columns\u001b[39m=\u001b[39m{level_1: level_0})\n\u001b[1;32m     59\u001b[0m                    \u001b[39m.\u001b[39mstack()\n\u001b[1;32m     60\u001b[0m                    \u001b[39m.\u001b[39munstack()\n\u001b[1;32m     61\u001b[0m                    )\n\u001b[1;32m     62\u001b[0m     new_levi \u001b[39m=\u001b[39m new_levi_el\u001b[39m.\u001b[39mset_index([\u001b[39m\"\u001b[39m\u001b[39mindex\u001b[39m\u001b[39m\"\u001b[39m, \u001b[39m\"\u001b[39m\u001b[39mlevel_0\u001b[39m\u001b[39m\"\u001b[39m])\u001b[39m.\u001b[39msqueeze()\n\u001b[1;32m     63\u001b[0m     \u001b[39mreturn\u001b[39;00m new_levi\n",
      "File \u001b[0;32m/opt/miniconda3/envs/grabble/lib/python3.10/site-packages/pandas/core/frame.py:3813\u001b[0m, in \u001b[0;36mDataFrame.__getitem__\u001b[0;34m(self, key)\u001b[0m\n\u001b[1;32m   3811\u001b[0m     \u001b[39mif\u001b[39;00m is_iterator(key):\n\u001b[1;32m   3812\u001b[0m         key \u001b[39m=\u001b[39m \u001b[39mlist\u001b[39m(key)\n\u001b[0;32m-> 3813\u001b[0m     indexer \u001b[39m=\u001b[39m \u001b[39mself\u001b[39;49m\u001b[39m.\u001b[39;49mcolumns\u001b[39m.\u001b[39;49m_get_indexer_strict(key, \u001b[39m\"\u001b[39;49m\u001b[39mcolumns\u001b[39;49m\u001b[39m\"\u001b[39;49m)[\u001b[39m1\u001b[39m]\n\u001b[1;32m   3815\u001b[0m \u001b[39m# take() does not accept boolean indexers\u001b[39;00m\n\u001b[1;32m   3816\u001b[0m \u001b[39mif\u001b[39;00m \u001b[39mgetattr\u001b[39m(indexer, \u001b[39m\"\u001b[39m\u001b[39mdtype\u001b[39m\u001b[39m\"\u001b[39m, \u001b[39mNone\u001b[39;00m) \u001b[39m==\u001b[39m \u001b[39mbool\u001b[39m:\n",
      "File \u001b[0;32m/opt/miniconda3/envs/grabble/lib/python3.10/site-packages/pandas/core/indexes/base.py:6070\u001b[0m, in \u001b[0;36mIndex._get_indexer_strict\u001b[0;34m(self, key, axis_name)\u001b[0m\n\u001b[1;32m   6067\u001b[0m \u001b[39melse\u001b[39;00m:\n\u001b[1;32m   6068\u001b[0m     keyarr, indexer, new_indexer \u001b[39m=\u001b[39m \u001b[39mself\u001b[39m\u001b[39m.\u001b[39m_reindex_non_unique(keyarr)\n\u001b[0;32m-> 6070\u001b[0m \u001b[39mself\u001b[39;49m\u001b[39m.\u001b[39;49m_raise_if_missing(keyarr, indexer, axis_name)\n\u001b[1;32m   6072\u001b[0m keyarr \u001b[39m=\u001b[39m \u001b[39mself\u001b[39m\u001b[39m.\u001b[39mtake(indexer)\n\u001b[1;32m   6073\u001b[0m \u001b[39mif\u001b[39;00m \u001b[39misinstance\u001b[39m(key, Index):\n\u001b[1;32m   6074\u001b[0m     \u001b[39m# GH 42790 - Preserve name from an Index\u001b[39;00m\n",
      "File \u001b[0;32m/opt/miniconda3/envs/grabble/lib/python3.10/site-packages/pandas/core/indexes/base.py:6133\u001b[0m, in \u001b[0;36mIndex._raise_if_missing\u001b[0;34m(self, key, indexer, axis_name)\u001b[0m\n\u001b[1;32m   6130\u001b[0m     \u001b[39mraise\u001b[39;00m \u001b[39mKeyError\u001b[39;00m(\u001b[39mf\u001b[39m\u001b[39m\"\u001b[39m\u001b[39mNone of [\u001b[39m\u001b[39m{\u001b[39;00mkey\u001b[39m}\u001b[39;00m\u001b[39m] are in the [\u001b[39m\u001b[39m{\u001b[39;00maxis_name\u001b[39m}\u001b[39;00m\u001b[39m]\u001b[39m\u001b[39m\"\u001b[39m)\n\u001b[1;32m   6132\u001b[0m not_found \u001b[39m=\u001b[39m \u001b[39mlist\u001b[39m(ensure_index(key)[missing_mask\u001b[39m.\u001b[39mnonzero()[\u001b[39m0\u001b[39m]]\u001b[39m.\u001b[39munique())\n\u001b[0;32m-> 6133\u001b[0m \u001b[39mraise\u001b[39;00m \u001b[39mKeyError\u001b[39;00m(\u001b[39mf\u001b[39m\u001b[39m\"\u001b[39m\u001b[39m{\u001b[39;00mnot_found\u001b[39m}\u001b[39;00m\u001b[39m not in index\u001b[39m\u001b[39m\"\u001b[39m)\n",
      "\u001b[0;31mKeyError\u001b[0m: \"['level_1'] not in index\""
     ]
    }
   ],
   "source": [
    "another_new_levi = new_levi.levi.to_new_levi()\n",
    "another_new_levi\n"
   ]
  },
  {
   "attachments": {},
   "cell_type": "markdown",
   "metadata": {},
   "source": [
    "### testing out beartype definitions for our structures"
   ]
  },
  {
   "cell_type": "code",
   "execution_count": null,
   "metadata": {},
   "outputs": [],
   "source": [
    "from beartype import beartype\n",
    "from beartype.vale import Is, IsAttr, IsEqual, IsSubclass, IsInstance\n",
    "from typing import Annotated\n"
   ]
  },
  {
   "cell_type": "code",
   "execution_count": null,
   "metadata": {},
   "outputs": [],
   "source": [
    "series_2Dindex = Annotated[pd.Series,  # need this pd.Series?\n",
    "                           IsInstance[pd.Series] &\n",
    "                           IsAttr['index', IsInstance[pd.MultiIndex]]\n",
    "                           ]\n",
    "\n",
    "\n",
    "@beartype\n",
    "def validate_levi(obj: series_2Dindex):\n",
    "    print(\"passed Levi series validator\")\n",
    "\n",
    "\n",
    "validate_levi(levi_series)\n",
    "validate_levi(new_levi)\n"
   ]
  },
  {
   "cell_type": "code",
   "execution_count": null,
   "metadata": {},
   "outputs": [],
   "source": [
    "edgelist_dataframe = Annotated[pd.DataFrame,\n",
    "                               IsInstance[pd.DataFrame],\n",
    "                               Is[lambda el:\n",
    "                                  set(el.iloc[:, 0]) == set(el.iloc[:, 1])]]\n",
    "\n",
    "\n",
    "@beartype\n",
    "def validate_el(obj: edgelist_dataframe):\n",
    "    print(\"passed edgelist validator\")\n",
    "\n",
    "\n",
    "validate_el(el)\n"
   ]
  },
  {
   "cell_type": "code",
   "execution_count": null,
   "metadata": {},
   "outputs": [],
   "source": [
    "adjacency_dataframe = Annotated[pd.DataFrame,\n",
    "                                IsInstance[pd.DataFrame],\n",
    "                                Is[lambda adj:\n",
    "                                    adj.index.equals(adj.columns)],\n",
    "                                Is[lambda adj:\n",
    "                                    not np.diag(adj).any()]]\n",
    "\n",
    "\n",
    "@beartype\n",
    "def validate_adj(obj: adjacency_dataframe):\n",
    "    print(\"passed adjacency matrix validator\")\n",
    "\n",
    "\n",
    "validate_adj(adjacency_matrix)\n"
   ]
  },
  {
   "cell_type": "code",
   "execution_count": null,
   "metadata": {},
   "outputs": [],
   "source": [
    "biadjacency_matrix\n"
   ]
  },
  {
   "cell_type": "code",
   "execution_count": null,
   "metadata": {},
   "outputs": [],
   "source": [
    "biadjacency_dataframe = Annotated[pd.DataFrame,\n",
    "                                  IsInstance[pd.DataFrame],\n",
    "                                  ]\n",
    "\n",
    "\n",
    "@beartype\n",
    "def validate_biadj(obj: biadjacency_dataframe):\n",
    "    print(\"passed biadjacency matrix validator\")\n",
    "\n",
    "\n",
    "validate_biadj(biadjacency_matrix)\n"
   ]
  },
  {
   "attachments": {},
   "cell_type": "markdown",
   "metadata": {},
   "source": [
    "Say we have a biadjacency matrix, representing documents and terms."
   ]
  },
  {
   "cell_type": "code",
   "execution_count": null,
   "metadata": {},
   "outputs": [],
   "source": [
    "doc_term.index = doc_term.index.astype('category')\n",
    "doc_term.columns = doc_term.columns.astype('category')\n",
    "doc_term\n"
   ]
  },
  {
   "attachments": {},
   "cell_type": "markdown",
   "metadata": {},
   "source": [
    "...and we want to project this graph in a new way, where documents and terms are both the same \"type\" of thing, basically a new type of node which includes both. \n",
    "\n",
    "We want to create a **new levi graph**, where the nodes have been redefined."
   ]
  },
  {
   "cell_type": "code",
   "execution_count": null,
   "metadata": {},
   "outputs": [],
   "source": [
    "# Convert to Levi format\n",
    "levi_doc_term = doc_term.levi.biadjacency_to_levi()\n",
    "levi_doc_term\n"
   ]
  },
  {
   "cell_type": "code",
   "execution_count": null,
   "metadata": {},
   "outputs": [],
   "source": []
  },
  {
   "cell_type": "code",
   "execution_count": null,
   "metadata": {},
   "outputs": [],
   "source": [
    "levi_doc_term.levi.to_new_levi(level_0=\"index\",  level_1=\"variable\")\n"
   ]
  },
  {
   "attachments": {},
   "cell_type": "markdown",
   "metadata": {},
   "source": [
    "### Trying out Plum"
   ]
  },
  {
   "cell_type": "code",
   "execution_count": null,
   "metadata": {},
   "outputs": [],
   "source": [
    "# from plum import dispatch\n"
   ]
  },
  {
   "cell_type": "code",
   "execution_count": null,
   "metadata": {},
   "outputs": [],
   "source": [
    "# df_edgelist = Annotated[pd.Dataframe,  # need this pd.Series?\n",
    "#                         IsInstance[pd.Dataframe] &\n",
    "#                         # IsAttr['index', IsInstance[pd.MultiIndex]]\n",
    "#                                ]\n"
   ]
  },
  {
   "attachments": {},
   "cell_type": "markdown",
   "metadata": {},
   "source": [
    "**Scratchwork:**"
   ]
  },
  {
   "cell_type": "code",
   "execution_count": null,
   "metadata": {},
   "outputs": [],
   "source": [
    "# def to_new_levi(old_levi, level_0='level_0',  level_1='level_1'):\n",
    "#     el = old_levi.levi.to_edgelist()\n",
    "#     new_levi_el = (pd.concat([el[[level_0, \"flag\"]], el[[level_1, \"flag\"]]])\n",
    "#                         .reset_index()\n",
    "#                         .rename(columns={level_1: level_0})\n",
    "#                         .stack()\n",
    "#                         .unstack()\n",
    "#                     )\n",
    "#     new_levi = pd.Series(new_levi_el.flag)\n",
    "#     new_levi.index = (pd.MultiIndex.from_arrays(new_levi_el.values.T))\n",
    "#     return new_levi\n"
   ]
  },
  {
   "cell_type": "code",
   "execution_count": null,
   "metadata": {},
   "outputs": [],
   "source": [
    "# new_2 = pd.concat([el_1[[\"level_0\", \"flag\"]], el_1[[\"level_1\", \"flag\"]]]).reset_index().rename(columns={'level_1': 'level_0'}).stack().unstack()\n",
    "# # index2 = pd.MultiIndex(new_2[[\"index\", \"level_0\"]])\n",
    "# # index2\n",
    "# # new_2 = pd.Series(index=index2, data=new_2.flag)\n",
    "# # # new_2 = pd.MultiIndex(new_2['level_0'].fillna(new_2['level_1']))\n",
    "\n",
    "# foo = pd.Series(new_2.flag) #{\"C\":[100,200,300]}\n",
    "# foo.index = pd.MultiIndex.from_arrays(new_2.values.T)\n",
    "# foo\n",
    "# new_2\n"
   ]
  },
  {
   "cell_type": "code",
   "execution_count": null,
   "metadata": {},
   "outputs": [],
   "source": [
    "# type(new_2)\n"
   ]
  },
  {
   "cell_type": "code",
   "execution_count": null,
   "metadata": {},
   "outputs": [],
   "source": [
    "# Notes/code scratchwork from meeting on 3/16\n",
    "\n",
    "# edgelist\n",
    "# pd.concat([\n",
    "#     edgelist.set_index([edgelist.index, 'doc'])['flag'], #.notna(#.sum(axis=1))\n",
    "#     edgelist.set_index([edgelist.index, 'term'])['flag']\n",
    "# ]) #.index\n",
    "\n",
    "# pd.CategoricalDtype\n"
   ]
  },
  {
   "cell_type": "code",
   "execution_count": null,
   "metadata": {},
   "outputs": [],
   "source": [
    "# edgelist.set_index([edgelist.index, 'doc'])['flag'], #.notna(#.sum(axis=1))\n"
   ]
  },
  {
   "cell_type": "code",
   "execution_count": null,
   "metadata": {},
   "outputs": [],
   "source": [
    "\n",
    "# new_thing = pd.concat([\n",
    "#             edgelist.set_index([edgelist.index, 'doc']),\n",
    "#             edgelist.set_index([edgelist.index, 'term'])\n",
    "#             ]\n",
    "#     )\n",
    "\n",
    "\n",
    "# new_thing\n",
    "# projected_levi = pd.Series(new_thing[[str(data)]])\n",
    "# projected_levi\n"
   ]
  },
  {
   "cell_type": "code",
   "execution_count": null,
   "metadata": {},
   "outputs": [],
   "source": [
    "# def new_levi(og_levi, level_0 = 'level_0',  level_1 = 'level_1'):\n",
    "#     el = og_levi.levi.to_edgelist(level_0=level_0, level_1=level_1)\n",
    "#     print(el.columns)\n",
    "#     # new_index = pd.MultiIndex.from_arrays([el.index, list(zip(el.level_0, el.level_1))])\n",
    "#     new_levi = pd.concat([\n",
    "#             el.set_index([el.index, level_0]),\n",
    "#             el.set_index([el.index, level_1])\n",
    "#             ]\n",
    "#     )\n",
    "\n",
    "#     # new_levi = pd.Series(data=el.flag.values, index=new_index)\n",
    "#     new_levi = el.set_index([el.index, list(zip(el.level_0, el.level_1))])\n",
    "#     # new_levi = el.set_index([el.index, el.level_0])\n",
    "#     return new_levi\n",
    "\n",
    "# test_new_levi = new_levi(levi_series, level_0 = 'doc',  level_1 = 'term')\n",
    "# test_new_levi\n"
   ]
  },
  {
   "cell_type": "code",
   "execution_count": null,
   "metadata": {},
   "outputs": [],
   "source": [
    "# type(test_new_levi)\n"
   ]
  },
  {
   "cell_type": "code",
   "execution_count": null,
   "metadata": {},
   "outputs": [],
   "source": [
    "# test_new_levi.index\n"
   ]
  },
  {
   "cell_type": "code",
   "execution_count": null,
   "metadata": {},
   "outputs": [],
   "source": [
    "# import levi\n",
    "# from pandas import DataFrame\n",
    "\n",
    "# def to_adjacency(levi, level_0: str = \"level_0\", level_1: str = \"level_1\") -> DataFrame:\n",
    "#         # similar to nx.from_pandas_edgelist()\n",
    "#         # TODO: handle different names for level_0, level_1\n",
    "#         df = levi.to_frame().reset_index() # moves multiindex into columns\n",
    "#         A = pd.crosstab(df.level_0, df.level_1)\n",
    "#         # df2 = A.T @ A\n",
    "#         # np.fill_diagonal(df2.values, 0)\n",
    "#         # df2.index.name = None\n",
    "#         return A #df2\n",
    "\n",
    "# test_adj = to_adjacency(test_new_levi)\n",
    "# test_adj\n"
   ]
  },
  {
   "cell_type": "code",
   "execution_count": null,
   "metadata": {},
   "outputs": [],
   "source": [
    "# more notes\n",
    "from scipy.sparse import coo_array\n",
    "\n",
    "# A = coo_array(students@stuents.T)\n",
    "A = coo_array(coocc@coocc.T)\n",
    "# pd.Series.sparse.from_coo(A).unstack()\n",
    "# pd.Series(index= pd.MultiIndex.from_arrays([A.row, A.col]))\n"
   ]
  },
  {
   "cell_type": "code",
   "execution_count": null,
   "metadata": {},
   "outputs": [],
   "source": [
    "levi_series\n"
   ]
  },
  {
   "cell_type": "code",
   "execution_count": null,
   "metadata": {},
   "outputs": [],
   "source": [
    "# new_levi = edgelist.set_index(edgelist.index, edgelist.columns[0]) #.unstack()\n",
    "# # new_levi = edgelist.set_index(edgelist.index, edgelist.columns[0]) #.unstack()\n",
    "\n",
    "# new_levi\n"
   ]
  },
  {
   "attachments": {},
   "cell_type": "markdown",
   "metadata": {},
   "source": [
    "### Converting different formats to Levi"
   ]
  },
  {
   "cell_type": "code",
   "execution_count": null,
   "metadata": {},
   "outputs": [],
   "source": [
    "edgelist.levi.edgelist_to_levi()\n"
   ]
  },
  {
   "cell_type": "code",
   "execution_count": null,
   "metadata": {},
   "outputs": [],
   "source": [
    "coocc.levi.adjacency_to_levi()\n"
   ]
  },
  {
   "cell_type": "code",
   "execution_count": null,
   "metadata": {},
   "outputs": [],
   "source": [
    "adjacency_matrix.levi.adjacency_to_levi()\n"
   ]
  },
  {
   "cell_type": "code",
   "execution_count": null,
   "metadata": {},
   "outputs": [],
   "source": [
    "coocc.melt(ignore_index=False).squeeze()\n"
   ]
  },
  {
   "cell_type": "code",
   "execution_count": null,
   "metadata": {},
   "outputs": [],
   "source": [
    "biadjacency_matrix.levi.biadjacency_to_levi()\n"
   ]
  },
  {
   "cell_type": "code",
   "execution_count": null,
   "metadata": {},
   "outputs": [],
   "source": [
    "doc_term.levi.biadjacency_to_levi()\n"
   ]
  },
  {
   "cell_type": "code",
   "execution_count": null,
   "metadata": {},
   "outputs": [],
   "source": [
    "\n",
    "def adjacency_to_levi(adj):\n",
    "    levi = adj.melt(ignore_index=False).squeeze()\n",
    "    return levi\n",
    "\n",
    "\n",
    "adjacency_to_levi(adjacency_matrix)\n"
   ]
  },
  {
   "cell_type": "code",
   "execution_count": null,
   "metadata": {},
   "outputs": [],
   "source": [
    "el_og = edgelist\n",
    "el_og\n"
   ]
  },
  {
   "cell_type": "code",
   "execution_count": null,
   "metadata": {},
   "outputs": [],
   "source": [
    "levi_series\n"
   ]
  },
  {
   "cell_type": "code",
   "execution_count": null,
   "metadata": {},
   "outputs": [],
   "source": [
    "el_og.groupby(\"doc\").set_index()\n"
   ]
  },
  {
   "cell_type": "code",
   "execution_count": null,
   "metadata": {},
   "outputs": [],
   "source": [
    "def edgelist_to_levi(el):\n",
    "    # TODO\n",
    "    # levi to edgelist\n",
    "    nind = pd.MultiIndex()\n",
    "    levi = pd.Series.set_in\n",
    "    # edgelist_df = self._obj.reset_index().rename(\n",
    "    #     columns={\"level_0\": level_0, \"level_1\": level_1}\n",
    "    return self\n"
   ]
  },
  {
   "attachments": {},
   "cell_type": "markdown",
   "metadata": {},
   "source": [
    "### Converting between different formats, using Levi as common intermediate format"
   ]
  },
  {
   "cell_type": "code",
   "execution_count": null,
   "metadata": {},
   "outputs": [],
   "source": [
    "from levi import dataframe\n"
   ]
  },
  {
   "cell_type": "code",
   "execution_count": null,
   "metadata": {},
   "outputs": [],
   "source": []
  },
  {
   "cell_type": "code",
   "execution_count": null,
   "metadata": {},
   "outputs": [],
   "source": []
  },
  {
   "cell_type": "code",
   "execution_count": null,
   "metadata": {},
   "outputs": [],
   "source": [
    "adjacency_matrix.levi.adjacency_to_edgelist()\n"
   ]
  },
  {
   "cell_type": "code",
   "execution_count": null,
   "metadata": {},
   "outputs": [],
   "source": [
    "edgelist.levi.edgelist_to_biadjacency(\n",
    "    source_name=\"doc_ids\", target_name=\"tokens\")\n"
   ]
  },
  {
   "cell_type": "code",
   "execution_count": null,
   "metadata": {},
   "outputs": [],
   "source": []
  },
  {
   "cell_type": "code",
   "execution_count": null,
   "metadata": {},
   "outputs": [],
   "source": []
  },
  {
   "cell_type": "code",
   "execution_count": null,
   "metadata": {},
   "outputs": [],
   "source": [
    "def edgelist_to_incidence(edgelist, node_colname, value_colname=None):\n",
    "    \"\"\"assume edgelist is indexed by edge number, not some edge set of names (for now)\"\"\"\n",
    "    data = np.ones_like(\n",
    "        edgelist.index.values) if value_colname == None else edgelist[value_colname].values\n",
    "    # coo_array((data, (row_idx, col_idx)))\n",
    "    return sparse.coo_array((data, (edgelist.index, edgelist[node_colname].cat.codes)), shape=(edgelist.shape[0], len(edgelist[node_colname].cat.categories)))\n"
   ]
  },
  {
   "cell_type": "code",
   "execution_count": null,
   "metadata": {},
   "outputs": [],
   "source": [
    "inc = edgelist_to_incidence(edgelist, node_colname='term')\n",
    "print(inc)\n"
   ]
  },
  {
   "cell_type": "code",
   "execution_count": null,
   "metadata": {},
   "outputs": [],
   "source": [
    "# tuple_list = list(zip(coo_rows, coo_col_names, coo_matrix.data))\n",
    "tuple_list = list(zip(coo_rows, coo_col_names, ))\n",
    "tuple_list_w_data = [(*t, 1) for t in tuple_list]\n"
   ]
  },
  {
   "cell_type": "code",
   "execution_count": null,
   "metadata": {},
   "outputs": [],
   "source": [
    "import itertools\n",
    "row_index = dict(zip(tuple_list_w_data, itertools.count()))\n",
    "row_index\n"
   ]
  },
  {
   "cell_type": "code",
   "execution_count": null,
   "metadata": {},
   "outputs": [],
   "source": [
    "# array_x = nx.algorithms.bipartite.biadjacency_matrix(graph, row_order=tuple_list_w_data)\n",
    "# array_x\n"
   ]
  },
  {
   "cell_type": "code",
   "execution_count": null,
   "metadata": {},
   "outputs": [],
   "source": [
    "# Make sure pandas categorical works with ints\n",
    "#   - in nb, ss example has index as ints, not categoricals\n",
    "#   - pandas_categoricals\n"
   ]
  },
  {
   "cell_type": "code",
   "execution_count": null,
   "metadata": {},
   "outputs": [],
   "source": [
    "coo.unstack(level=1, )\n"
   ]
  },
  {
   "cell_type": "code",
   "execution_count": null,
   "metadata": {},
   "outputs": [],
   "source": [
    "type(coocc)\n"
   ]
  },
  {
   "cell_type": "code",
   "execution_count": null,
   "metadata": {},
   "outputs": [],
   "source": [
    "import levi\n",
    "\n",
    "coo.levi\n"
   ]
  },
  {
   "attachments": {},
   "cell_type": "markdown",
   "metadata": {},
   "source": [
    "For now, assume \"input\" is a doc-term matrix"
   ]
  },
  {
   "cell_type": "code",
   "execution_count": null,
   "metadata": {},
   "outputs": [],
   "source": [
    "# from affinity-to-edge\n",
    "\n",
    "def affinity_to_edge(source_name,  # type: str\n",
    "                     target_name,  # type: str\n",
    "                     affinity,  # type: DF\n",
    "                     value_name=None  # type: Optional[str]\n",
    "                     ):\n",
    "    # type: (...) -> DF\n",
    "    \"\"\"DEPRECATED\"\"\"\n",
    "    return (affinity.reset_index().melt(source_name, value_name=value_name, var_name=target_name).query('weight>0'))\n"
   ]
  },
  {
   "cell_type": "code",
   "execution_count": null,
   "metadata": {},
   "outputs": [],
   "source": [
    "doc_term.columns.dtype\n"
   ]
  },
  {
   "attachments": {},
   "cell_type": "markdown",
   "metadata": {},
   "source": [
    "### Testing dataframe accessor"
   ]
  },
  {
   "cell_type": "code",
   "execution_count": null,
   "metadata": {},
   "outputs": [],
   "source": [
    "# ba = edgelist.levi.edgelist_to_biadjacency()\n",
    "# ba\n"
   ]
  },
  {
   "attachments": {},
   "cell_type": "markdown",
   "metadata": {},
   "source": [
    "## pandas-flavor\n",
    "\n",
    "https://github.com/pyjanitor-devs/pandas_flavor   \n",
    "another approach to extending pandas for levi?"
   ]
  },
  {
   "cell_type": "code",
   "execution_count": null,
   "metadata": {},
   "outputs": [],
   "source": [
    "# example code using pandas-flavor\n",
    "\n",
    "# def add_method(key, val, fn_name=None):\n",
    "#     def fn(df):\n",
    "#         return df.loc[df[key] == val]\n",
    "\n",
    "#     if fn_name is None:\n",
    "#         fn_name = f'{key}_{val}'\n",
    "\n",
    "#     fn.__name__ = fn_name\n",
    "#     fn = pf.register_dataframe_method(fn)\n",
    "#     return fn\n",
    "\n",
    "# for name1 in ['john', 'lisa']:\n",
    "#     add_method('name1', name1)\n",
    "\n",
    "# for name2 in ['fay', 'meg', 'wil']:\n",
    "#     add_method('name2', name2)\n",
    "\n",
    "\n",
    "# # OR, another approach:\n",
    "\n",
    "# @pf.register_dataframe_method\n",
    "# def name1(df, val):\n",
    "#     return df.loc[df['name1'] == val]\n",
    "\n",
    "# @pf.register_dataframe_method\n",
    "# def name2(df, val):\n",
    "#     return df.loc[df['name2'] == val]\n",
    "\n",
    "# test.name1('lisa')\n",
    "# #   name1 name2  scoreA  scoreB\n",
    "# # 1  lisa   wil    9.67    8.87\n",
    "# # 2  lisa   fay    3.41    5.04\n",
    "# # 3  lisa   wil    0.58    6.12\n",
    "\n",
    "# test.name1('lisa').name2('wil')\n",
    "# #   name1 name2  scoreA  scoreB\n",
    "# # 1  lisa   wil    9.67    8.87\n",
    "# # 3  lisa   wil    0.58    6.12\n"
   ]
  },
  {
   "attachments": {},
   "cell_type": "markdown",
   "metadata": {},
   "source": [
    "### Type validation, `beartype` stuff (mostly scratchwork)"
   ]
  },
  {
   "cell_type": "code",
   "execution_count": null,
   "metadata": {},
   "outputs": [],
   "source": [
    "from beartype import beartype\n",
    "from beartype import typing as bt\n",
    "from beartype.door import TypeHint as th\n",
    "\n",
    "from typing_extensions import NamedTuple\n",
    "# import static_frame as sf\n",
    "\n",
    "from dataclasses import dataclass, InitVar\n",
    "import networkx as nx\n",
    "# from typing import NamedTuple\n",
    "from IPython.display import display\n",
    "import numpy as np\n",
    "from numpy.typing import DTypeLike\n"
   ]
  },
  {
   "cell_type": "code",
   "execution_count": null,
   "metadata": {},
   "outputs": [],
   "source": [
    "from beartype import beartype\n",
    "from beartype.vale import IsAttr, IsEqual, IsSubclass, IsInstance\n",
    "from typing import Annotated\n"
   ]
  },
  {
   "cell_type": "code",
   "execution_count": null,
   "metadata": {},
   "outputs": [],
   "source": [
    "# Type hint matching only two-dimensional NumPy arrays of floats of\n",
    "# arbitrary precision. This time, do it faster than anyone has ever\n",
    "# type-checked NumPy arrays before. (Cue sonic boom, Chuck Yeager.)\n",
    "import numpy as np\n",
    "Numpy2DFloatArray = Annotated[np.ndarray,\n",
    "                              IsAttr['ndim', IsEqual[2]] &\n",
    "                              IsAttr['dtype', IsAttr['type',\n",
    "                                                     IsSubclass[np.floating]]]\n",
    "                              ]\n"
   ]
  },
  {
   "cell_type": "code",
   "execution_count": null,
   "metadata": {},
   "outputs": [],
   "source": [
    "levi_series.index\n"
   ]
  },
  {
   "cell_type": "code",
   "execution_count": null,
   "metadata": {},
   "outputs": [],
   "source": [
    "series_2Dindex = Annotated[pd.Series,  # need this Series?\n",
    "                           IsInstance[pd.Series] &\n",
    "                           IsAttr['index', IsInstance[pd.MultiIndex]]\n",
    "                           ]\n"
   ]
  },
  {
   "cell_type": "code",
   "execution_count": null,
   "metadata": {},
   "outputs": [],
   "source": [
    "@beartype\n",
    "def test_series_stuff(levi: series_2Dindex):\n",
    "    print(\"*** TEST ***\")\n",
    "\n",
    "\n",
    "test_series_stuff(levi_series)\n"
   ]
  },
  {
   "cell_type": "code",
   "execution_count": null,
   "metadata": {},
   "outputs": [],
   "source": [
    "test_series_stuff(edgelist)\n"
   ]
  },
  {
   "cell_type": "code",
   "execution_count": null,
   "metadata": {},
   "outputs": [],
   "source": [
    "test_series_stuff(levi)\n"
   ]
  },
  {
   "cell_type": "code",
   "execution_count": null,
   "metadata": {},
   "outputs": [],
   "source": [
    "from phantom import Phantom\n",
    "from phantom.predicates import Predicate\n",
    "import beartype.typing as bt\n",
    "from beartype.door import is_bearable\n"
   ]
  },
  {
   "cell_type": "code",
   "execution_count": null,
   "metadata": {},
   "outputs": [],
   "source": [
    "def of_beartype(t: bt.Union[type, bt.Tuple[type, ...]]) -> Predicate[object]:\n",
    "    \"\"\" From `phantom.predicates.generic.of_type`\n",
    "\n",
    "    Create a new predicate that succeeds when its argument is bearable on ``t``.\n",
    "    \"\"\"\n",
    "\n",
    "    def check(a: object) -> bool:\n",
    "        return is_bearable(a, t)\n",
    "\n",
    "    return check\n"
   ]
  },
  {
   "cell_type": "code",
   "execution_count": null,
   "metadata": {},
   "outputs": [],
   "source": [
    "# chck = of_beartype(coo)\n",
    "# chck(coo)\n"
   ]
  },
  {
   "cell_type": "code",
   "execution_count": null,
   "metadata": {},
   "outputs": [],
   "source": [
    "# beartype sample code\n",
    "\n",
    "# Annotate @beartype-decorated callables with beartype validators.\n",
    "@beartype\n",
    "def polygon_area(polygon: Numpy2DFloatArray) -> float:\n",
    "    '''\n",
    "    Area of a two-dimensional polygon of floats defined as a set of\n",
    "    counter-clockwise points, calculated via Green's theorem.\n",
    "\n",
    "    *Don't ask.*\n",
    "    '''\n",
    "\n",
    "    # Calculate and return the desired area. Pretend we understand this.\n",
    "    polygon_rolled = np.roll(polygon, -1, axis=0)\n",
    "    return np.abs(0.5*np.sum(\n",
    "        polygon[:, 0]*polygon_rolled[:, 1] -\n",
    "        polygon_rolled[:, 0]*polygon[:, 1]))\n"
   ]
  },
  {
   "cell_type": "code",
   "execution_count": null,
   "metadata": {},
   "outputs": [],
   "source": [
    "from beartype.vale import IsInstance\n",
    "\n",
    "\n",
    "class Token(str):\n",
    "    ...\n",
    "\n",
    "\n",
    "@beartype\n",
    "class Tester(bt.Annotated[str, IsInstance[Token]]):\n",
    "    ...\n",
    "\n",
    "\n",
    "isinstance(Tester('abc'), Token)\n"
   ]
  },
  {
   "cell_type": "code",
   "execution_count": null,
   "metadata": {},
   "outputs": [],
   "source": [
    "# # Import the requisite machinery.\n",
    "# from beartype.vale import Is\n",
    "# from typing import Annotated   # <--------------- if Python ≥ 3.9.0\n",
    "\n",
    "# # Type hint matching only strings with lengths ranging [4, 40].\n",
    "# LengthyString = Annotated[str, Is[lambda text: 4 <= len(text) <= 40]]\n",
    "\n",
    "# test_typing = Annotated[pd.Series, Is[pd.Series]]\n",
    "# test_typing\n"
   ]
  },
  {
   "cell_type": "code",
   "execution_count": null,
   "metadata": {},
   "outputs": [],
   "source": [
    "# ids = ('id-student', 'id-project')\n",
    "\n",
    "# testing = doc_term.reset_index().melt(0, value_name=\"brown\", ).query('weight>0')   #var_name=target_name\n",
    "# testing\n"
   ]
  },
  {
   "cell_type": "code",
   "execution_count": null,
   "metadata": {},
   "outputs": [],
   "source": [
    "# pd.DataFrame.melt\n",
    "\n",
    "# testing = doc_term.reset_index().melt(source_name, value_name=value_name, var_name=target_name).query('weight>0')\n",
    "# testing\n"
   ]
  },
  {
   "cell_type": "markdown",
   "metadata": {},
   "source": [
    "### Plotting Graphs\n",
    "Plan to eventually add functionality in Grabble to easily plug into packages for easy plotting, compatable with the Levi-format workflow. Notworkx and Hypernetx are two options."
   ]
  },
  {
   "cell_type": "code",
   "execution_count": null,
   "metadata": {},
   "outputs": [],
   "source": [
    "new_graph = new_levi.levi.to_biadjacency\n",
    "\n",
    "graph = nx.algorithms.bipartite.from_biadjacency_matrix(new_graph)\n",
    "sets = nx.get_node_attributes(graph, name=\"bipartite\")\n",
    "colors = {0: 'gold', 1: 'lightskyblue'}\n",
    "\n",
    "nx.draw(graph, with_labels=True, node_color=[colors[node[1]['bipartite']]\n",
    "                                             for node in graph.nodes(data=True)])\n"
   ]
  },
  {
   "cell_type": "code",
   "execution_count": null,
   "metadata": {},
   "outputs": [],
   "source": [
    "coo_matrix\n"
   ]
  },
  {
   "cell_type": "code",
   "execution_count": null,
   "metadata": {},
   "outputs": [],
   "source": [
    "graph = nx.algorithms.bipartite.from_biadjacency_matrix(coo_matrix)\n",
    "sets = nx.get_node_attributes(graph, name=\"bipartite\")\n",
    "colors = {0: 'gold', 1: 'lightskyblue'}\n",
    "\n",
    "nx.draw(graph, with_labels=True, node_color=[colors[node[1]['bipartite']]\n",
    "                                             for node in graph.nodes(data=True)])\n"
   ]
  },
  {
   "cell_type": "code",
   "execution_count": null,
   "metadata": {},
   "outputs": [],
   "source": [
    "graph.edges()\n"
   ]
  },
  {
   "cell_type": "code",
   "execution_count": null,
   "metadata": {},
   "outputs": [],
   "source": [
    "# Plotting with HyperNetx\n",
    "import hypernetx as hnx\n"
   ]
  },
  {
   "cell_type": "code",
   "execution_count": null,
   "metadata": {},
   "outputs": [],
   "source": [
    "term_doc = doc_term.T\n"
   ]
  },
  {
   "cell_type": "code",
   "execution_count": null,
   "metadata": {},
   "outputs": [],
   "source": [
    "# *HNX* hypergraphs can be built from networkx bipartite graph objects using `from_bipartite`\n",
    "H = hnx.Hypergraph.from_dataframe(term_doc)\n"
   ]
  },
  {
   "cell_type": "code",
   "execution_count": null,
   "metadata": {},
   "outputs": [],
   "source": [
    "hnx.drawing.draw(H)\n"
   ]
  },
  {
   "cell_type": "code",
   "execution_count": null,
   "metadata": {},
   "outputs": [],
   "source": []
  },
  {
   "cell_type": "code",
   "execution_count": null,
   "metadata": {},
   "outputs": [],
   "source": []
  }
 ],
 "metadata": {
  "kernelspec": {
   "display_name": "grabble",
   "language": "python",
   "name": "python3"
  },
  "language_info": {
   "codemirror_mode": {
    "name": "ipython",
    "version": 3
   },
   "file_extension": ".py",
   "mimetype": "text/x-python",
   "name": "python",
   "nbconvert_exporter": "python",
   "pygments_lexer": "ipython3",
   "version": "3.10.10"
  },
  "orig_nbformat": 4,
  "vscode": {
   "interpreter": {
    "hash": "12bdaef2ce4d129157466fc7dc933fb3ecbffac9422f744ddb54af02cb04aaa5"
   }
  }
 },
 "nbformat": 4,
 "nbformat_minor": 2
}
